{
 "cells": [
  {
   "cell_type": "code",
   "execution_count": 32,
   "metadata": {},
   "outputs": [
    {
     "name": "stdout",
     "output_type": "stream",
     "text": [
      "true\n",
      "Successfully loaded Singular\n"
     ]
    }
   ],
   "source": [
    "#Import packages\n",
    "\n",
    "import matplotlib.pyplot as plt\n",
    "import random\n",
    "import numpy as np\n",
    "load('NumericalSemigroup.sage')\n"
   ]
  },
  {
   "cell_type": "code",
   "execution_count": 33,
   "metadata": {},
   "outputs": [
    {
     "name": "stdout",
     "output_type": "stream",
     "text": [
      "43\n",
      "[20, 24, 25, 26, 27, 28, 29, 30, 31, 32, 33, 34, 35, 36, 37, 38, 39, 40, 41, 42, 43, 44, 45, 46, 47, 48, 49, 50, 51, 52, 53, 54, 55, 56, 57, 58, 59, 60, 61, 62]\n",
      "{1, 4}\n",
      "70\n",
      "7\n"
     ]
    },
    {
     "data": {
      "text/plain": [
       "[8, 3, 1, 6, 4]"
      ]
     },
     "execution_count": 33,
     "metadata": {},
     "output_type": "execute_result"
    }
   ],
   "source": [
    "#Test NumericalSemigroup Package\n",
    "McNuggets = NumericalSemigroup([6,9,20])\n",
    "print(McNuggets.FrobeniusNumber())\n",
    "print(McNuggets.LengthSet(400))\n",
    "print(McNuggets.DeltaSet(400))\n",
    "print(McNuggets.OmegaPrimality(400))\n",
    "print(McNuggets.CatenaryDegree(400))\n",
    "load('KunzPoset.sage')\n",
    "load('PlotKunzPoset.sage')\n",
    "PlotKunzPoset([6,9,20])\n",
    "PlotKunzPoset([5,6,9])\n",
    "McNuggets.KunzCoordinates()\n"
   ]
  },
  {
   "cell_type": "code",
   "execution_count": 34,
   "metadata": {},
   "outputs": [
    {
     "data": {
      "text/plain": [
       "[6, 9, 20]"
      ]
     },
     "execution_count": 34,
     "metadata": {},
     "output_type": "execute_result"
    }
   ],
   "source": [
    "NumericalSemigroup([6,9,20]).gens"
   ]
  },
  {
   "cell_type": "code",
   "execution_count": 35,
   "metadata": {},
   "outputs": [],
   "source": [
    "# Estimate function in Expected Frobenious numbers\n",
    "def estimate(generators, n):\n",
    "    return ((factorial(n - 1) * prod(generators)) ^ (1 / (n - 1))).n()\n",
    "\n",
    "# Generates random sample using erdos-renyi model \n",
    "def generate_sample(M, p, sample_size):\n",
    "    semigroups = []\n",
    "    for j in range(sample_size):\n",
    "        generators = []\n",
    "        for i in range(M):\n",
    "            if random.random() < p:\n",
    "                generators.append(i)\n",
    "        if gcd(generators) != 1:\n",
    "            continue\n",
    "        semigroups.append(NumericalSemigroup(generators))\n",
    "    return semigroups\n",
    "             \n",
    "def frobenius_numbers(semigroups):\n",
    "    return [semigroup.FrobeniusNumber() for semigroup in semigroups]\n",
    "\n",
    "def embedding_dims(semigroups):\n",
    "    return [len(semigroup.gens) for semigroup in semigroups]\n",
    "\n"
   ]
  },
  {
   "cell_type": "code",
   "execution_count": 36,
   "metadata": {},
   "outputs": [
    {
     "ename": "KeyboardInterrupt",
     "evalue": "Ctrl-c pressed while running Gap",
     "output_type": "error",
     "traceback": [
      "\u001b[0;31m---------------------------------------------------------------------------\u001b[0m",
      "\u001b[0;31mAttributeError\u001b[0m                            Traceback (most recent call last)",
      "\u001b[0;32m/usr/lib/python3/dist-packages/sage/interfaces/interface.py\u001b[0m in \u001b[0;36m_repr_\u001b[0;34m(self)\u001b[0m\n\u001b[1;32m   1208\u001b[0m         \u001b[0;32mtry\u001b[0m\u001b[0;34m:\u001b[0m\u001b[0;34m\u001b[0m\u001b[0;34m\u001b[0m\u001b[0m\n\u001b[0;32m-> 1209\u001b[0;31m             \u001b[0;32mif\u001b[0m \u001b[0mself\u001b[0m\u001b[0;34m.\u001b[0m\u001b[0m_get_using_file\u001b[0m\u001b[0;34m:\u001b[0m\u001b[0;34m\u001b[0m\u001b[0;34m\u001b[0m\u001b[0m\n\u001b[0m\u001b[1;32m   1210\u001b[0m                 \u001b[0;32mreturn\u001b[0m \u001b[0mP\u001b[0m\u001b[0;34m.\u001b[0m\u001b[0mget_using_file\u001b[0m\u001b[0;34m(\u001b[0m\u001b[0mself\u001b[0m\u001b[0;34m.\u001b[0m\u001b[0m_name\u001b[0m\u001b[0;34m)\u001b[0m\u001b[0;34m.\u001b[0m\u001b[0mrstrip\u001b[0m\u001b[0;34m(\u001b[0m\u001b[0;34m)\u001b[0m\u001b[0;34m\u001b[0m\u001b[0;34m\u001b[0m\u001b[0m\n",
      "\u001b[0;32m/usr/lib/python3/dist-packages/sage/interfaces/interface.py\u001b[0m in \u001b[0;36m__getattr__\u001b[0;34m(self, attrname)\u001b[0m\n\u001b[1;32m   1219\u001b[0m         \u001b[0;32mif\u001b[0m \u001b[0mattrname\u001b[0m\u001b[0;34m[\u001b[0m\u001b[0;34m:\u001b[0m\u001b[0;36m1\u001b[0m\u001b[0;34m]\u001b[0m \u001b[0;34m==\u001b[0m \u001b[0;34m\"_\"\u001b[0m\u001b[0;34m:\u001b[0m\u001b[0;34m\u001b[0m\u001b[0;34m\u001b[0m\u001b[0m\n\u001b[0;32m-> 1220\u001b[0;31m             \u001b[0;32mraise\u001b[0m \u001b[0mAttributeError\u001b[0m\u001b[0;34m\u001b[0m\u001b[0;34m\u001b[0m\u001b[0m\n\u001b[0m\u001b[1;32m   1221\u001b[0m         \u001b[0;32mreturn\u001b[0m \u001b[0mP\u001b[0m\u001b[0;34m.\u001b[0m\u001b[0m_function_element_class\u001b[0m\u001b[0;34m(\u001b[0m\u001b[0;34m)\u001b[0m\u001b[0;34m(\u001b[0m\u001b[0mself\u001b[0m\u001b[0;34m,\u001b[0m \u001b[0mattrname\u001b[0m\u001b[0;34m)\u001b[0m\u001b[0;34m\u001b[0m\u001b[0;34m\u001b[0m\u001b[0m\n",
      "\u001b[0;31mAttributeError\u001b[0m: ",
      "\nDuring handling of the above exception, another exception occurred:\n",
      "\u001b[0;31mKeyboardInterrupt\u001b[0m                         Traceback (most recent call last)",
      "\u001b[0;32m/usr/lib/python3/dist-packages/sage/interfaces/gap.py\u001b[0m in \u001b[0;36m_eval_line\u001b[0;34m(self, line, allow_use_file, wait_for_prompt, restart_if_needed)\u001b[0m\n\u001b[1;32m    657\u001b[0m \u001b[0;34m\u001b[0m\u001b[0m\n\u001b[0;32m--> 658\u001b[0;31m             (normal, error) = self._execute_line(line, wait_for_prompt=wait_for_prompt,\n\u001b[0m\u001b[1;32m    659\u001b[0m                                                  expect_eof=expect_eof)\n",
      "\u001b[0;32m/usr/lib/python3/dist-packages/sage/interfaces/gap.py\u001b[0m in \u001b[0;36m_execute_line\u001b[0;34m(self, line, wait_for_prompt, expect_eof)\u001b[0m\n\u001b[1;32m    523\u001b[0m             \u001b[0;32mwhile\u001b[0m \u001b[0;32mTrue\u001b[0m\u001b[0;34m:\u001b[0m\u001b[0;34m\u001b[0m\u001b[0;34m\u001b[0m\u001b[0m\n\u001b[0;32m--> 524\u001b[0;31m                 \u001b[0mx\u001b[0m \u001b[0;34m=\u001b[0m \u001b[0mE\u001b[0m\u001b[0;34m.\u001b[0m\u001b[0mexpect_list\u001b[0m\u001b[0;34m(\u001b[0m\u001b[0mself\u001b[0m\u001b[0;34m.\u001b[0m\u001b[0m_compiled_full_pattern\u001b[0m\u001b[0;34m)\u001b[0m\u001b[0;34m\u001b[0m\u001b[0;34m\u001b[0m\u001b[0m\n\u001b[0m\u001b[1;32m    525\u001b[0m                 \u001b[0mcurrent_outputs\u001b[0m\u001b[0;34m.\u001b[0m\u001b[0mappend\u001b[0m\u001b[0;34m(\u001b[0m\u001b[0mE\u001b[0m\u001b[0;34m.\u001b[0m\u001b[0mbefore\u001b[0m\u001b[0;34m)\u001b[0m\u001b[0;34m\u001b[0m\u001b[0;34m\u001b[0m\u001b[0m\n",
      "\u001b[0;32m/usr/lib/python3/dist-packages/pexpect/spawnbase.py\u001b[0m in \u001b[0;36mexpect_list\u001b[0;34m(self, pattern_list, timeout, searchwindowsize, async_, **kw)\u001b[0m\n\u001b[1;32m    371\u001b[0m         \u001b[0;32melse\u001b[0m\u001b[0;34m:\u001b[0m\u001b[0;34m\u001b[0m\u001b[0;34m\u001b[0m\u001b[0m\n\u001b[0;32m--> 372\u001b[0;31m             \u001b[0;32mreturn\u001b[0m \u001b[0mexp\u001b[0m\u001b[0;34m.\u001b[0m\u001b[0mexpect_loop\u001b[0m\u001b[0;34m(\u001b[0m\u001b[0mtimeout\u001b[0m\u001b[0;34m)\u001b[0m\u001b[0;34m\u001b[0m\u001b[0;34m\u001b[0m\u001b[0m\n\u001b[0m\u001b[1;32m    373\u001b[0m \u001b[0;34m\u001b[0m\u001b[0m\n",
      "\u001b[0;32m/usr/lib/python3/dist-packages/pexpect/expect.py\u001b[0m in \u001b[0;36mexpect_loop\u001b[0;34m(self, timeout)\u001b[0m\n\u001b[1;32m    168\u001b[0m                 \u001b[0;31m# Still have time left, so read more data\u001b[0m\u001b[0;34m\u001b[0m\u001b[0;34m\u001b[0m\u001b[0m\n\u001b[0;32m--> 169\u001b[0;31m                 \u001b[0mincoming\u001b[0m \u001b[0;34m=\u001b[0m \u001b[0mspawn\u001b[0m\u001b[0;34m.\u001b[0m\u001b[0mread_nonblocking\u001b[0m\u001b[0;34m(\u001b[0m\u001b[0mspawn\u001b[0m\u001b[0;34m.\u001b[0m\u001b[0mmaxread\u001b[0m\u001b[0;34m,\u001b[0m \u001b[0mtimeout\u001b[0m\u001b[0;34m)\u001b[0m\u001b[0;34m\u001b[0m\u001b[0;34m\u001b[0m\u001b[0m\n\u001b[0m\u001b[1;32m    170\u001b[0m                 \u001b[0;32mif\u001b[0m \u001b[0mself\u001b[0m\u001b[0;34m.\u001b[0m\u001b[0mspawn\u001b[0m\u001b[0;34m.\u001b[0m\u001b[0mdelayafterread\u001b[0m \u001b[0;32mis\u001b[0m \u001b[0;32mnot\u001b[0m \u001b[0;32mNone\u001b[0m\u001b[0;34m:\u001b[0m\u001b[0;34m\u001b[0m\u001b[0;34m\u001b[0m\u001b[0m\n",
      "\u001b[0;32m/usr/lib/python3/dist-packages/pexpect/pty_spawn.py\u001b[0m in \u001b[0;36mread_nonblocking\u001b[0;34m(self, size, timeout)\u001b[0m\n\u001b[1;32m    464\u001b[0m                 \u001b[0;32mraise\u001b[0m\u001b[0;34m\u001b[0m\u001b[0;34m\u001b[0m\u001b[0m\n\u001b[0;32m--> 465\u001b[0;31m             \u001b[0;32mwhile\u001b[0m \u001b[0mlen\u001b[0m\u001b[0;34m(\u001b[0m\u001b[0mincoming\u001b[0m\u001b[0;34m)\u001b[0m \u001b[0;34m<\u001b[0m \u001b[0msize\u001b[0m \u001b[0;32mand\u001b[0m \u001b[0mselect\u001b[0m\u001b[0;34m(\u001b[0m\u001b[0;36m0\u001b[0m\u001b[0;34m)\u001b[0m\u001b[0;34m:\u001b[0m\u001b[0;34m\u001b[0m\u001b[0;34m\u001b[0m\u001b[0m\n\u001b[0m\u001b[1;32m    466\u001b[0m                 \u001b[0;32mtry\u001b[0m\u001b[0;34m:\u001b[0m\u001b[0;34m\u001b[0m\u001b[0;34m\u001b[0m\u001b[0m\n",
      "\u001b[0;32m/usr/lib/python3/dist-packages/pexpect/pty_spawn.py\u001b[0m in \u001b[0;36mselect\u001b[0;34m(timeout)\u001b[0m\n\u001b[1;32m    449\u001b[0m             \u001b[0;32mdef\u001b[0m \u001b[0mselect\u001b[0m\u001b[0;34m(\u001b[0m\u001b[0mtimeout\u001b[0m\u001b[0;34m)\u001b[0m\u001b[0;34m:\u001b[0m\u001b[0;34m\u001b[0m\u001b[0;34m\u001b[0m\u001b[0m\n\u001b[0;32m--> 450\u001b[0;31m                 \u001b[0;32mreturn\u001b[0m \u001b[0mselect_ignore_interrupts\u001b[0m\u001b[0;34m(\u001b[0m\u001b[0;34m[\u001b[0m\u001b[0mself\u001b[0m\u001b[0;34m.\u001b[0m\u001b[0mchild_fd\u001b[0m\u001b[0;34m]\u001b[0m\u001b[0;34m,\u001b[0m \u001b[0;34m[\u001b[0m\u001b[0;34m]\u001b[0m\u001b[0;34m,\u001b[0m \u001b[0;34m[\u001b[0m\u001b[0;34m]\u001b[0m\u001b[0;34m,\u001b[0m \u001b[0mtimeout\u001b[0m\u001b[0;34m)\u001b[0m\u001b[0;34m[\u001b[0m\u001b[0;36m0\u001b[0m\u001b[0;34m]\u001b[0m\u001b[0;34m\u001b[0m\u001b[0;34m\u001b[0m\u001b[0m\n\u001b[0m\u001b[1;32m    451\u001b[0m \u001b[0;34m\u001b[0m\u001b[0m\n",
      "\u001b[0;32m/usr/lib/python3/dist-packages/pexpect/utils.py\u001b[0m in \u001b[0;36mselect_ignore_interrupts\u001b[0;34m(iwtd, owtd, ewtd, timeout)\u001b[0m\n\u001b[1;32m    142\u001b[0m         \u001b[0;32mtry\u001b[0m\u001b[0;34m:\u001b[0m\u001b[0;34m\u001b[0m\u001b[0;34m\u001b[0m\u001b[0m\n\u001b[0;32m--> 143\u001b[0;31m             \u001b[0;32mreturn\u001b[0m \u001b[0mselect\u001b[0m\u001b[0;34m.\u001b[0m\u001b[0mselect\u001b[0m\u001b[0;34m(\u001b[0m\u001b[0miwtd\u001b[0m\u001b[0;34m,\u001b[0m \u001b[0mowtd\u001b[0m\u001b[0;34m,\u001b[0m \u001b[0mewtd\u001b[0m\u001b[0;34m,\u001b[0m \u001b[0mtimeout\u001b[0m\u001b[0;34m)\u001b[0m\u001b[0;34m\u001b[0m\u001b[0;34m\u001b[0m\u001b[0m\n\u001b[0m\u001b[1;32m    144\u001b[0m         \u001b[0;32mexcept\u001b[0m \u001b[0mInterruptedError\u001b[0m\u001b[0;34m:\u001b[0m\u001b[0;34m\u001b[0m\u001b[0;34m\u001b[0m\u001b[0m\n",
      "\u001b[0;32msrc/cysignals/signals.pyx\u001b[0m in \u001b[0;36mcysignals.signals.python_check_interrupt\u001b[0;34m()\u001b[0m\n",
      "\u001b[0;31mKeyboardInterrupt\u001b[0m: ",
      "\nDuring handling of the above exception, another exception occurred:\n",
      "\u001b[0;31mKeyboardInterrupt\u001b[0m                         Traceback (most recent call last)",
      "\u001b[0;32m/tmp/ipykernel_6048/2343038043.py\u001b[0m in \u001b[0;36m<module>\u001b[0;34m\u001b[0m\n\u001b[0;32m----> 1\u001b[0;31m \u001b[0msemigroups1\u001b[0m \u001b[0;34m=\u001b[0m \u001b[0mgenerate_sample\u001b[0m\u001b[0;34m(\u001b[0m\u001b[0mInteger\u001b[0m\u001b[0;34m(\u001b[0m\u001b[0;36m25000\u001b[0m\u001b[0;34m)\u001b[0m\u001b[0;34m,\u001b[0m \u001b[0mRealNumber\u001b[0m\u001b[0;34m(\u001b[0m\u001b[0;34m'0.01'\u001b[0m\u001b[0;34m)\u001b[0m\u001b[0;34m,\u001b[0m \u001b[0mInteger\u001b[0m\u001b[0;34m(\u001b[0m\u001b[0;36m1000\u001b[0m\u001b[0;34m)\u001b[0m\u001b[0;34m)\u001b[0m\u001b[0;34m\u001b[0m\u001b[0;34m\u001b[0m\u001b[0m\n\u001b[0m",
      "\u001b[0;32m/tmp/ipykernel_6048/565704761.py\u001b[0m in \u001b[0;36mgenerate_sample\u001b[0;34m(M, p, sample_size)\u001b[0m\n\u001b[1;32m     13\u001b[0m         \u001b[0;32mif\u001b[0m \u001b[0mgcd\u001b[0m\u001b[0;34m(\u001b[0m\u001b[0mgenerators\u001b[0m\u001b[0;34m)\u001b[0m \u001b[0;34m!=\u001b[0m \u001b[0mInteger\u001b[0m\u001b[0;34m(\u001b[0m\u001b[0;36m1\u001b[0m\u001b[0;34m)\u001b[0m\u001b[0;34m:\u001b[0m\u001b[0;34m\u001b[0m\u001b[0;34m\u001b[0m\u001b[0m\n\u001b[1;32m     14\u001b[0m             \u001b[0;32mcontinue\u001b[0m\u001b[0;34m\u001b[0m\u001b[0;34m\u001b[0m\u001b[0m\n\u001b[0;32m---> 15\u001b[0;31m         \u001b[0msemigroups\u001b[0m\u001b[0;34m.\u001b[0m\u001b[0mappend\u001b[0m\u001b[0;34m(\u001b[0m\u001b[0mNumericalSemigroup\u001b[0m\u001b[0;34m(\u001b[0m\u001b[0mgenerators\u001b[0m\u001b[0;34m)\u001b[0m\u001b[0;34m)\u001b[0m\u001b[0;34m\u001b[0m\u001b[0;34m\u001b[0m\u001b[0m\n\u001b[0m\u001b[1;32m     16\u001b[0m     \u001b[0;32mreturn\u001b[0m \u001b[0msemigroups\u001b[0m\u001b[0;34m\u001b[0m\u001b[0;34m\u001b[0m\u001b[0m\n\u001b[1;32m     17\u001b[0m \u001b[0;34m\u001b[0m\u001b[0m\n",
      "\u001b[0;32m<string>\u001b[0m in \u001b[0;36m__init__\u001b[0;34m(self, gens)\u001b[0m\n",
      "\u001b[0;32m<string>\u001b[0m in \u001b[0;36m__InitWithGapSemigroup\u001b[0;34m(self, semigroup)\u001b[0m\n",
      "\u001b[0;32m<string>\u001b[0m in \u001b[0;36m<listcomp>\u001b[0;34m(.0)\u001b[0m\n",
      "\u001b[0;32m/usr/lib/python3/dist-packages/sage/interfaces/interface.py\u001b[0m in \u001b[0;36m__int__\u001b[0;34m(self)\u001b[0m\n\u001b[1;32m   1292\u001b[0m             \u001b[0;34m<\u001b[0m\u001b[0;34m...\u001b[0m \u001b[0;34m'int'\u001b[0m\u001b[0;34m>\u001b[0m\u001b[0;34m\u001b[0m\u001b[0;34m\u001b[0m\u001b[0m\n\u001b[1;32m   1293\u001b[0m         \"\"\"\n\u001b[0;32m-> 1294\u001b[0;31m         \u001b[0;32mreturn\u001b[0m \u001b[0mint\u001b[0m\u001b[0;34m(\u001b[0m\u001b[0mrepr\u001b[0m\u001b[0;34m(\u001b[0m\u001b[0mself\u001b[0m\u001b[0;34m)\u001b[0m\u001b[0;34m)\u001b[0m\u001b[0;34m\u001b[0m\u001b[0;34m\u001b[0m\u001b[0m\n\u001b[0m\u001b[1;32m   1295\u001b[0m \u001b[0;34m\u001b[0m\u001b[0m\n\u001b[1;32m   1296\u001b[0m     \u001b[0;32mdef\u001b[0m \u001b[0mbool\u001b[0m\u001b[0;34m(\u001b[0m\u001b[0mself\u001b[0m\u001b[0;34m)\u001b[0m\u001b[0;34m:\u001b[0m\u001b[0;34m\u001b[0m\u001b[0;34m\u001b[0m\u001b[0m\n",
      "\u001b[0;32m/usr/lib/python3/dist-packages/sage/interfaces/interface.py\u001b[0m in \u001b[0;36m__repr__\u001b[0;34m(self)\u001b[0m\n\u001b[1;32m   1154\u001b[0m             \u001b[0ms\u001b[0m \u001b[0;34m=\u001b[0m \u001b[0mcr\u001b[0m\u001b[0;34m\u001b[0m\u001b[0;34m\u001b[0m\u001b[0m\n\u001b[1;32m   1155\u001b[0m         \u001b[0;32melse\u001b[0m\u001b[0;34m:\u001b[0m\u001b[0;34m\u001b[0m\u001b[0;34m\u001b[0m\u001b[0m\n\u001b[0;32m-> 1156\u001b[0;31m             \u001b[0ms\u001b[0m \u001b[0;34m=\u001b[0m \u001b[0mself\u001b[0m\u001b[0;34m.\u001b[0m\u001b[0m_repr_\u001b[0m\u001b[0;34m(\u001b[0m\u001b[0;34m)\u001b[0m\u001b[0;34m\u001b[0m\u001b[0;34m\u001b[0m\u001b[0m\n\u001b[0m\u001b[1;32m   1157\u001b[0m         \u001b[0;32mif\u001b[0m \u001b[0mself\u001b[0m\u001b[0;34m.\u001b[0m\u001b[0m_name\u001b[0m \u001b[0;32min\u001b[0m \u001b[0ms\u001b[0m\u001b[0;34m:\u001b[0m\u001b[0;34m\u001b[0m\u001b[0;34m\u001b[0m\u001b[0m\n\u001b[1;32m   1158\u001b[0m             \u001b[0;32mtry\u001b[0m\u001b[0;34m:\u001b[0m\u001b[0;34m\u001b[0m\u001b[0;34m\u001b[0m\u001b[0m\n",
      "\u001b[0;32m/usr/lib/python3/dist-packages/sage/interfaces/interface.py\u001b[0m in \u001b[0;36m_repr_\u001b[0;34m(self)\u001b[0m\n\u001b[1;32m   1210\u001b[0m                 \u001b[0;32mreturn\u001b[0m \u001b[0mP\u001b[0m\u001b[0;34m.\u001b[0m\u001b[0mget_using_file\u001b[0m\u001b[0;34m(\u001b[0m\u001b[0mself\u001b[0m\u001b[0;34m.\u001b[0m\u001b[0m_name\u001b[0m\u001b[0;34m)\u001b[0m\u001b[0;34m.\u001b[0m\u001b[0mrstrip\u001b[0m\u001b[0;34m(\u001b[0m\u001b[0;34m)\u001b[0m\u001b[0;34m\u001b[0m\u001b[0;34m\u001b[0m\u001b[0m\n\u001b[1;32m   1211\u001b[0m         \u001b[0;32mexcept\u001b[0m \u001b[0mAttributeError\u001b[0m\u001b[0;34m:\u001b[0m\u001b[0;34m\u001b[0m\u001b[0;34m\u001b[0m\u001b[0m\n\u001b[0;32m-> 1212\u001b[0;31m             \u001b[0;32mreturn\u001b[0m \u001b[0mself\u001b[0m\u001b[0;34m.\u001b[0m\u001b[0mparent\u001b[0m\u001b[0;34m(\u001b[0m\u001b[0;34m)\u001b[0m\u001b[0;34m.\u001b[0m\u001b[0mget\u001b[0m\u001b[0;34m(\u001b[0m\u001b[0mself\u001b[0m\u001b[0;34m.\u001b[0m\u001b[0m_name\u001b[0m\u001b[0;34m)\u001b[0m\u001b[0;34m.\u001b[0m\u001b[0mrstrip\u001b[0m\u001b[0;34m(\u001b[0m\u001b[0;34m)\u001b[0m\u001b[0;34m\u001b[0m\u001b[0;34m\u001b[0m\u001b[0m\n\u001b[0m\u001b[1;32m   1213\u001b[0m \u001b[0;34m\u001b[0m\u001b[0m\n\u001b[1;32m   1214\u001b[0m     \u001b[0;32mdef\u001b[0m \u001b[0m__getattr__\u001b[0m\u001b[0;34m(\u001b[0m\u001b[0mself\u001b[0m\u001b[0;34m,\u001b[0m \u001b[0mattrname\u001b[0m\u001b[0;34m)\u001b[0m\u001b[0;34m:\u001b[0m\u001b[0;34m\u001b[0m\u001b[0;34m\u001b[0m\u001b[0m\n",
      "\u001b[0;32m/usr/lib/python3/dist-packages/sage/interfaces/gap.py\u001b[0m in \u001b[0;36mget\u001b[0;34m(self, var, use_file)\u001b[0m\n\u001b[1;32m   1349\u001b[0m             \u001b[0;32mreturn\u001b[0m \u001b[0mr\u001b[0m\u001b[0;34m\u001b[0m\u001b[0;34m\u001b[0m\u001b[0m\n\u001b[1;32m   1350\u001b[0m         \u001b[0;32melse\u001b[0m\u001b[0;34m:\u001b[0m\u001b[0;34m\u001b[0m\u001b[0;34m\u001b[0m\u001b[0m\n\u001b[0;32m-> 1351\u001b[0;31m             \u001b[0;32mreturn\u001b[0m \u001b[0mself\u001b[0m\u001b[0;34m.\u001b[0m\u001b[0meval\u001b[0m\u001b[0;34m(\u001b[0m\u001b[0;34m'Print(%s);'\u001b[0m\u001b[0;34m%\u001b[0m\u001b[0mvar\u001b[0m\u001b[0;34m,\u001b[0m \u001b[0mnewlines\u001b[0m\u001b[0;34m=\u001b[0m\u001b[0;32mFalse\u001b[0m\u001b[0;34m)\u001b[0m\u001b[0;34m\u001b[0m\u001b[0;34m\u001b[0m\u001b[0m\n\u001b[0m\u001b[1;32m   1352\u001b[0m \u001b[0;34m\u001b[0m\u001b[0m\n\u001b[1;32m   1353\u001b[0m     \u001b[0;32mdef\u001b[0m \u001b[0m_pre_interact\u001b[0m\u001b[0;34m(\u001b[0m\u001b[0mself\u001b[0m\u001b[0;34m)\u001b[0m\u001b[0;34m:\u001b[0m\u001b[0;34m\u001b[0m\u001b[0;34m\u001b[0m\u001b[0m\n",
      "\u001b[0;32m/usr/lib/python3/dist-packages/sage/interfaces/gap.py\u001b[0m in \u001b[0;36meval\u001b[0;34m(self, x, newlines, strip, split_lines, **kwds)\u001b[0m\n\u001b[1;32m    496\u001b[0m             \u001b[0;32mif\u001b[0m \u001b[0;32mnot\u001b[0m \u001b[0minput_line\u001b[0m\u001b[0;34m.\u001b[0m\u001b[0mendswith\u001b[0m\u001b[0;34m(\u001b[0m\u001b[0;34m';'\u001b[0m\u001b[0;34m)\u001b[0m\u001b[0;34m:\u001b[0m\u001b[0;34m\u001b[0m\u001b[0;34m\u001b[0m\u001b[0m\n\u001b[1;32m    497\u001b[0m                 \u001b[0minput_line\u001b[0m \u001b[0;34m+=\u001b[0m \u001b[0;34m';'\u001b[0m\u001b[0;34m\u001b[0m\u001b[0;34m\u001b[0m\u001b[0m\n\u001b[0;32m--> 498\u001b[0;31m         \u001b[0mresult\u001b[0m \u001b[0;34m=\u001b[0m \u001b[0mExpect\u001b[0m\u001b[0;34m.\u001b[0m\u001b[0meval\u001b[0m\u001b[0;34m(\u001b[0m\u001b[0mself\u001b[0m\u001b[0;34m,\u001b[0m \u001b[0minput_line\u001b[0m\u001b[0;34m,\u001b[0m \u001b[0;34m**\u001b[0m\u001b[0mkwds\u001b[0m\u001b[0;34m)\u001b[0m\u001b[0;34m\u001b[0m\u001b[0;34m\u001b[0m\u001b[0m\n\u001b[0m\u001b[1;32m    499\u001b[0m         \u001b[0;32mif\u001b[0m \u001b[0;32mnot\u001b[0m \u001b[0mnewlines\u001b[0m\u001b[0;34m:\u001b[0m\u001b[0;34m\u001b[0m\u001b[0;34m\u001b[0m\u001b[0m\n\u001b[1;32m    500\u001b[0m             \u001b[0mresult\u001b[0m \u001b[0;34m=\u001b[0m \u001b[0mresult\u001b[0m\u001b[0;34m.\u001b[0m\u001b[0mreplace\u001b[0m\u001b[0;34m(\u001b[0m\u001b[0;34m\"\\\\\\n\"\u001b[0m\u001b[0;34m,\u001b[0m\u001b[0;34m\"\"\u001b[0m\u001b[0;34m)\u001b[0m\u001b[0;34m\u001b[0m\u001b[0;34m\u001b[0m\u001b[0m\n",
      "\u001b[0;32m/usr/lib/python3/dist-packages/sage/interfaces/expect.py\u001b[0m in \u001b[0;36meval\u001b[0;34m(self, code, strip, synchronize, locals, allow_use_file, split_lines, **kwds)\u001b[0m\n\u001b[1;32m   1380\u001b[0m                     \u001b[0;32mreturn\u001b[0m \u001b[0mself\u001b[0m\u001b[0;34m.\u001b[0m\u001b[0m_eval_line_using_file\u001b[0m\u001b[0;34m(\u001b[0m\u001b[0mcode\u001b[0m\u001b[0;34m)\u001b[0m\u001b[0;34m\u001b[0m\u001b[0;34m\u001b[0m\u001b[0m\n\u001b[1;32m   1381\u001b[0m                 \u001b[0;32melif\u001b[0m \u001b[0msplit_lines\u001b[0m\u001b[0;34m:\u001b[0m\u001b[0;34m\u001b[0m\u001b[0;34m\u001b[0m\u001b[0m\n\u001b[0;32m-> 1382\u001b[0;31m                     return '\\n'.join([self._eval_line(L, allow_use_file=allow_use_file, **kwds)\n\u001b[0m\u001b[1;32m   1383\u001b[0m                                         for L in code.split('\\n') if L != ''])\n\u001b[1;32m   1384\u001b[0m                 \u001b[0;32melse\u001b[0m\u001b[0;34m:\u001b[0m\u001b[0;34m\u001b[0m\u001b[0;34m\u001b[0m\u001b[0m\n",
      "\u001b[0;32m/usr/lib/python3/dist-packages/sage/interfaces/expect.py\u001b[0m in \u001b[0;36m<listcomp>\u001b[0;34m(.0)\u001b[0m\n\u001b[1;32m   1380\u001b[0m                     \u001b[0;32mreturn\u001b[0m \u001b[0mself\u001b[0m\u001b[0;34m.\u001b[0m\u001b[0m_eval_line_using_file\u001b[0m\u001b[0;34m(\u001b[0m\u001b[0mcode\u001b[0m\u001b[0;34m)\u001b[0m\u001b[0;34m\u001b[0m\u001b[0;34m\u001b[0m\u001b[0m\n\u001b[1;32m   1381\u001b[0m                 \u001b[0;32melif\u001b[0m \u001b[0msplit_lines\u001b[0m\u001b[0;34m:\u001b[0m\u001b[0;34m\u001b[0m\u001b[0;34m\u001b[0m\u001b[0m\n\u001b[0;32m-> 1382\u001b[0;31m                     return '\\n'.join([self._eval_line(L, allow_use_file=allow_use_file, **kwds)\n\u001b[0m\u001b[1;32m   1383\u001b[0m                                         for L in code.split('\\n') if L != ''])\n\u001b[1;32m   1384\u001b[0m                 \u001b[0;32melse\u001b[0m\u001b[0;34m:\u001b[0m\u001b[0;34m\u001b[0m\u001b[0;34m\u001b[0m\u001b[0m\n",
      "\u001b[0;32m/usr/lib/python3/dist-packages/sage/interfaces/gap.py\u001b[0m in \u001b[0;36m_eval_line\u001b[0;34m(self, line, allow_use_file, wait_for_prompt, restart_if_needed)\u001b[0m\n\u001b[1;32m    708\u001b[0m \u001b[0;34m\u001b[0m\u001b[0m\n\u001b[1;32m    709\u001b[0m         \u001b[0;32mexcept\u001b[0m \u001b[0mKeyboardInterrupt\u001b[0m\u001b[0;34m:\u001b[0m\u001b[0;34m\u001b[0m\u001b[0;34m\u001b[0m\u001b[0m\n\u001b[0;32m--> 710\u001b[0;31m             \u001b[0mself\u001b[0m\u001b[0;34m.\u001b[0m\u001b[0m_keyboard_interrupt\u001b[0m\u001b[0;34m(\u001b[0m\u001b[0;34m)\u001b[0m\u001b[0;34m\u001b[0m\u001b[0;34m\u001b[0m\u001b[0m\n\u001b[0m\u001b[1;32m    711\u001b[0m             \u001b[0;32mraise\u001b[0m \u001b[0mKeyboardInterrupt\u001b[0m\u001b[0;34m(\u001b[0m\u001b[0;34m\"Ctrl-c pressed while running %s\"\u001b[0m\u001b[0;34m%\u001b[0m\u001b[0mself\u001b[0m\u001b[0;34m)\u001b[0m\u001b[0;34m\u001b[0m\u001b[0;34m\u001b[0m\u001b[0m\n\u001b[1;32m    712\u001b[0m \u001b[0;34m\u001b[0m\u001b[0m\n",
      "\u001b[0;32m/usr/lib/python3/dist-packages/sage/interfaces/gap.py\u001b[0m in \u001b[0;36m_keyboard_interrupt\u001b[0;34m(self)\u001b[0m\n\u001b[1;32m    586\u001b[0m         \"\"\"\n\u001b[1;32m    587\u001b[0m         \u001b[0mself\u001b[0m\u001b[0;34m.\u001b[0m\u001b[0mquit\u001b[0m\u001b[0;34m(\u001b[0m\u001b[0;34m)\u001b[0m\u001b[0;34m\u001b[0m\u001b[0;34m\u001b[0m\u001b[0m\n\u001b[0;32m--> 588\u001b[0;31m         \u001b[0;32mraise\u001b[0m \u001b[0mKeyboardInterrupt\u001b[0m\u001b[0;34m(\u001b[0m\u001b[0;34m\"Ctrl-c pressed while running %s\"\u001b[0m\u001b[0;34m%\u001b[0m\u001b[0mself\u001b[0m\u001b[0;34m)\u001b[0m\u001b[0;34m\u001b[0m\u001b[0;34m\u001b[0m\u001b[0m\n\u001b[0m\u001b[1;32m    589\u001b[0m \u001b[0;34m\u001b[0m\u001b[0m\n\u001b[1;32m    590\u001b[0m     \u001b[0;32mdef\u001b[0m \u001b[0m_eval_line\u001b[0m\u001b[0;34m(\u001b[0m\u001b[0mself\u001b[0m\u001b[0;34m,\u001b[0m \u001b[0mline\u001b[0m\u001b[0;34m,\u001b[0m \u001b[0mallow_use_file\u001b[0m\u001b[0;34m=\u001b[0m\u001b[0;32mTrue\u001b[0m\u001b[0;34m,\u001b[0m \u001b[0mwait_for_prompt\u001b[0m\u001b[0;34m=\u001b[0m\u001b[0;32mTrue\u001b[0m\u001b[0;34m,\u001b[0m \u001b[0mrestart_if_needed\u001b[0m\u001b[0;34m=\u001b[0m\u001b[0;32mTrue\u001b[0m\u001b[0;34m)\u001b[0m\u001b[0;34m:\u001b[0m\u001b[0;34m\u001b[0m\u001b[0;34m\u001b[0m\u001b[0m\n",
      "\u001b[0;31mKeyboardInterrupt\u001b[0m: Ctrl-c pressed while running Gap"
     ]
    }
   ],
   "source": [
    "semigroups1 = generate_sample(25000, 0.01, 1000)"
   ]
  },
  {
   "cell_type": "code",
   "execution_count": null,
   "metadata": {},
   "outputs": [
    {
     "name": "stdout",
     "output_type": "stream",
     "text": [
      "9.757\n"
     ]
    },
    {
     "data": {
      "text/plain": [
       "(array([173., 245., 269., 131.,  97.,  37.,  25.,  14.,   7.,   2.]),\n",
       " array([ 1. ,  4.5,  8. , 11.5, 15. , 18.5, 22. , 25.5, 29. , 32.5, 36. ]),\n",
       " <BarContainer object of 10 artists>)"
      ]
     },
     "execution_count": 43,
     "metadata": {},
     "output_type": "execute_result"
    },
    {
     "data": {
      "image/png": "[encoded data removed]",
      "text/plain": [
       "<Figure size 432x288 with 1 Axes>"
      ]
     },
     "metadata": {
      "needs_background": "light"
     },
     "output_type": "display_data"
    }
   ],
   "source": [
    "data = embedding_dims(semigroups1)\n",
    "print(np.mean(data))\n",
    "plt.hist(data)"
   ]
  },
  {
   "cell_type": "code",
   "execution_count": null,
   "metadata": {},
   "outputs": [
    {
     "name": "stdout",
     "output_type": "stream",
     "text": [
      "1573.206\n"
     ]
    },
    {
     "data": {
      "text/plain": [
       "(array([191., 306., 230., 138.,  76.,  24.,  22.,   8.,   2.,   3.]),\n",
       " array([-1.0000e+00,  6.7340e+02,  1.3478e+03,  2.0222e+03,  2.6966e+03,\n",
       "         3.3710e+03,  4.0454e+03,  4.7198e+03,  5.3942e+03,  6.0686e+03,\n",
       "         6.7430e+03]),\n",
       " <BarContainer object of 10 artists>)"
      ]
     },
     "execution_count": 44,
     "metadata": {},
     "output_type": "execute_result"
    },
    {
     "data": {
      "image/png": "[encoded data removed]",
      "text/plain": [
       "<Figure size 432x288 with 1 Axes>"
      ]
     },
     "metadata": {
      "needs_background": "light"
     },
     "output_type": "display_data"
    }
   ],
   "source": [
    "data = frobenius_numbers(semigroups1)\n",
    "print(np.mean(data))\n",
    "plt.hist(data)"
   ]
  },
  {
   "cell_type": "code",
   "execution_count": null,
   "metadata": {},
   "outputs": [
    {
     "name": "stdout",
     "output_type": "stream",
     "text": [
      "293.0994564953778 39598.02\n"
     ]
    }
   ],
   "source": [
    "\n",
    "lower_bound_e = lambda p : ((6 - 8*p + 3*p^2)/(2 - 2*p^2 + p^3))\n",
    "upper_bound_e = lambda p : ((2 - p^2)/(p))\n",
    "\n",
    "lower_bound_g = lambda p : ((6 - 14*p + 11*p^2 + 3*p^2)/(2*p - 2*p^3 - p^4))\n",
    "upper_bound_g = lambda p : ((1 - p)*(2 - p^2)/(p^2))\n",
    "\n",
    "#Example\n",
    "p = np.array([0.01])\n",
    "print(lower_bound_g(p[0]), 2*upper_bound_g(p[0]))"
   ]
  },
  {
   "cell_type": "code",
   "execution_count": null,
   "metadata": {},
   "outputs": [
    {
     "name": "stdout",
     "output_type": "stream",
     "text": [
      "0\n",
      "1\n",
      "2\n",
      "3\n",
      "4\n",
      "5\n",
      "6\n",
      "7\n",
      "8\n",
      "9\n",
      "10\n",
      "11\n",
      "12\n",
      "13\n",
      "14\n"
     ]
    }
   ],
   "source": [
    "upper = -0.6\n",
    "lower = -3\n",
    "n_samples = 15\n",
    "x = np.logspace(upper, lower, n_samples)\n",
    "samples = []\n",
    "M = 25000\n",
    "n = 1000\n",
    "for i in range(n_samples):\n",
    "    samples.append(generate_sample(M, x[i], n))\n",
    "    print(i)"
   ]
  },
  {
   "cell_type": "code",
   "execution_count": null,
   "metadata": {},
   "outputs": [],
   "source": [
    "data_frobenius = np.array([np.mean(frobenius_numbers(sample)) for sample in samples])\n",
    "data_embedding = np.array([np.mean(embedding_dims(sample)) for sample in samples])"
   ]
  },
  {
   "cell_type": "code",
   "execution_count": null,
   "metadata": {},
   "outputs": [
    {
     "data": {
      "text/plain": [
       "[<matplotlib.lines.Line2D object at 0x7f7b860a4460>]"
      ]
     },
     "execution_count": 10,
     "metadata": {},
     "output_type": "execute_result"
    },
    {
     "data": {
      "image/png": "[encoded data removed]",
      "text/plain": [
       "<Figure size 432x288 with 1 Axes>"
      ]
     },
     "metadata": {
      "needs_background": "light"
     },
     "output_type": "display_data"
    }
   ],
   "source": [
    "plt.plot(x, data_embedding)"
   ]
  },
  {
   "cell_type": "code",
   "execution_count": null,
   "metadata": {},
   "outputs": [
    {
     "data": {
      "text/plain": [
       "[<matplotlib.lines.Line2D object at 0x7f7b7df88e80>]"
      ]
     },
     "execution_count": 11,
     "metadata": {},
     "output_type": "execute_result"
    },
    {
     "data": {
      "image/png": "[encoded data removed]",
      "text/plain": [
       "<Figure size 432x288 with 1 Axes>"
      ]
     },
     "metadata": {
      "needs_background": "light"
     },
     "output_type": "display_data"
    }
   ],
   "source": [
    "plt.plot(1/x, data_embedding)"
   ]
  },
  {
   "cell_type": "code",
   "execution_count": null,
   "metadata": {},
   "outputs": [
    {
     "data": {
      "text/plain": [
       "[<matplotlib.lines.Line2D object at 0x7f7b7ac7a320>]"
      ]
     },
     "execution_count": 22,
     "metadata": {},
     "output_type": "execute_result"
    },
    {
     "data": {
      "image/png": "[encoded data removed]",
      "text/plain": [
       "<Figure size 432x288 with 1 Axes>"
      ]
     },
     "metadata": {
      "needs_background": "light"
     },
     "output_type": "display_data"
    }
   ],
   "source": [
    "plt.plot(x, data_frobenius)"
   ]
  },
  {
   "cell_type": "code",
   "execution_count": null,
   "metadata": {},
   "outputs": [
    {
     "data": {
      "text/plain": [
       "[<matplotlib.lines.Line2D object at 0x7f7b7dffc820>]"
      ]
     },
     "execution_count": 12,
     "metadata": {},
     "output_type": "execute_result"
    },
    {
     "data": {
      "image/png": "[encoded data removed]",
      "text/plain": [
       "<Figure size 432x288 with 1 Axes>"
      ]
     },
     "metadata": {
      "needs_background": "light"
     },
     "output_type": "display_data"
    }
   ],
   "source": [
    "plt.plot(1/x, data_frobenius)"
   ]
  },
  {
   "cell_type": "code",
   "execution_count": 39,
   "metadata": {},
   "outputs": [
    {
     "data": {
      "text/html": [
       "<div>\n",
       "<style scoped>\n",
       "    .dataframe tbody tr th:only-of-type {\n",
       "        vertical-align: middle;\n",
       "    }\n",
       "\n",
       "    .dataframe tbody tr th {\n",
       "        vertical-align: top;\n",
       "    }\n",
       "\n",
       "    .dataframe thead th {\n",
       "        text-align: right;\n",
       "    }\n",
       "</style>\n",
       "<table border=\"1\" class=\"dataframe\">\n",
       "  <thead>\n",
       "    <tr style=\"text-align: right;\">\n",
       "      <th></th>\n",
       "      <th>p</th>\n",
       "      <th>1/p</th>\n",
       "      <th>E(e(S)) lower bound</th>\n",
       "      <th>E(e(S))</th>\n",
       "      <th>E(e(S)) upper bound</th>\n",
       "      <th>(1/p) / E(e(S))</th>\n",
       "      <th>E(F(S)) lower bound</th>\n",
       "      <th>E(F(s))</th>\n",
       "      <th>E(F(S)) upper bound</th>\n",
       "      <th>(1/p) / E(F(s))</th>\n",
       "    </tr>\n",
       "  </thead>\n",
       "  <tbody>\n",
       "    <tr>\n",
       "      <th>0</th>\n",
       "      <td>0.251189</td>\n",
       "      <td>3.981072</td>\n",
       "      <td>2.211924</td>\n",
       "      <td>2.783</td>\n",
       "      <td>15.421910</td>\n",
       "      <td>1.430496</td>\n",
       "      <td>7.213866</td>\n",
       "      <td>13.759</td>\n",
       "      <td>4.597382e+01</td>\n",
       "      <td>0.289343</td>\n",
       "    </tr>\n",
       "    <tr>\n",
       "      <th>1</th>\n",
       "      <td>0.169267</td>\n",
       "      <td>5.907838</td>\n",
       "      <td>2.429631</td>\n",
       "      <td>3.441</td>\n",
       "      <td>23.292818</td>\n",
       "      <td>1.716896</td>\n",
       "      <td>12.290315</td>\n",
       "      <td>29.075</td>\n",
       "      <td>1.143174e+02</td>\n",
       "      <td>0.203193</td>\n",
       "    </tr>\n",
       "    <tr>\n",
       "      <th>2</th>\n",
       "      <td>0.114062</td>\n",
       "      <td>8.767124</td>\n",
       "      <td>2.595103</td>\n",
       "      <td>4.147</td>\n",
       "      <td>34.840371</td>\n",
       "      <td>2.114088</td>\n",
       "      <td>20.380081</td>\n",
       "      <td>54.998</td>\n",
       "      <td>2.706095e+02</td>\n",
       "      <td>0.159408</td>\n",
       "    </tr>\n",
       "    <tr>\n",
       "      <th>3</th>\n",
       "      <td>0.076862</td>\n",
       "      <td>13.010252</td>\n",
       "      <td>2.716846</td>\n",
       "      <td>4.780</td>\n",
       "      <td>51.887284</td>\n",
       "      <td>2.721810</td>\n",
       "      <td>32.769833</td>\n",
       "      <td>95.679</td>\n",
       "      <td>6.231794e+02</td>\n",
       "      <td>0.135978</td>\n",
       "    </tr>\n",
       "    <tr>\n",
       "      <th>4</th>\n",
       "      <td>0.051795</td>\n",
       "      <td>19.306977</td>\n",
       "      <td>2.804173</td>\n",
       "      <td>5.636</td>\n",
       "      <td>77.124320</td>\n",
       "      <td>3.425652</td>\n",
       "      <td>51.425026</td>\n",
       "      <td>172.910</td>\n",
       "      <td>1.411913e+03</td>\n",
       "      <td>0.111659</td>\n",
       "    </tr>\n",
       "    <tr>\n",
       "      <th>5</th>\n",
       "      <td>0.034903</td>\n",
       "      <td>28.651203</td>\n",
       "      <td>2.865647</td>\n",
       "      <td>6.455</td>\n",
       "      <td>114.535006</td>\n",
       "      <td>4.438606</td>\n",
       "      <td>79.296209</td>\n",
       "      <td>301.915</td>\n",
       "      <td>3.167031e+03</td>\n",
       "      <td>0.094898</td>\n",
       "    </tr>\n",
       "    <tr>\n",
       "      <th>6</th>\n",
       "      <td>0.023520</td>\n",
       "      <td>42.517863</td>\n",
       "      <td>2.908342</td>\n",
       "      <td>7.405</td>\n",
       "      <td>170.024413</td>\n",
       "      <td>5.741778</td>\n",
       "      <td>120.785826</td>\n",
       "      <td>502.112</td>\n",
       "      <td>7.059050e+03</td>\n",
       "      <td>0.084678</td>\n",
       "    </tr>\n",
       "    <tr>\n",
       "      <th>7</th>\n",
       "      <td>0.015849</td>\n",
       "      <td>63.095734</td>\n",
       "      <td>2.937713</td>\n",
       "      <td>8.572</td>\n",
       "      <td>252.351240</td>\n",
       "      <td>7.360678</td>\n",
       "      <td>182.444337</td>\n",
       "      <td>879.222</td>\n",
       "      <td>1.566994e+04</td>\n",
       "      <td>0.071763</td>\n",
       "    </tr>\n",
       "    <tr>\n",
       "      <th>8</th>\n",
       "      <td>0.010680</td>\n",
       "      <td>93.632921</td>\n",
       "      <td>2.957787</td>\n",
       "      <td>9.557</td>\n",
       "      <td>374.510324</td>\n",
       "      <td>9.797313</td>\n",
       "      <td>274.004943</td>\n",
       "      <td>1446.217</td>\n",
       "      <td>3.469199e+04</td>\n",
       "      <td>0.064743</td>\n",
       "    </tr>\n",
       "    <tr>\n",
       "      <th>9</th>\n",
       "      <td>0.007197</td>\n",
       "      <td>138.949549</td>\n",
       "      <td>2.971444</td>\n",
       "      <td>10.870</td>\n",
       "      <td>555.783804</td>\n",
       "      <td>12.782847</td>\n",
       "      <td>409.920334</td>\n",
       "      <td>2422.891</td>\n",
       "      <td>7.667013e+04</td>\n",
       "      <td>0.057349</td>\n",
       "    </tr>\n",
       "    <tr>\n",
       "      <th>10</th>\n",
       "      <td>0.004850</td>\n",
       "      <td>206.198601</td>\n",
       "      <td>2.980706</td>\n",
       "      <td>12.282</td>\n",
       "      <td>824.784704</td>\n",
       "      <td>16.788683</td>\n",
       "      <td>611.644171</td>\n",
       "      <td>4004.130</td>\n",
       "      <td>1.692447e+05</td>\n",
       "      <td>0.051496</td>\n",
       "    </tr>\n",
       "    <tr>\n",
       "      <th>11</th>\n",
       "      <td>0.003268</td>\n",
       "      <td>305.994969</td>\n",
       "      <td>2.986976</td>\n",
       "      <td>12.924</td>\n",
       "      <td>1223.973339</td>\n",
       "      <td>23.676491</td>\n",
       "      <td>911.017528</td>\n",
       "      <td>6237.764</td>\n",
       "      <td>3.733057e+05</td>\n",
       "      <td>0.049055</td>\n",
       "    </tr>\n",
       "    <tr>\n",
       "      <th>12</th>\n",
       "      <td>0.002202</td>\n",
       "      <td>454.090961</td>\n",
       "      <td>2.991213</td>\n",
       "      <td>14.397</td>\n",
       "      <td>1816.359440</td>\n",
       "      <td>31.540665</td>\n",
       "      <td>1355.294879</td>\n",
       "      <td>10397.305</td>\n",
       "      <td>8.229760e+05</td>\n",
       "      <td>0.043674</td>\n",
       "    </tr>\n",
       "    <tr>\n",
       "      <th>13</th>\n",
       "      <td>0.001484</td>\n",
       "      <td>673.862717</td>\n",
       "      <td>2.994074</td>\n",
       "      <td>15.770</td>\n",
       "      <td>2695.447899</td>\n",
       "      <td>42.730673</td>\n",
       "      <td>2014.602978</td>\n",
       "      <td>16429.228</td>\n",
       "      <td>1.813666e+06</td>\n",
       "      <td>0.041016</td>\n",
       "    </tr>\n",
       "    <tr>\n",
       "      <th>14</th>\n",
       "      <td>0.001000</td>\n",
       "      <td>1000.000000</td>\n",
       "      <td>2.996004</td>\n",
       "      <td>15.378</td>\n",
       "      <td>3999.998000</td>\n",
       "      <td>65.027962</td>\n",
       "      <td>2993.009995</td>\n",
       "      <td>26982.104</td>\n",
       "      <td>3.995998e+06</td>\n",
       "      <td>0.037062</td>\n",
       "    </tr>\n",
       "  </tbody>\n",
       "</table>\n",
       "</div>"
      ],
      "text/plain": [
       "           p          1/p  E(e(S)) lower bound  E(e(S))  E(e(S)) upper bound   \n",
       "0   0.251189     3.981072             2.211924    2.783            15.421910  \\\n",
       "1   0.169267     5.907838             2.429631    3.441            23.292818   \n",
       "2   0.114062     8.767124             2.595103    4.147            34.840371   \n",
       "3   0.076862    13.010252             2.716846    4.780            51.887284   \n",
       "4   0.051795    19.306977             2.804173    5.636            77.124320   \n",
       "5   0.034903    28.651203             2.865647    6.455           114.535006   \n",
       "6   0.023520    42.517863             2.908342    7.405           170.024413   \n",
       "7   0.015849    63.095734             2.937713    8.572           252.351240   \n",
       "8   0.010680    93.632921             2.957787    9.557           374.510324   \n",
       "9   0.007197   138.949549             2.971444   10.870           555.783804   \n",
       "10  0.004850   206.198601             2.980706   12.282           824.784704   \n",
       "11  0.003268   305.994969             2.986976   12.924          1223.973339   \n",
       "12  0.002202   454.090961             2.991213   14.397          1816.359440   \n",
       "13  0.001484   673.862717             2.994074   15.770          2695.447899   \n",
       "14  0.001000  1000.000000             2.996004   15.378          3999.998000   \n",
       "\n",
       "    (1/p) / E(e(S))  E(F(S)) lower bound    E(F(s))  E(F(S)) upper bound   \n",
       "0          1.430496             7.213866     13.759         4.597382e+01  \\\n",
       "1          1.716896            12.290315     29.075         1.143174e+02   \n",
       "2          2.114088            20.380081     54.998         2.706095e+02   \n",
       "3          2.721810            32.769833     95.679         6.231794e+02   \n",
       "4          3.425652            51.425026    172.910         1.411913e+03   \n",
       "5          4.438606            79.296209    301.915         3.167031e+03   \n",
       "6          5.741778           120.785826    502.112         7.059050e+03   \n",
       "7          7.360678           182.444337    879.222         1.566994e+04   \n",
       "8          9.797313           274.004943   1446.217         3.469199e+04   \n",
       "9         12.782847           409.920334   2422.891         7.667013e+04   \n",
       "10        16.788683           611.644171   4004.130         1.692447e+05   \n",
       "11        23.676491           911.017528   6237.764         3.733057e+05   \n",
       "12        31.540665          1355.294879  10397.305         8.229760e+05   \n",
       "13        42.730673          2014.602978  16429.228         1.813666e+06   \n",
       "14        65.027962          2993.009995  26982.104         3.995998e+06   \n",
       "\n",
       "    (1/p) / E(F(s))  \n",
       "0          0.289343  \n",
       "1          0.203193  \n",
       "2          0.159408  \n",
       "3          0.135978  \n",
       "4          0.111659  \n",
       "5          0.094898  \n",
       "6          0.084678  \n",
       "7          0.071763  \n",
       "8          0.064743  \n",
       "9          0.057349  \n",
       "10         0.051496  \n",
       "11         0.049055  \n",
       "12         0.043674  \n",
       "13         0.041016  \n",
       "14         0.037062  "
      ]
     },
     "execution_count": 39,
     "metadata": {},
     "output_type": "execute_result"
    }
   ],
   "source": [
    "import pandas as pd\n",
    "table = pd.DataFrame()\n",
    "table['p'] = x\n",
    "table['1/p'] = 1/x\n",
    "table['E(e(S)) lower bound'] = [lower_bound_e(p) for p in x]\n",
    "table['E(e(S))'] = data_embedding\n",
    "table['E(e(S)) upper bound'] = [2*upper_bound_e(p) for p in x]\n",
    "table['(1/p) / E(e(S))'] = (1/x)/data_embedding\n",
    "table['E(F(S)) lower bound'] = [lower_bound_g(p) for p in x]\n",
    "table['E(F(s))'] = data_frobenius\n",
    "table['E(F(S)) upper bound'] = [2*upper_bound_g(p) for p in x]\n",
    "table['(1/p) / E(F(s))'] = (1/x)/data_frobenius\n",
    "table"
   ]
  },
  {
   "cell_type": "code",
   "execution_count": 51,
   "metadata": {},
   "outputs": [
    {
     "data": {
      "text/html": [
       "<div>\n",
       "<style scoped>\n",
       "    .dataframe tbody tr th:only-of-type {\n",
       "        vertical-align: middle;\n",
       "    }\n",
       "\n",
       "    .dataframe tbody tr th {\n",
       "        vertical-align: top;\n",
       "    }\n",
       "\n",
       "    .dataframe thead th {\n",
       "        text-align: right;\n",
       "    }\n",
       "</style>\n",
       "<table border=\"1\" class=\"dataframe\">\n",
       "  <thead>\n",
       "    <tr style=\"text-align: right;\">\n",
       "      <th></th>\n",
       "      <th>p</th>\n",
       "      <th>1/p</th>\n",
       "      <th>E(e(S)) lower bound</th>\n",
       "      <th>E(e(S))</th>\n",
       "      <th>E(e(S)) upper bound</th>\n",
       "      <th>(1/p) / E(e(S))</th>\n",
       "      <th>E(F(S)) lower bound</th>\n",
       "      <th>E(F(s))</th>\n",
       "      <th>E(F(S)) upper bound</th>\n",
       "      <th>(1/p) / E(F(s))</th>\n",
       "    </tr>\n",
       "  </thead>\n",
       "  <tbody>\n",
       "    <tr>\n",
       "      <th>0</th>\n",
       "      <td>0.250000</td>\n",
       "      <td>4.000000</td>\n",
       "      <td>2.214876</td>\n",
       "      <td>2.771</td>\n",
       "      <td>15.500000</td>\n",
       "      <td>1.443522</td>\n",
       "      <td>7.260504</td>\n",
       "      <td>13.689</td>\n",
       "      <td>4.650000e+01</td>\n",
       "      <td>0.292205</td>\n",
       "    </tr>\n",
       "    <tr>\n",
       "      <th>1</th>\n",
       "      <td>0.013308</td>\n",
       "      <td>75.142857</td>\n",
       "      <td>2.947552</td>\n",
       "      <td>8.798</td>\n",
       "      <td>300.544813</td>\n",
       "      <td>8.540902</td>\n",
       "      <td>218.560693</td>\n",
       "      <td>1068.820</td>\n",
       "      <td>2.228325e+04</td>\n",
       "      <td>0.070305</td>\n",
       "    </tr>\n",
       "    <tr>\n",
       "      <th>2</th>\n",
       "      <td>0.006836</td>\n",
       "      <td>146.285714</td>\n",
       "      <td>2.972865</td>\n",
       "      <td>10.868</td>\n",
       "      <td>585.129185</td>\n",
       "      <td>13.460224</td>\n",
       "      <td>431.925247</td>\n",
       "      <td>2541.163</td>\n",
       "      <td>8.501091e+04</td>\n",
       "      <td>0.057566</td>\n",
       "    </tr>\n",
       "    <tr>\n",
       "      <th>3</th>\n",
       "      <td>0.004599</td>\n",
       "      <td>217.428571</td>\n",
       "      <td>2.981698</td>\n",
       "      <td>12.267</td>\n",
       "      <td>869.705087</td>\n",
       "      <td>17.724674</td>\n",
       "      <td>645.331591</td>\n",
       "      <td>4258.454</td>\n",
       "      <td>1.882290e+05</td>\n",
       "      <td>0.051058</td>\n",
       "    </tr>\n",
       "    <tr>\n",
       "      <th>4</th>\n",
       "      <td>0.003465</td>\n",
       "      <td>288.571429</td>\n",
       "      <td>2.986192</td>\n",
       "      <td>12.843</td>\n",
       "      <td>1154.278784</td>\n",
       "      <td>22.469161</td>\n",
       "      <td>858.748873</td>\n",
       "      <td>5792.217</td>\n",
       "      <td>3.319376e+05</td>\n",
       "      <td>0.049821</td>\n",
       "    </tr>\n",
       "    <tr>\n",
       "      <th>5</th>\n",
       "      <td>0.002780</td>\n",
       "      <td>359.714286</td>\n",
       "      <td>2.988915</td>\n",
       "      <td>13.318</td>\n",
       "      <td>1438.851583</td>\n",
       "      <td>27.009633</td>\n",
       "      <td>1072.170615</td>\n",
       "      <td>7454.253</td>\n",
       "      <td>5.161366e+05</td>\n",
       "      <td>0.048256</td>\n",
       "    </tr>\n",
       "    <tr>\n",
       "      <th>6</th>\n",
       "      <td>0.002321</td>\n",
       "      <td>430.857143</td>\n",
       "      <td>2.990740</td>\n",
       "      <td>14.003</td>\n",
       "      <td>1723.423930</td>\n",
       "      <td>30.768917</td>\n",
       "      <td>1285.594609</td>\n",
       "      <td>9403.151</td>\n",
       "      <td>7.408261e+05</td>\n",
       "      <td>0.045821</td>\n",
       "    </tr>\n",
       "    <tr>\n",
       "      <th>7</th>\n",
       "      <td>0.001992</td>\n",
       "      <td>502.000000</td>\n",
       "      <td>2.992050</td>\n",
       "      <td>15.053</td>\n",
       "      <td>2007.996016</td>\n",
       "      <td>33.348834</td>\n",
       "      <td>1499.019899</td>\n",
       "      <td>11696.280</td>\n",
       "      <td>1.006006e+06</td>\n",
       "      <td>0.042920</td>\n",
       "    </tr>\n",
       "    <tr>\n",
       "      <th>8</th>\n",
       "      <td>0.001745</td>\n",
       "      <td>573.142857</td>\n",
       "      <td>2.993035</td>\n",
       "      <td>15.340</td>\n",
       "      <td>2292.567939</td>\n",
       "      <td>37.362637</td>\n",
       "      <td>1712.446002</td>\n",
       "      <td>13588.441</td>\n",
       "      <td>1.311676e+06</td>\n",
       "      <td>0.042179</td>\n",
       "    </tr>\n",
       "    <tr>\n",
       "      <th>9</th>\n",
       "      <td>0.001552</td>\n",
       "      <td>644.285714</td>\n",
       "      <td>2.993802</td>\n",
       "      <td>15.822</td>\n",
       "      <td>2577.139753</td>\n",
       "      <td>40.720877</td>\n",
       "      <td>1925.872651</td>\n",
       "      <td>15795.893</td>\n",
       "      <td>1.657837e+06</td>\n",
       "      <td>0.040788</td>\n",
       "    </tr>\n",
       "    <tr>\n",
       "      <th>10</th>\n",
       "      <td>0.001398</td>\n",
       "      <td>715.428571</td>\n",
       "      <td>2.994418</td>\n",
       "      <td>16.016</td>\n",
       "      <td>2861.711490</td>\n",
       "      <td>44.669616</td>\n",
       "      <td>2139.299681</td>\n",
       "      <td>17876.815</td>\n",
       "      <td>2.044488e+06</td>\n",
       "      <td>0.040020</td>\n",
       "    </tr>\n",
       "    <tr>\n",
       "      <th>11</th>\n",
       "      <td>0.001271</td>\n",
       "      <td>786.571429</td>\n",
       "      <td>2.994922</td>\n",
       "      <td>16.220</td>\n",
       "      <td>3146.283172</td>\n",
       "      <td>48.493923</td>\n",
       "      <td>2352.726990</td>\n",
       "      <td>19825.035</td>\n",
       "      <td>2.471630e+06</td>\n",
       "      <td>0.039676</td>\n",
       "    </tr>\n",
       "    <tr>\n",
       "      <th>12</th>\n",
       "      <td>0.001166</td>\n",
       "      <td>857.714286</td>\n",
       "      <td>2.995343</td>\n",
       "      <td>16.385</td>\n",
       "      <td>3430.854811</td>\n",
       "      <td>52.347530</td>\n",
       "      <td>2566.154509</td>\n",
       "      <td>21825.160</td>\n",
       "      <td>2.939262e+06</td>\n",
       "      <td>0.039299</td>\n",
       "    </tr>\n",
       "    <tr>\n",
       "      <th>13</th>\n",
       "      <td>0.001077</td>\n",
       "      <td>928.857143</td>\n",
       "      <td>2.995699</td>\n",
       "      <td>16.874</td>\n",
       "      <td>3715.426418</td>\n",
       "      <td>55.046648</td>\n",
       "      <td>2779.582188</td>\n",
       "      <td>24381.072</td>\n",
       "      <td>3.447385e+06</td>\n",
       "      <td>0.038097</td>\n",
       "    </tr>\n",
       "    <tr>\n",
       "      <th>14</th>\n",
       "      <td>0.001000</td>\n",
       "      <td>1000.000000</td>\n",
       "      <td>2.996004</td>\n",
       "      <td>17.526</td>\n",
       "      <td>3999.998000</td>\n",
       "      <td>57.058085</td>\n",
       "      <td>2993.009995</td>\n",
       "      <td>26913.336</td>\n",
       "      <td>3.995998e+06</td>\n",
       "      <td>0.037156</td>\n",
       "    </tr>\n",
       "  </tbody>\n",
       "</table>\n",
       "</div>"
      ],
      "text/plain": [
       "           p          1/p  E(e(S)) lower bound  E(e(S))  E(e(S)) upper bound   \n",
       "0   0.250000     4.000000             2.214876    2.771            15.500000  \\\n",
       "1   0.013308    75.142857             2.947552    8.798           300.544813   \n",
       "2   0.006836   146.285714             2.972865   10.868           585.129185   \n",
       "3   0.004599   217.428571             2.981698   12.267           869.705087   \n",
       "4   0.003465   288.571429             2.986192   12.843          1154.278784   \n",
       "5   0.002780   359.714286             2.988915   13.318          1438.851583   \n",
       "6   0.002321   430.857143             2.990740   14.003          1723.423930   \n",
       "7   0.001992   502.000000             2.992050   15.053          2007.996016   \n",
       "8   0.001745   573.142857             2.993035   15.340          2292.567939   \n",
       "9   0.001552   644.285714             2.993802   15.822          2577.139753   \n",
       "10  0.001398   715.428571             2.994418   16.016          2861.711490   \n",
       "11  0.001271   786.571429             2.994922   16.220          3146.283172   \n",
       "12  0.001166   857.714286             2.995343   16.385          3430.854811   \n",
       "13  0.001077   928.857143             2.995699   16.874          3715.426418   \n",
       "14  0.001000  1000.000000             2.996004   17.526          3999.998000   \n",
       "\n",
       "    (1/p) / E(e(S))  E(F(S)) lower bound    E(F(s))  E(F(S)) upper bound   \n",
       "0          1.443522             7.260504     13.689         4.650000e+01  \\\n",
       "1          8.540902           218.560693   1068.820         2.228325e+04   \n",
       "2         13.460224           431.925247   2541.163         8.501091e+04   \n",
       "3         17.724674           645.331591   4258.454         1.882290e+05   \n",
       "4         22.469161           858.748873   5792.217         3.319376e+05   \n",
       "5         27.009633          1072.170615   7454.253         5.161366e+05   \n",
       "6         30.768917          1285.594609   9403.151         7.408261e+05   \n",
       "7         33.348834          1499.019899  11696.280         1.006006e+06   \n",
       "8         37.362637          1712.446002  13588.441         1.311676e+06   \n",
       "9         40.720877          1925.872651  15795.893         1.657837e+06   \n",
       "10        44.669616          2139.299681  17876.815         2.044488e+06   \n",
       "11        48.493923          2352.726990  19825.035         2.471630e+06   \n",
       "12        52.347530          2566.154509  21825.160         2.939262e+06   \n",
       "13        55.046648          2779.582188  24381.072         3.447385e+06   \n",
       "14        57.058085          2993.009995  26913.336         3.995998e+06   \n",
       "\n",
       "    (1/p) / E(F(s))  \n",
       "0          0.292205  \n",
       "1          0.070305  \n",
       "2          0.057566  \n",
       "3          0.051058  \n",
       "4          0.049821  \n",
       "5          0.048256  \n",
       "6          0.045821  \n",
       "7          0.042920  \n",
       "8          0.042179  \n",
       "9          0.040788  \n",
       "10         0.040020  \n",
       "11         0.039676  \n",
       "12         0.039299  \n",
       "13         0.038097  \n",
       "14         0.037156  "
      ]
     },
     "execution_count": 51,
     "metadata": {},
     "output_type": "execute_result"
    }
   ],
   "source": [
    "# Generate samples \n",
    "upper = 4\n",
    "lower = 1000\n",
    "n_samples = 15\n",
    "x = 1/np.linspace(upper, lower, n_samples)\n",
    "samples = []\n",
    "M = 100000\n",
    "n = 1000\n",
    "for i in range(n_samples):\n",
    "    samples.append(generate_sample(M, x[i], n))\n",
    "\n",
    "data_frobenius = np.array([np.mean(frobenius_numbers(sample)) for sample in samples])\n",
    "data_embedding = np.array([np.mean(embedding_dims(sample)) for sample in samples])\n",
    "\n",
    "# Table\n",
    "table = pd.DataFrame()\n",
    "table['p'] = x\n",
    "table['1/p'] = 1/x\n",
    "table['E(e(S)) lower bound'] = [lower_bound_e(p) for p in x]\n",
    "table['E(e(S))'] = data_embedding\n",
    "table['E(e(S)) upper bound'] = [2*upper_bound_e(p) for p in x]\n",
    "table['(1/p) / E(e(S))'] = (1/x)/data_embedding\n",
    "table['E(F(S)) lower bound'] = [lower_bound_g(p) for p in x]\n",
    "table['E(F(s))'] = data_frobenius\n",
    "table['E(F(S)) upper bound'] = [2*upper_bound_g(p) for p in x]\n",
    "table['(1/p) / E(F(s))'] = (1/x)/data_frobenius\n",
    "table"
   ]
  },
  {
   "cell_type": "code",
   "execution_count": 54,
   "metadata": {},
   "outputs": [
    {
     "data": {
      "text/plain": [
       "[<matplotlib.lines.Line2D object at 0x7f7b65ddd4e0>]"
      ]
     },
     "execution_count": 54,
     "metadata": {},
     "output_type": "execute_result"
    },
    {
     "data": {
      "image/png": "[encoded data removed]",
      "text/plain": [
       "<Figure size 432x288 with 1 Axes>"
      ]
     },
     "metadata": {
      "needs_background": "light"
     },
     "output_type": "display_data"
    }
   ],
   "source": [
    "plt.plot(1/x, data_embedding)"
   ]
  },
  {
   "cell_type": "code",
   "execution_count": 55,
   "metadata": {},
   "outputs": [
    {
     "data": {
      "text/plain": [
       "[<matplotlib.lines.Line2D object at 0x7f7b75097550>]"
      ]
     },
     "execution_count": 55,
     "metadata": {},
     "output_type": "execute_result"
    },
    {
     "data": {
      "image/png": "[encoded data removed]",
      "text/plain": [
       "<Figure size 432x288 with 1 Axes>"
      ]
     },
     "metadata": {
      "needs_background": "light"
     },
     "output_type": "display_data"
    }
   ],
   "source": [
    "plt.plot(1/x, data_frobenius)"
   ]
  },
  {
   "cell_type": "code",
   "execution_count": 57,
   "metadata": {},
   "outputs": [
    {
     "ename": "KeyboardInterrupt",
     "evalue": "",
     "output_type": "error",
     "traceback": [
      "\u001b[0;31m---------------------------------------------------------------------------\u001b[0m",
      "\u001b[0;31mKeyboardInterrupt\u001b[0m                         Traceback (most recent call last)",
      "\u001b[0;32m/tmp/ipykernel_6048/227875113.py\u001b[0m in \u001b[0;36m<module>\u001b[0;34m\u001b[0m\n\u001b[1;32m      8\u001b[0m \u001b[0mn\u001b[0m \u001b[0;34m=\u001b[0m \u001b[0mInteger\u001b[0m\u001b[0;34m(\u001b[0m\u001b[0;36m1000\u001b[0m\u001b[0;34m)\u001b[0m\u001b[0;34m\u001b[0m\u001b[0;34m\u001b[0m\u001b[0m\n\u001b[1;32m      9\u001b[0m \u001b[0;32mfor\u001b[0m \u001b[0mi\u001b[0m \u001b[0;32min\u001b[0m \u001b[0mrange\u001b[0m\u001b[0;34m(\u001b[0m\u001b[0mn_samples\u001b[0m\u001b[0;34m)\u001b[0m\u001b[0;34m:\u001b[0m\u001b[0;34m\u001b[0m\u001b[0;34m\u001b[0m\u001b[0m\n\u001b[0;32m---> 10\u001b[0;31m     \u001b[0msamples\u001b[0m\u001b[0;34m.\u001b[0m\u001b[0mappend\u001b[0m\u001b[0;34m(\u001b[0m\u001b[0mgenerate_sample\u001b[0m\u001b[0;34m(\u001b[0m\u001b[0mM\u001b[0m\u001b[0;34m,\u001b[0m \u001b[0mx\u001b[0m\u001b[0;34m[\u001b[0m\u001b[0mi\u001b[0m\u001b[0;34m]\u001b[0m\u001b[0;34m,\u001b[0m \u001b[0mn\u001b[0m\u001b[0;34m)\u001b[0m\u001b[0;34m)\u001b[0m\u001b[0;34m\u001b[0m\u001b[0;34m\u001b[0m\u001b[0m\n\u001b[0m\u001b[1;32m     11\u001b[0m \u001b[0;34m\u001b[0m\u001b[0m\n\u001b[1;32m     12\u001b[0m \u001b[0mdata_frobenius\u001b[0m \u001b[0;34m=\u001b[0m \u001b[0mnp\u001b[0m\u001b[0;34m.\u001b[0m\u001b[0marray\u001b[0m\u001b[0;34m(\u001b[0m\u001b[0;34m[\u001b[0m\u001b[0mnp\u001b[0m\u001b[0;34m.\u001b[0m\u001b[0mmean\u001b[0m\u001b[0;34m(\u001b[0m\u001b[0mfrobenius_numbers\u001b[0m\u001b[0;34m(\u001b[0m\u001b[0msample\u001b[0m\u001b[0;34m)\u001b[0m\u001b[0;34m)\u001b[0m \u001b[0;32mfor\u001b[0m \u001b[0msample\u001b[0m \u001b[0;32min\u001b[0m \u001b[0msamples\u001b[0m\u001b[0;34m]\u001b[0m\u001b[0;34m)\u001b[0m\u001b[0;34m\u001b[0m\u001b[0;34m\u001b[0m\u001b[0m\n",
      "\u001b[0;32m/tmp/ipykernel_6048/565704761.py\u001b[0m in \u001b[0;36mgenerate_sample\u001b[0;34m(M, p, sample_size)\u001b[0m\n\u001b[1;32m     13\u001b[0m         \u001b[0;32mif\u001b[0m \u001b[0mgcd\u001b[0m\u001b[0;34m(\u001b[0m\u001b[0mgenerators\u001b[0m\u001b[0;34m)\u001b[0m \u001b[0;34m!=\u001b[0m \u001b[0mInteger\u001b[0m\u001b[0;34m(\u001b[0m\u001b[0;36m1\u001b[0m\u001b[0;34m)\u001b[0m\u001b[0;34m:\u001b[0m\u001b[0;34m\u001b[0m\u001b[0;34m\u001b[0m\u001b[0m\n\u001b[1;32m     14\u001b[0m             \u001b[0;32mcontinue\u001b[0m\u001b[0;34m\u001b[0m\u001b[0;34m\u001b[0m\u001b[0m\n\u001b[0;32m---> 15\u001b[0;31m         \u001b[0msemigroups\u001b[0m\u001b[0;34m.\u001b[0m\u001b[0mappend\u001b[0m\u001b[0;34m(\u001b[0m\u001b[0mNumericalSemigroup\u001b[0m\u001b[0;34m(\u001b[0m\u001b[0mgenerators\u001b[0m\u001b[0;34m)\u001b[0m\u001b[0;34m)\u001b[0m\u001b[0;34m\u001b[0m\u001b[0;34m\u001b[0m\u001b[0m\n\u001b[0m\u001b[1;32m     16\u001b[0m     \u001b[0;32mreturn\u001b[0m \u001b[0msemigroups\u001b[0m\u001b[0;34m\u001b[0m\u001b[0;34m\u001b[0m\u001b[0m\n\u001b[1;32m     17\u001b[0m \u001b[0;34m\u001b[0m\u001b[0m\n",
      "\u001b[0;32m<string>\u001b[0m in \u001b[0;36m__init__\u001b[0;34m(self, gens)\u001b[0m\n",
      "\u001b[0;32m<string>\u001b[0m in \u001b[0;36m__InitWithGapSemigroup\u001b[0;34m(self, semigroup)\u001b[0m\n",
      "\u001b[0;32m<string>\u001b[0m in \u001b[0;36m__InitWithDefaults\u001b[0;34m(self)\u001b[0m\n",
      "\u001b[0;32msrc/cysignals/signals.pyx\u001b[0m in \u001b[0;36mcysignals.signals.python_check_interrupt\u001b[0;34m()\u001b[0m\n",
      "\u001b[0;31mKeyboardInterrupt\u001b[0m: "
     ]
    }
   ],
   "source": [
    "# Generate samples \n",
    "upper = 4\n",
    "lower = 10000\n",
    "n_samples = 100\n",
    "x = 1/np.linspace(upper, lower, n_samples)\n",
    "samples = []\n",
    "M = 100000\n",
    "n = 1000\n",
    "for i in range(n_samples):\n",
    "    samples.append(generate_sample(M, x[i], n))\n",
    "\n",
    "data_frobenius = np.array([np.mean(frobenius_numbers(sample)) for sample in samples])\n",
    "data_embedding = np.array([np.mean(embedding_dims(sample)) for sample in samples])\n",
    "\n",
    "# Table\n",
    "table = pd.DataFrame()\n",
    "table['p'] = x\n",
    "table['1/p'] = 1/x\n",
    "table['E(e(S)) lower bound'] = [lower_bound_e(p) for p in x]\n",
    "table['E(e(S))'] = data_embedding\n",
    "table['E(e(S)) upper bound'] = [2*upper_bound_e(p) for p in x]\n",
    "table['(1/p) / E(e(S))'] = (1/x)/data_embedding\n",
    "table['E(F(S)) lower bound'] = [lower_bound_g(p) for p in x]\n",
    "table['E(F(s))'] = data_frobenius\n",
    "table['E(F(S)) upper bound'] = [2*upper_bound_g(p) for p in x]\n",
    "table['(1/p) / E(F(s))'] = (1/x)/data_frobenius\n",
    "table"
   ]
  },
  {
   "cell_type": "code",
   "execution_count": 41,
   "metadata": {},
   "outputs": [
    {
     "name": "stdout",
     "output_type": "stream",
     "text": [
      "20274.0555032142\n"
     ]
    }
   ],
   "source": [
    "n = 30000\n",
    "sum = 0\n",
    "p = 0.01\n",
    "for i in range(n):\n",
    "    sum += ((1 - p)**(sqrt(i)))*(1 + sqrt(i)*p)\n",
    "print(sum.n())"
   ]
  },
  {
   "cell_type": "code",
   "execution_count": 15,
   "metadata": {},
   "outputs": [
    {
     "name": "stdout",
     "output_type": "stream",
     "text": [
      "265.879602864694\n"
     ]
    }
   ],
   "source": [
    "print(sum.n())"
   ]
  }
 ],
 "metadata": {
  "kernelspec": {
   "display_name": "SageMath 9.5",
   "language": "sage",
   "name": "sagemath"
  },
  "language_info": {
   "codemirror_mode": {
    "name": "ipython",
    "version": 3
   },
   "file_extension": ".py",
   "mimetype": "text/x-python",
   "name": "python",
   "nbconvert_exporter": "python",
   "pygments_lexer": "ipython3",
   "version": "3.10.6"
  },
  "orig_nbformat": 4
 },
 "nbformat": 4,
 "nbformat_minor": 2
}
