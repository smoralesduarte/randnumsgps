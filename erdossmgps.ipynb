{
 "cells": [
  {
   "cell_type": "code",
   "execution_count": 1,
   "metadata": {},
   "outputs": [
    {
     "name": "stdout",
     "output_type": "stream",
     "text": [
      "true\n",
      "Successfully loaded Singular\n"
     ]
    }
   ],
   "source": [
    "#Import packages\n",
    "\n",
    "import matplotlib.pyplot as plt\n",
    "import random\n",
    "import numpy as np\n",
    "load('NumericalSemigroup.sage')\n"
   ]
  },
  {
   "cell_type": "code",
   "execution_count": 2,
   "metadata": {},
   "outputs": [
    {
     "name": "stdout",
     "output_type": "stream",
     "text": [
      "43\n",
      "[20, 24, 25, 26, 27, 28, 29, 30, 31, 32, 33, 34, 35, 36, 37, 38, 39, 40, 41, 42, 43, 44, 45, 46, 47, 48, 49, 50, 51, 52, 53, 54, 55, 56, 57, 58, 59, 60, 61, 62]\n",
      "{1, 4}\n",
      "70\n",
      "7\n"
     ]
    },
    {
     "data": {
      "text/plain": [
       "[8, 3, 1, 6, 4]"
      ]
     },
     "execution_count": 2,
     "metadata": {},
     "output_type": "execute_result"
    }
   ],
   "source": [
    "#Test NumericalSemigroup Package\n",
    "McNuggets = NumericalSemigroup([6,9,20])\n",
    "print(McNuggets.FrobeniusNumber())\n",
    "print(McNuggets.LengthSet(400))\n",
    "print(McNuggets.DeltaSet(400))\n",
    "print(McNuggets.OmegaPrimality(400))\n",
    "print(McNuggets.CatenaryDegree(400))\n",
    "load('KunzPoset.sage')\n",
    "load('PlotKunzPoset.sage')\n",
    "PlotKunzPoset([6,9,20])\n",
    "PlotKunzPoset([5,6,9])\n",
    "McNuggets.KunzCoordinates()\n"
   ]
  },
  {
   "cell_type": "code",
   "execution_count": 251,
   "metadata": {},
   "outputs": [
    {
     "data": {
      "text/plain": [
       "[6, 9, 20]"
      ]
     },
     "execution_count": 251,
     "metadata": {},
     "output_type": "execute_result"
    }
   ],
   "source": [
    "NumericalSemigroup([6,9,20]).gens"
   ]
  },
  {
   "cell_type": "code",
   "execution_count": 252,
   "metadata": {},
   "outputs": [],
   "source": [
    "# Estimate function in Expected Frobenious numbers\n",
    "def estimate(generators, n):\n",
    "    return ((factorial(n - 1) * prod(generators)) ^ (1 / (n - 1))).n()\n",
    "\n",
    "# Generates random sample using erdos-renyi model \n",
    "def generate_sample(M, p, sample_size):\n",
    "    semigroups = []\n",
    "    for j in range(sample_size):\n",
    "        generators = []\n",
    "        for i in range(M):\n",
    "            if random.random() < p:\n",
    "                generators.append(i)\n",
    "        if gcd(generators) != 1:\n",
    "            continue\n",
    "        semigroups.append(NumericalSemigroup(generators))\n",
    "    semigroups\n",
    "    return semigroups\n",
    "             \n",
    "def frobenius_numbers(semigroups):\n",
    "    return [semigroup.FrobeniusNumber() for semigroup in semigroups]\n",
    "\n",
    "def embedding_dims(semigroups):\n",
    "    return [len(semigroup.gens) for semigroup in semigroups]\n",
    "\n"
   ]
  },
  {
   "cell_type": "code",
   "execution_count": 263,
   "metadata": {},
   "outputs": [
    {
     "name": "stdout",
     "output_type": "stream",
     "text": [
      "15.764\n"
     ]
    },
    {
     "data": {
      "text/plain": [
       "(array([ 27.,  70., 173., 136., 186., 229., 102.,  65.,  11.,   1.]),\n",
       " array([ 1. ,  4.4,  7.8, 11.2, 14.6, 18. , 21.4, 24.8, 28.2, 31.6, 35. ]),\n",
       " <BarContainer object of 10 artists>)"
      ]
     },
     "execution_count": 263,
     "metadata": {},
     "output_type": "execute_result"
    },
    {
     "data": {
      "image/png": "[encoded data removed]",
      "text/plain": [
       "<Figure size 432x288 with 1 Axes>"
      ]
     },
     "metadata": {
      "needs_background": "light"
     },
     "output_type": "display_data"
    }
   ],
   "source": [
    "data = embedding_dims(generate_sample(25000, 0.01, 1000))\n",
    "print(np.mean(data))\n",
    "plt.hist(data)"
   ]
  },
  {
   "cell_type": "code",
   "execution_count": 292,
   "metadata": {},
   "outputs": [
    {
     "name": "stdout",
     "output_type": "stream",
     "text": [
      "1555.346\n"
     ]
    },
    {
     "data": {
      "text/plain": [
       "(array([188., 229., 224., 173., 106.,  40.,  24.,   6.,   5.,   5.]),\n",
       " array([-1.0000e+00,  6.0220e+02,  1.2054e+03,  1.8086e+03,  2.4118e+03,\n",
       "         3.0150e+03,  3.6182e+03,  4.2214e+03,  4.8246e+03,  5.4278e+03,\n",
       "         6.0310e+03]),\n",
       " <BarContainer object of 10 artists>)"
      ]
     },
     "execution_count": 292,
     "metadata": {},
     "output_type": "execute_result"
    },
    {
     "data": {
      "image/png": "[encoded data removed]",
      "text/plain": [
       "<Figure size 432x288 with 1 Axes>"
      ]
     },
     "metadata": {
      "needs_background": "light"
     },
     "output_type": "display_data"
    }
   ],
   "source": [
    "data = frobenius_numbers(generate_sample(25000, 0.01, 1000))\n",
    "print(np.mean(data))\n",
    "plt.hist(data)"
   ]
  },
  {
   "cell_type": "code",
   "execution_count": 277,
   "metadata": {},
   "outputs": [],
   "source": [
    "lower_bound_g = lambda p : ((6 - 14*p + 11*p^2 + 3*p^2)/(2*p - 2*p^3 - p^4)).n()\n",
    "upper_bound_g = lambda p : ((1 - p)*(2 - p^2)/(p^2)).n()\n"
   ]
  },
  {
   "cell_type": "code",
   "execution_count": 290,
   "metadata": {},
   "outputs": [
    {
     "name": "stdout",
     "output_type": "stream",
     "text": [
      "293.099456495378 19799.0100000000\n"
     ]
    }
   ],
   "source": [
    "p = 0.01\n",
    "print(lower_bound_g(p), upper_bound_g(p))"
   ]
  }
 ],
 "metadata": {
  "kernelspec": {
   "display_name": "SageMath 9.5",
   "language": "sage",
   "name": "sagemath"
  },
  "language_info": {
   "codemirror_mode": {
    "name": "ipython",
    "version": 3
   },
   "file_extension": ".py",
   "mimetype": "text/x-python",
   "name": "python",
   "nbconvert_exporter": "python",
   "pygments_lexer": "ipython3",
   "version": "3.10.6"
  },
  "orig_nbformat": 4
 },
 "nbformat": 4,
 "nbformat_minor": 2
}
