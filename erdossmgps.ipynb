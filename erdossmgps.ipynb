{
 "cells": [
  {
   "cell_type": "code",
   "execution_count": 1,
   "metadata": {},
   "outputs": [
    {
     "name": "stdout",
     "output_type": "stream",
     "text": [
      "true\n",
      "Successfully loaded Singular\n"
     ]
    }
   ],
   "source": [
    "#Import packages\n",
    "\n",
    "import matplotlib.pyplot as plt\n",
    "import random\n",
    "import numpy as np\n",
    "load('NumericalSemigroup.sage')\n"
   ]
  },
  {
   "cell_type": "code",
   "execution_count": 2,
   "metadata": {},
   "outputs": [
    {
     "name": "stdout",
     "output_type": "stream",
     "text": [
      "43\n",
      "[20, 24, 25, 26, 27, 28, 29, 30, 31, 32, 33, 34, 35, 36, 37, 38, 39, 40, 41, 42, 43, 44, 45, 46, 47, 48, 49, 50, 51, 52, 53, 54, 55, 56, 57, 58, 59, 60, 61, 62]\n",
      "{1, 4}\n",
      "70\n",
      "7\n"
     ]
    },
    {
     "data": {
      "text/plain": [
       "[8, 3, 1, 6, 4]"
      ]
     },
     "execution_count": 2,
     "metadata": {},
     "output_type": "execute_result"
    }
   ],
   "source": [
    "#Test NumericalSemigroup Package\n",
    "McNuggets = NumericalSemigroup([6,9,20])\n",
    "print(McNuggets.FrobeniusNumber())\n",
    "print(McNuggets.LengthSet(400))\n",
    "print(McNuggets.DeltaSet(400))\n",
    "print(McNuggets.OmegaPrimality(400))\n",
    "print(McNuggets.CatenaryDegree(400))\n",
    "load('KunzPoset.sage')\n",
    "load('PlotKunzPoset.sage')\n",
    "PlotKunzPoset([6,9,20])\n",
    "PlotKunzPoset([5,6,9])\n",
    "McNuggets.KunzCoordinates()\n"
   ]
  },
  {
   "cell_type": "code",
   "execution_count": 3,
   "metadata": {},
   "outputs": [
    {
     "data": {
      "text/plain": [
       "[6, 9, 20]"
      ]
     },
     "execution_count": 3,
     "metadata": {},
     "output_type": "execute_result"
    }
   ],
   "source": [
    "NumericalSemigroup([6,9,20]).gens"
   ]
  },
  {
   "cell_type": "code",
   "execution_count": 4,
   "metadata": {},
   "outputs": [],
   "source": [
    "# Estimate function in Expected Frobenious numbers\n",
    "def estimate(generators, n):\n",
    "    return ((factorial(n - 1) * prod(generators)) ^ (1 / (n - 1))).n()\n",
    "\n",
    "# Generates random sample using erdos-renyi model \n",
    "def generate_sample(M, p, sample_size):\n",
    "    semigroups = []\n",
    "    for j in range(sample_size):\n",
    "        generators = []\n",
    "        for i in range(M):\n",
    "            if random.random() < p:\n",
    "                generators.append(i)\n",
    "        if gcd(generators) != 1:\n",
    "            continue\n",
    "        semigroups.append(NumericalSemigroup(generators))\n",
    "    return semigroups\n",
    "             \n",
    "def frobenius_numbers(semigroups):\n",
    "    return [semigroup.FrobeniusNumber() for semigroup in semigroups]\n",
    "\n",
    "def embedding_dims(semigroups):\n",
    "    return [len(semigroup.gens) for semigroup in semigroups]\n",
    "\n"
   ]
  },
  {
   "cell_type": "code",
   "execution_count": 5,
   "metadata": {},
   "outputs": [],
   "source": [
    "semigroups1 = generate_sample(25000, 0.01, 1000)"
   ]
  },
  {
   "cell_type": "code",
   "execution_count": 6,
   "metadata": {},
   "outputs": [
    {
     "name": "stdout",
     "output_type": "stream",
     "text": [
      "9.708\n"
     ]
    },
    {
     "data": {
      "text/plain": [
       "(array([157., 311., 261., 138.,  80.,  40.,   6.,   4.,   1.,   2.]),\n",
       " array([ 1. ,  4.7,  8.4, 12.1, 15.8, 19.5, 23.2, 26.9, 30.6, 34.3, 38. ]),\n",
       " <BarContainer object of 10 artists>)"
      ]
     },
     "execution_count": 6,
     "metadata": {},
     "output_type": "execute_result"
    },
    {
     "data": {
      "image/png": "[encoded data removed]",
      "text/plain": [
       "<Figure size 432x288 with 1 Axes>"
      ]
     },
     "metadata": {
      "needs_background": "light"
     },
     "output_type": "display_data"
    }
   ],
   "source": [
    "data = embedding_dims(semigroups1)\n",
    "print(np.mean(data))\n",
    "# histogram of data\n",
    "plt.hist(data)"
   ]
  },
  {
   "cell_type": "code",
   "execution_count": 7,
   "metadata": {},
   "outputs": [
    {
     "name": "stdout",
     "output_type": "stream",
     "text": [
      "1558.848\n"
     ]
    },
    {
     "data": {
      "text/plain": [
       "(array([141., 232., 248., 153., 116.,  69.,  25.,   6.,   7.,   3.]),\n",
       " array([-1.000e+00,  5.650e+02,  1.131e+03,  1.697e+03,  2.263e+03,\n",
       "         2.829e+03,  3.395e+03,  3.961e+03,  4.527e+03,  5.093e+03,\n",
       "         5.659e+03]),\n",
       " <BarContainer object of 10 artists>)"
      ]
     },
     "execution_count": 7,
     "metadata": {},
     "output_type": "execute_result"
    },
    {
     "data": {
      "image/png": "[encoded data removed]",
      "text/plain": [
       "<Figure size 432x288 with 1 Axes>"
      ]
     },
     "metadata": {
      "needs_background": "light"
     },
     "output_type": "display_data"
    }
   ],
   "source": [
    "data = frobenius_numbers(semigroups1)\n",
    "print(np.mean(data))\n",
    "plt.hist(data)"
   ]
  },
  {
   "cell_type": "code",
   "execution_count": 8,
   "metadata": {},
   "outputs": [
    {
     "name": "stdout",
     "output_type": "stream",
     "text": [
      "293.0994564953778 39598.02\n"
     ]
    }
   ],
   "source": [
    "\n",
    "lower_bound_e = lambda p : ((6 - 8*p + 3*p^2)/(2 - 2*p^2 + p^3))\n",
    "upper_bound_e = lambda p : ((2 - p^2)/(p))\n",
    "\n",
    "lower_bound_g = lambda p : ((6 - 14*p + 11*p^2 + 3*p^2)/(2*p - 2*p^3 - p^4))\n",
    "upper_bound_g = lambda p : ((1 - p)*(2 - p^2)/(p^2))\n",
    "\n",
    "#Example\n",
    "p = np.array([0.01])\n",
    "print(lower_bound_g(p[0]), 2*upper_bound_g(p[0]))"
   ]
  },
  {
   "cell_type": "code",
   "execution_count": 9,
   "metadata": {},
   "outputs": [
    {
     "ename": "KeyboardInterrupt",
     "evalue": "Ctrl-c pressed while running Gap",
     "output_type": "error",
     "traceback": [
      "\u001b[0;31m---------------------------------------------------------------------------\u001b[0m",
      "\u001b[0;31mKeyboardInterrupt\u001b[0m                         Traceback (most recent call last)",
      "\u001b[0;32m/usr/lib/python3/dist-packages/sage/interfaces/gap.py\u001b[0m in \u001b[0;36m_eval_line\u001b[0;34m(self, line, allow_use_file, wait_for_prompt, restart_if_needed)\u001b[0m\n\u001b[1;32m    657\u001b[0m \u001b[0;34m\u001b[0m\u001b[0m\n\u001b[0;32m--> 658\u001b[0;31m             (normal, error) = self._execute_line(line, wait_for_prompt=wait_for_prompt,\n\u001b[0m\u001b[1;32m    659\u001b[0m                                                  expect_eof=expect_eof)\n",
      "\u001b[0;32m/usr/lib/python3/dist-packages/sage/interfaces/gap.py\u001b[0m in \u001b[0;36m_execute_line\u001b[0;34m(self, line, wait_for_prompt, expect_eof)\u001b[0m\n\u001b[1;32m    523\u001b[0m             \u001b[0;32mwhile\u001b[0m \u001b[0;32mTrue\u001b[0m\u001b[0;34m:\u001b[0m\u001b[0;34m\u001b[0m\u001b[0;34m\u001b[0m\u001b[0m\n\u001b[0;32m--> 524\u001b[0;31m                 \u001b[0mx\u001b[0m \u001b[0;34m=\u001b[0m \u001b[0mE\u001b[0m\u001b[0;34m.\u001b[0m\u001b[0mexpect_list\u001b[0m\u001b[0;34m(\u001b[0m\u001b[0mself\u001b[0m\u001b[0;34m.\u001b[0m\u001b[0m_compiled_full_pattern\u001b[0m\u001b[0;34m)\u001b[0m\u001b[0;34m\u001b[0m\u001b[0;34m\u001b[0m\u001b[0m\n\u001b[0m\u001b[1;32m    525\u001b[0m                 \u001b[0mcurrent_outputs\u001b[0m\u001b[0;34m.\u001b[0m\u001b[0mappend\u001b[0m\u001b[0;34m(\u001b[0m\u001b[0mE\u001b[0m\u001b[0;34m.\u001b[0m\u001b[0mbefore\u001b[0m\u001b[0;34m)\u001b[0m\u001b[0;34m\u001b[0m\u001b[0;34m\u001b[0m\u001b[0m\n",
      "\u001b[0;32m/usr/lib/python3/dist-packages/pexpect/spawnbase.py\u001b[0m in \u001b[0;36mexpect_list\u001b[0;34m(self, pattern_list, timeout, searchwindowsize, async_, **kw)\u001b[0m\n\u001b[1;32m    366\u001b[0m \u001b[0;34m\u001b[0m\u001b[0m\n\u001b[0;32m--> 367\u001b[0;31m         \u001b[0mexp\u001b[0m \u001b[0;34m=\u001b[0m \u001b[0mExpecter\u001b[0m\u001b[0;34m(\u001b[0m\u001b[0mself\u001b[0m\u001b[0;34m,\u001b[0m \u001b[0msearcher_re\u001b[0m\u001b[0;34m(\u001b[0m\u001b[0mpattern_list\u001b[0m\u001b[0;34m)\u001b[0m\u001b[0;34m,\u001b[0m \u001b[0msearchwindowsize\u001b[0m\u001b[0;34m)\u001b[0m\u001b[0;34m\u001b[0m\u001b[0;34m\u001b[0m\u001b[0m\n\u001b[0m\u001b[1;32m    368\u001b[0m         \u001b[0;32mif\u001b[0m \u001b[0masync_\u001b[0m\u001b[0;34m:\u001b[0m\u001b[0;34m\u001b[0m\u001b[0;34m\u001b[0m\u001b[0m\n",
      "\u001b[0;32m/usr/lib/python3/dist-packages/pexpect/expect.py\u001b[0m in \u001b[0;36m__init__\u001b[0;34m(self, patterns)\u001b[0m\n\u001b[1;32m    318\u001b[0m                 \u001b[0;32mcontinue\u001b[0m\u001b[0;34m\u001b[0m\u001b[0;34m\u001b[0m\u001b[0m\n\u001b[0;32m--> 319\u001b[0;31m             \u001b[0mself\u001b[0m\u001b[0;34m.\u001b[0m\u001b[0m_searches\u001b[0m\u001b[0;34m.\u001b[0m\u001b[0mappend\u001b[0m\u001b[0;34m(\u001b[0m\u001b[0;34m(\u001b[0m\u001b[0mn\u001b[0m\u001b[0;34m,\u001b[0m \u001b[0ms\u001b[0m\u001b[0;34m)\u001b[0m\u001b[0;34m)\u001b[0m\u001b[0;34m\u001b[0m\u001b[0;34m\u001b[0m\u001b[0m\n\u001b[0m\u001b[1;32m    320\u001b[0m \u001b[0;34m\u001b[0m\u001b[0m\n",
      "\u001b[0;32msrc/cysignals/signals.pyx\u001b[0m in \u001b[0;36mcysignals.signals.python_check_interrupt\u001b[0;34m()\u001b[0m\n",
      "\u001b[0;31mKeyboardInterrupt\u001b[0m: ",
      "\nDuring handling of the above exception, another exception occurred:\n",
      "\u001b[0;31mKeyboardInterrupt\u001b[0m                         Traceback (most recent call last)",
      "\u001b[0;32m/tmp/ipykernel_17265/4025522831.py\u001b[0m in \u001b[0;36m<module>\u001b[0;34m\u001b[0m\n\u001b[1;32m      7\u001b[0m \u001b[0mn\u001b[0m \u001b[0;34m=\u001b[0m \u001b[0mInteger\u001b[0m\u001b[0;34m(\u001b[0m\u001b[0;36m1000\u001b[0m\u001b[0;34m)\u001b[0m\u001b[0;34m\u001b[0m\u001b[0;34m\u001b[0m\u001b[0m\n\u001b[1;32m      8\u001b[0m \u001b[0;32mfor\u001b[0m \u001b[0mi\u001b[0m \u001b[0;32min\u001b[0m \u001b[0mrange\u001b[0m\u001b[0;34m(\u001b[0m\u001b[0mn_samples\u001b[0m\u001b[0;34m)\u001b[0m\u001b[0;34m:\u001b[0m\u001b[0;34m\u001b[0m\u001b[0;34m\u001b[0m\u001b[0m\n\u001b[0;32m----> 9\u001b[0;31m     \u001b[0msamples\u001b[0m\u001b[0;34m.\u001b[0m\u001b[0mappend\u001b[0m\u001b[0;34m(\u001b[0m\u001b[0mgenerate_sample\u001b[0m\u001b[0;34m(\u001b[0m\u001b[0mM\u001b[0m\u001b[0;34m,\u001b[0m \u001b[0mx\u001b[0m\u001b[0;34m[\u001b[0m\u001b[0mi\u001b[0m\u001b[0;34m]\u001b[0m\u001b[0;34m,\u001b[0m \u001b[0mn\u001b[0m\u001b[0;34m)\u001b[0m\u001b[0;34m)\u001b[0m\u001b[0;34m\u001b[0m\u001b[0;34m\u001b[0m\u001b[0m\n\u001b[0m\u001b[1;32m     10\u001b[0m     \u001b[0mprint\u001b[0m\u001b[0;34m(\u001b[0m\u001b[0mi\u001b[0m\u001b[0;34m)\u001b[0m\u001b[0;34m\u001b[0m\u001b[0;34m\u001b[0m\u001b[0m\n",
      "\u001b[0;32m/tmp/ipykernel_17265/565704761.py\u001b[0m in \u001b[0;36mgenerate_sample\u001b[0;34m(M, p, sample_size)\u001b[0m\n\u001b[1;32m     13\u001b[0m         \u001b[0;32mif\u001b[0m \u001b[0mgcd\u001b[0m\u001b[0;34m(\u001b[0m\u001b[0mgenerators\u001b[0m\u001b[0;34m)\u001b[0m \u001b[0;34m!=\u001b[0m \u001b[0mInteger\u001b[0m\u001b[0;34m(\u001b[0m\u001b[0;36m1\u001b[0m\u001b[0;34m)\u001b[0m\u001b[0;34m:\u001b[0m\u001b[0;34m\u001b[0m\u001b[0;34m\u001b[0m\u001b[0m\n\u001b[1;32m     14\u001b[0m             \u001b[0;32mcontinue\u001b[0m\u001b[0;34m\u001b[0m\u001b[0;34m\u001b[0m\u001b[0m\n\u001b[0;32m---> 15\u001b[0;31m         \u001b[0msemigroups\u001b[0m\u001b[0;34m.\u001b[0m\u001b[0mappend\u001b[0m\u001b[0;34m(\u001b[0m\u001b[0mNumericalSemigroup\u001b[0m\u001b[0;34m(\u001b[0m\u001b[0mgenerators\u001b[0m\u001b[0;34m)\u001b[0m\u001b[0;34m)\u001b[0m\u001b[0;34m\u001b[0m\u001b[0;34m\u001b[0m\u001b[0m\n\u001b[0m\u001b[1;32m     16\u001b[0m     \u001b[0;32mreturn\u001b[0m \u001b[0msemigroups\u001b[0m\u001b[0;34m\u001b[0m\u001b[0;34m\u001b[0m\u001b[0m\n\u001b[1;32m     17\u001b[0m \u001b[0;34m\u001b[0m\u001b[0m\n",
      "\u001b[0;32m<string>\u001b[0m in \u001b[0;36m__init__\u001b[0;34m(self, gens)\u001b[0m\n",
      "\u001b[0;32m<string>\u001b[0m in \u001b[0;36m__InitWithGapSemigroup\u001b[0;34m(self, semigroup)\u001b[0m\n",
      "\u001b[0;32m<string>\u001b[0m in \u001b[0;36m<listcomp>\u001b[0;34m(.0)\u001b[0m\n",
      "\u001b[0;32m/usr/lib/python3/dist-packages/sage/interfaces/interface.py\u001b[0m in \u001b[0;36m__iter__\u001b[0;34m(self)\u001b[0m\n\u001b[1;32m    749\u001b[0m     \u001b[0;32mdef\u001b[0m \u001b[0m__iter__\u001b[0m\u001b[0;34m(\u001b[0m\u001b[0mself\u001b[0m\u001b[0;34m)\u001b[0m\u001b[0;34m:\u001b[0m\u001b[0;34m\u001b[0m\u001b[0;34m\u001b[0m\u001b[0m\n\u001b[1;32m    750\u001b[0m         \u001b[0;32mfor\u001b[0m \u001b[0mi\u001b[0m \u001b[0;32min\u001b[0m \u001b[0mrange\u001b[0m\u001b[0;34m(\u001b[0m\u001b[0;36m1\u001b[0m\u001b[0;34m,\u001b[0m \u001b[0mlen\u001b[0m\u001b[0;34m(\u001b[0m\u001b[0mself\u001b[0m\u001b[0;34m)\u001b[0m \u001b[0;34m+\u001b[0m \u001b[0;36m1\u001b[0m\u001b[0;34m)\u001b[0m\u001b[0;34m:\u001b[0m\u001b[0;34m\u001b[0m\u001b[0;34m\u001b[0m\u001b[0m\n\u001b[0;32m--> 751\u001b[0;31m             \u001b[0;32myield\u001b[0m \u001b[0mself\u001b[0m\u001b[0;34m[\u001b[0m\u001b[0mi\u001b[0m\u001b[0;34m]\u001b[0m\u001b[0;34m\u001b[0m\u001b[0;34m\u001b[0m\u001b[0m\n\u001b[0m\u001b[1;32m    752\u001b[0m \u001b[0;34m\u001b[0m\u001b[0m\n\u001b[1;32m    753\u001b[0m     \u001b[0;32mdef\u001b[0m \u001b[0m__len__\u001b[0m\u001b[0;34m(\u001b[0m\u001b[0mself\u001b[0m\u001b[0;34m)\u001b[0m\u001b[0;34m:\u001b[0m\u001b[0;34m\u001b[0m\u001b[0;34m\u001b[0m\u001b[0m\n",
      "\u001b[0;32m/usr/lib/python3/dist-packages/sage/interfaces/gap.py\u001b[0m in \u001b[0;36m__getitem__\u001b[0;34m(self, n)\u001b[0m\n\u001b[1;32m   1517\u001b[0m         \u001b[0mself\u001b[0m\u001b[0;34m.\u001b[0m\u001b[0m_check_valid\u001b[0m\u001b[0;34m(\u001b[0m\u001b[0;34m)\u001b[0m\u001b[0;34m\u001b[0m\u001b[0;34m\u001b[0m\u001b[0m\n\u001b[1;32m   1518\u001b[0m         \u001b[0;32mif\u001b[0m \u001b[0;32mnot\u001b[0m \u001b[0misinstance\u001b[0m\u001b[0;34m(\u001b[0m\u001b[0mn\u001b[0m\u001b[0;34m,\u001b[0m \u001b[0mtuple\u001b[0m\u001b[0;34m)\u001b[0m\u001b[0;34m:\u001b[0m\u001b[0;34m\u001b[0m\u001b[0;34m\u001b[0m\u001b[0m\n\u001b[0;32m-> 1519\u001b[0;31m             \u001b[0;32mreturn\u001b[0m \u001b[0mself\u001b[0m\u001b[0;34m.\u001b[0m\u001b[0mparent\u001b[0m\u001b[0;34m(\u001b[0m\u001b[0;34m)\u001b[0m\u001b[0;34m.\u001b[0m\u001b[0mnew\u001b[0m\u001b[0;34m(\u001b[0m\u001b[0;34m'%s[%s]'\u001b[0m \u001b[0;34m%\u001b[0m \u001b[0;34m(\u001b[0m\u001b[0mself\u001b[0m\u001b[0;34m.\u001b[0m\u001b[0m_name\u001b[0m\u001b[0;34m,\u001b[0m \u001b[0mn\u001b[0m\u001b[0;34m)\u001b[0m\u001b[0;34m)\u001b[0m\u001b[0;34m\u001b[0m\u001b[0;34m\u001b[0m\u001b[0m\n\u001b[0m\u001b[1;32m   1520\u001b[0m         return self.parent().new('%s%s' % (self._name,\n\u001b[1;32m   1521\u001b[0m                                            ''.join('[%s]' % x for x in n)))\n",
      "\u001b[0;32m/usr/lib/python3/dist-packages/sage/interfaces/interface.py\u001b[0m in \u001b[0;36mnew\u001b[0;34m(self, code)\u001b[0m\n\u001b[1;32m    380\u001b[0m \u001b[0;34m\u001b[0m\u001b[0m\n\u001b[1;32m    381\u001b[0m     \u001b[0;32mdef\u001b[0m \u001b[0mnew\u001b[0m\u001b[0;34m(\u001b[0m\u001b[0mself\u001b[0m\u001b[0;34m,\u001b[0m \u001b[0mcode\u001b[0m\u001b[0;34m)\u001b[0m\u001b[0;34m:\u001b[0m\u001b[0;34m\u001b[0m\u001b[0;34m\u001b[0m\u001b[0m\n\u001b[0;32m--> 382\u001b[0;31m         \u001b[0;32mreturn\u001b[0m \u001b[0mself\u001b[0m\u001b[0;34m(\u001b[0m\u001b[0mcode\u001b[0m\u001b[0;34m)\u001b[0m\u001b[0;34m\u001b[0m\u001b[0;34m\u001b[0m\u001b[0m\n\u001b[0m\u001b[1;32m    383\u001b[0m \u001b[0;34m\u001b[0m\u001b[0m\n\u001b[1;32m    384\u001b[0m     \u001b[0;31m###################################################################\u001b[0m\u001b[0;34m\u001b[0m\u001b[0;34m\u001b[0m\u001b[0m\n",
      "\u001b[0;32m/usr/lib/python3/dist-packages/sage/interfaces/interface.py\u001b[0m in \u001b[0;36m__call__\u001b[0;34m(self, x, name)\u001b[0m\n\u001b[1;32m    293\u001b[0m \u001b[0;34m\u001b[0m\u001b[0m\n\u001b[1;32m    294\u001b[0m         \u001b[0;32mif\u001b[0m \u001b[0misinstance\u001b[0m\u001b[0;34m(\u001b[0m\u001b[0mx\u001b[0m\u001b[0;34m,\u001b[0m \u001b[0mstr\u001b[0m\u001b[0;34m)\u001b[0m\u001b[0;34m:\u001b[0m\u001b[0;34m\u001b[0m\u001b[0;34m\u001b[0m\u001b[0m\n\u001b[0;32m--> 295\u001b[0;31m             \u001b[0;32mreturn\u001b[0m \u001b[0mcls\u001b[0m\u001b[0;34m(\u001b[0m\u001b[0mself\u001b[0m\u001b[0;34m,\u001b[0m \u001b[0mx\u001b[0m\u001b[0;34m,\u001b[0m \u001b[0mname\u001b[0m\u001b[0;34m=\u001b[0m\u001b[0mname\u001b[0m\u001b[0;34m)\u001b[0m\u001b[0;34m\u001b[0m\u001b[0;34m\u001b[0m\u001b[0m\n\u001b[0m\u001b[1;32m    296\u001b[0m         \u001b[0;32mtry\u001b[0m\u001b[0;34m:\u001b[0m\u001b[0;34m\u001b[0m\u001b[0;34m\u001b[0m\u001b[0m\n\u001b[1;32m    297\u001b[0m             \u001b[0;31m# Special methods do not and should not have an option to\u001b[0m\u001b[0;34m\u001b[0m\u001b[0;34m\u001b[0m\u001b[0m\n",
      "\u001b[0;32m/usr/lib/python3/dist-packages/sage/interfaces/expect.py\u001b[0m in \u001b[0;36m__init__\u001b[0;34m(self, parent, value, is_name, name)\u001b[0m\n\u001b[1;32m   1468\u001b[0m         \u001b[0;32melse\u001b[0m\u001b[0;34m:\u001b[0m\u001b[0;34m\u001b[0m\u001b[0;34m\u001b[0m\u001b[0m\n\u001b[1;32m   1469\u001b[0m             \u001b[0;32mtry\u001b[0m\u001b[0;34m:\u001b[0m\u001b[0;34m\u001b[0m\u001b[0;34m\u001b[0m\u001b[0m\n\u001b[0;32m-> 1470\u001b[0;31m                 \u001b[0mself\u001b[0m\u001b[0;34m.\u001b[0m\u001b[0m_name\u001b[0m \u001b[0;34m=\u001b[0m \u001b[0mparent\u001b[0m\u001b[0;34m.\u001b[0m\u001b[0m_create\u001b[0m\u001b[0;34m(\u001b[0m\u001b[0mvalue\u001b[0m\u001b[0;34m,\u001b[0m \u001b[0mname\u001b[0m\u001b[0;34m=\u001b[0m\u001b[0mname\u001b[0m\u001b[0;34m)\u001b[0m\u001b[0;34m\u001b[0m\u001b[0;34m\u001b[0m\u001b[0m\n\u001b[0m\u001b[1;32m   1471\u001b[0m             \u001b[0;31m# Convert ValueError and RuntimeError to TypeError for\u001b[0m\u001b[0;34m\u001b[0m\u001b[0;34m\u001b[0m\u001b[0m\n\u001b[1;32m   1472\u001b[0m             \u001b[0;31m# coercion to work properly.\u001b[0m\u001b[0;34m\u001b[0m\u001b[0;34m\u001b[0m\u001b[0m\n",
      "\u001b[0;32m/usr/lib/python3/dist-packages/sage/interfaces/interface.py\u001b[0m in \u001b[0;36m_create\u001b[0;34m(self, value, name)\u001b[0m\n\u001b[1;32m    511\u001b[0m     \u001b[0;32mdef\u001b[0m \u001b[0m_create\u001b[0m\u001b[0;34m(\u001b[0m\u001b[0mself\u001b[0m\u001b[0;34m,\u001b[0m \u001b[0mvalue\u001b[0m\u001b[0;34m,\u001b[0m \u001b[0mname\u001b[0m\u001b[0;34m=\u001b[0m\u001b[0;32mNone\u001b[0m\u001b[0;34m)\u001b[0m\u001b[0;34m:\u001b[0m\u001b[0;34m\u001b[0m\u001b[0;34m\u001b[0m\u001b[0m\n\u001b[1;32m    512\u001b[0m         \u001b[0mname\u001b[0m \u001b[0;34m=\u001b[0m \u001b[0mself\u001b[0m\u001b[0;34m.\u001b[0m\u001b[0m_next_var_name\u001b[0m\u001b[0;34m(\u001b[0m\u001b[0;34m)\u001b[0m \u001b[0;32mif\u001b[0m \u001b[0mname\u001b[0m \u001b[0;32mis\u001b[0m \u001b[0;32mNone\u001b[0m \u001b[0;32melse\u001b[0m \u001b[0mname\u001b[0m\u001b[0;34m\u001b[0m\u001b[0;34m\u001b[0m\u001b[0m\n\u001b[0;32m--> 513\u001b[0;31m         \u001b[0mself\u001b[0m\u001b[0;34m.\u001b[0m\u001b[0mset\u001b[0m\u001b[0;34m(\u001b[0m\u001b[0mname\u001b[0m\u001b[0;34m,\u001b[0m \u001b[0mvalue\u001b[0m\u001b[0;34m)\u001b[0m\u001b[0;34m\u001b[0m\u001b[0;34m\u001b[0m\u001b[0m\n\u001b[0m\u001b[1;32m    514\u001b[0m         \u001b[0;32mreturn\u001b[0m \u001b[0mname\u001b[0m\u001b[0;34m\u001b[0m\u001b[0;34m\u001b[0m\u001b[0m\n\u001b[1;32m    515\u001b[0m \u001b[0;34m\u001b[0m\u001b[0m\n",
      "\u001b[0;32m/usr/lib/python3/dist-packages/sage/interfaces/gap.py\u001b[0m in \u001b[0;36mset\u001b[0;34m(self, var, value)\u001b[0m\n\u001b[1;32m   1326\u001b[0m         \"\"\"\n\u001b[1;32m   1327\u001b[0m         \u001b[0mcmd\u001b[0m \u001b[0;34m=\u001b[0m \u001b[0;34m(\u001b[0m\u001b[0;34m'%s:=%s;;'\u001b[0m \u001b[0;34m%\u001b[0m \u001b[0;34m(\u001b[0m\u001b[0mvar\u001b[0m\u001b[0;34m,\u001b[0m \u001b[0mvalue\u001b[0m\u001b[0;34m)\u001b[0m\u001b[0;34m)\u001b[0m\u001b[0;34m.\u001b[0m\u001b[0mreplace\u001b[0m\u001b[0;34m(\u001b[0m\u001b[0;34m'\\n'\u001b[0m\u001b[0;34m,\u001b[0m\u001b[0;34m''\u001b[0m\u001b[0;34m)\u001b[0m\u001b[0;34m\u001b[0m\u001b[0;34m\u001b[0m\u001b[0m\n\u001b[0;32m-> 1328\u001b[0;31m         \u001b[0mself\u001b[0m\u001b[0;34m.\u001b[0m\u001b[0m_eval_line\u001b[0m\u001b[0;34m(\u001b[0m\u001b[0mcmd\u001b[0m\u001b[0;34m,\u001b[0m \u001b[0mallow_use_file\u001b[0m\u001b[0;34m=\u001b[0m\u001b[0;32mTrue\u001b[0m\u001b[0;34m)\u001b[0m\u001b[0;34m\u001b[0m\u001b[0;34m\u001b[0m\u001b[0m\n\u001b[0m\u001b[1;32m   1329\u001b[0m \u001b[0;34m\u001b[0m\u001b[0m\n\u001b[1;32m   1330\u001b[0m     \u001b[0;32mdef\u001b[0m \u001b[0mget\u001b[0m\u001b[0;34m(\u001b[0m\u001b[0mself\u001b[0m\u001b[0;34m,\u001b[0m \u001b[0mvar\u001b[0m\u001b[0;34m,\u001b[0m \u001b[0muse_file\u001b[0m\u001b[0;34m=\u001b[0m\u001b[0;32mFalse\u001b[0m\u001b[0;34m)\u001b[0m\u001b[0;34m:\u001b[0m\u001b[0;34m\u001b[0m\u001b[0;34m\u001b[0m\u001b[0m\n",
      "\u001b[0;32m/usr/lib/python3/dist-packages/sage/interfaces/gap.py\u001b[0m in \u001b[0;36m_eval_line\u001b[0;34m(self, line, allow_use_file, wait_for_prompt, restart_if_needed)\u001b[0m\n\u001b[1;32m    708\u001b[0m \u001b[0;34m\u001b[0m\u001b[0m\n\u001b[1;32m    709\u001b[0m         \u001b[0;32mexcept\u001b[0m \u001b[0mKeyboardInterrupt\u001b[0m\u001b[0;34m:\u001b[0m\u001b[0;34m\u001b[0m\u001b[0;34m\u001b[0m\u001b[0m\n\u001b[0;32m--> 710\u001b[0;31m             \u001b[0mself\u001b[0m\u001b[0;34m.\u001b[0m\u001b[0m_keyboard_interrupt\u001b[0m\u001b[0;34m(\u001b[0m\u001b[0;34m)\u001b[0m\u001b[0;34m\u001b[0m\u001b[0;34m\u001b[0m\u001b[0m\n\u001b[0m\u001b[1;32m    711\u001b[0m             \u001b[0;32mraise\u001b[0m \u001b[0mKeyboardInterrupt\u001b[0m\u001b[0;34m(\u001b[0m\u001b[0;34m\"Ctrl-c pressed while running %s\"\u001b[0m\u001b[0;34m%\u001b[0m\u001b[0mself\u001b[0m\u001b[0;34m)\u001b[0m\u001b[0;34m\u001b[0m\u001b[0;34m\u001b[0m\u001b[0m\n\u001b[1;32m    712\u001b[0m \u001b[0;34m\u001b[0m\u001b[0m\n",
      "\u001b[0;32m/usr/lib/python3/dist-packages/sage/interfaces/gap.py\u001b[0m in \u001b[0;36m_keyboard_interrupt\u001b[0;34m(self)\u001b[0m\n\u001b[1;32m    586\u001b[0m         \"\"\"\n\u001b[1;32m    587\u001b[0m         \u001b[0mself\u001b[0m\u001b[0;34m.\u001b[0m\u001b[0mquit\u001b[0m\u001b[0;34m(\u001b[0m\u001b[0;34m)\u001b[0m\u001b[0;34m\u001b[0m\u001b[0;34m\u001b[0m\u001b[0m\n\u001b[0;32m--> 588\u001b[0;31m         \u001b[0;32mraise\u001b[0m \u001b[0mKeyboardInterrupt\u001b[0m\u001b[0;34m(\u001b[0m\u001b[0;34m\"Ctrl-c pressed while running %s\"\u001b[0m\u001b[0;34m%\u001b[0m\u001b[0mself\u001b[0m\u001b[0;34m)\u001b[0m\u001b[0;34m\u001b[0m\u001b[0;34m\u001b[0m\u001b[0m\n\u001b[0m\u001b[1;32m    589\u001b[0m \u001b[0;34m\u001b[0m\u001b[0m\n\u001b[1;32m    590\u001b[0m     \u001b[0;32mdef\u001b[0m \u001b[0m_eval_line\u001b[0m\u001b[0;34m(\u001b[0m\u001b[0mself\u001b[0m\u001b[0;34m,\u001b[0m \u001b[0mline\u001b[0m\u001b[0;34m,\u001b[0m \u001b[0mallow_use_file\u001b[0m\u001b[0;34m=\u001b[0m\u001b[0;32mTrue\u001b[0m\u001b[0;34m,\u001b[0m \u001b[0mwait_for_prompt\u001b[0m\u001b[0;34m=\u001b[0m\u001b[0;32mTrue\u001b[0m\u001b[0;34m,\u001b[0m \u001b[0mrestart_if_needed\u001b[0m\u001b[0;34m=\u001b[0m\u001b[0;32mTrue\u001b[0m\u001b[0;34m)\u001b[0m\u001b[0;34m:\u001b[0m\u001b[0;34m\u001b[0m\u001b[0;34m\u001b[0m\u001b[0m\n",
      "\u001b[0;31mKeyboardInterrupt\u001b[0m: Ctrl-c pressed while running Gap"
     ]
    },
    {
     "name": "stderr",
     "output_type": "stream",
     "text": [
      "IOStream.flush timed out\n"
     ]
    }
   ],
   "source": [
    "upper = -0.6\n",
    "lower = -3\n",
    "n_samples = 15\n",
    "x = np.logspace(upper, lower, n_samples)\n",
    "samples = []\n",
    "M = 25000\n",
    "n = 1000\n",
    "for i in range(n_samples):\n",
    "    samples.append(generate_sample(M, x[i], n))\n",
    "    print(i)"
   ]
  },
  {
   "cell_type": "code",
   "execution_count": null,
   "metadata": {},
   "outputs": [],
   "source": [
    "data_frobenius = np.array([np.mean(frobenius_numbers(sample)) for sample in samples])\n",
    "data_embedding = np.array([np.mean(embedding_dims(sample)) for sample in samples])"
   ]
  },
  {
   "cell_type": "code",
   "execution_count": null,
   "metadata": {},
   "outputs": [
    {
     "data": {
      "text/plain": [
       "[<matplotlib.lines.Line2D object at 0x7f1a9723b790>]"
      ]
     },
     "execution_count": 12,
     "metadata": {},
     "output_type": "execute_result"
    },
    {
     "data": {
      "image/png": "[encoded data removed]",
      "text/plain": [
       "<Figure size 432x288 with 1 Axes>"
      ]
     },
     "metadata": {
      "needs_background": "light"
     },
     "output_type": "display_data"
    }
   ],
   "source": [
    "plt.plot(x, data_embedding)"
   ]
  },
  {
   "cell_type": "code",
   "execution_count": null,
   "metadata": {},
   "outputs": [
    {
     "data": {
      "text/plain": [
       "[<matplotlib.lines.Line2D object at 0x7f1a972cb1c0>]"
      ]
     },
     "execution_count": 13,
     "metadata": {},
     "output_type": "execute_result"
    },
    {
     "data": {
      "image/png": "[encoded data removed]",
      "text/plain": [
       "<Figure size 432x288 with 1 Axes>"
      ]
     },
     "metadata": {
      "needs_background": "light"
     },
     "output_type": "display_data"
    }
   ],
   "source": [
    "plt.plot(1/x, data_embedding)\n",
    "plt.plot(1/x, np.log(1/x))"
   ]
  },
  {
   "cell_type": "code",
   "execution_count": null,
   "metadata": {},
   "outputs": [
    {
     "data": {
      "text/plain": [
       "[<matplotlib.lines.Line2D object at 0x7f1a97142680>]"
      ]
     },
     "execution_count": 14,
     "metadata": {},
     "output_type": "execute_result"
    },
    {
     "data": {
      "image/png": "[encoded data removed]",
      "text/plain": [
       "<Figure size 432x288 with 1 Axes>"
      ]
     },
     "metadata": {
      "needs_background": "light"
     },
     "output_type": "display_data"
    }
   ],
   "source": [
    "plt.plot(x, data_frobenius)"
   ]
  },
  {
   "cell_type": "code",
   "execution_count": null,
   "metadata": {},
   "outputs": [
    {
     "data": {
      "text/plain": [
       "[<matplotlib.lines.Line2D object at 0x7f1a971b1780>]"
      ]
     },
     "execution_count": 15,
     "metadata": {},
     "output_type": "execute_result"
    },
    {
     "data": {
      "image/png": "[encoded data removed]",
      "text/plain": [
       "<Figure size 432x288 with 1 Axes>"
      ]
     },
     "metadata": {
      "needs_background": "light"
     },
     "output_type": "display_data"
    }
   ],
   "source": [
    "plt.plot(1/x, data_frobenius)"
   ]
  },
  {
   "cell_type": "code",
   "execution_count": null,
   "metadata": {},
   "outputs": [],
   "source": []
  },
  {
   "cell_type": "code",
   "execution_count": null,
   "metadata": {},
   "outputs": [
    {
     "data": {
      "text/html": [
       "<div>\n",
       "<style scoped>\n",
       "    .dataframe tbody tr th:only-of-type {\n",
       "        vertical-align: middle;\n",
       "    }\n",
       "\n",
       "    .dataframe tbody tr th {\n",
       "        vertical-align: top;\n",
       "    }\n",
       "\n",
       "    .dataframe thead th {\n",
       "        text-align: right;\n",
       "    }\n",
       "</style>\n",
       "<table border=\"1\" class=\"dataframe\">\n",
       "  <thead>\n",
       "    <tr style=\"text-align: right;\">\n",
       "      <th></th>\n",
       "      <th>p</th>\n",
       "      <th>1/p</th>\n",
       "      <th>E(e(S)) lower bound</th>\n",
       "      <th>E(e(S))</th>\n",
       "      <th>E(e(S)) upper bound</th>\n",
       "      <th>(1/p) / E(e(S))</th>\n",
       "      <th>E(F(S)) lower bound</th>\n",
       "      <th>E(F(s))</th>\n",
       "      <th>E(F(S)) upper bound</th>\n",
       "      <th>(1/p) / E(F(s))</th>\n",
       "    </tr>\n",
       "  </thead>\n",
       "  <tbody>\n",
       "    <tr>\n",
       "      <th>0</th>\n",
       "      <td>0.251189</td>\n",
       "      <td>3.981072</td>\n",
       "      <td>2.211924</td>\n",
       "      <td>2.818</td>\n",
       "      <td>15.421910</td>\n",
       "      <td>1.412729</td>\n",
       "      <td>7.213866</td>\n",
       "      <td>13.647</td>\n",
       "      <td>4.597382e+01</td>\n",
       "      <td>0.291718</td>\n",
       "    </tr>\n",
       "    <tr>\n",
       "      <th>1</th>\n",
       "      <td>0.169267</td>\n",
       "      <td>5.907838</td>\n",
       "      <td>2.429631</td>\n",
       "      <td>3.365</td>\n",
       "      <td>23.292818</td>\n",
       "      <td>1.755672</td>\n",
       "      <td>12.290315</td>\n",
       "      <td>27.586</td>\n",
       "      <td>1.143174e+02</td>\n",
       "      <td>0.214161</td>\n",
       "    </tr>\n",
       "    <tr>\n",
       "      <th>2</th>\n",
       "      <td>0.114062</td>\n",
       "      <td>8.767124</td>\n",
       "      <td>2.595103</td>\n",
       "      <td>4.194</td>\n",
       "      <td>34.840371</td>\n",
       "      <td>2.090397</td>\n",
       "      <td>20.380081</td>\n",
       "      <td>54.693</td>\n",
       "      <td>2.706095e+02</td>\n",
       "      <td>0.160297</td>\n",
       "    </tr>\n",
       "    <tr>\n",
       "      <th>3</th>\n",
       "      <td>0.076862</td>\n",
       "      <td>13.010252</td>\n",
       "      <td>2.716846</td>\n",
       "      <td>4.730</td>\n",
       "      <td>51.887284</td>\n",
       "      <td>2.750582</td>\n",
       "      <td>32.769833</td>\n",
       "      <td>92.879</td>\n",
       "      <td>6.231794e+02</td>\n",
       "      <td>0.140077</td>\n",
       "    </tr>\n",
       "    <tr>\n",
       "      <th>4</th>\n",
       "      <td>0.051795</td>\n",
       "      <td>19.306977</td>\n",
       "      <td>2.804173</td>\n",
       "      <td>5.585</td>\n",
       "      <td>77.124320</td>\n",
       "      <td>3.456934</td>\n",
       "      <td>51.425026</td>\n",
       "      <td>168.715</td>\n",
       "      <td>1.411913e+03</td>\n",
       "      <td>0.114435</td>\n",
       "    </tr>\n",
       "    <tr>\n",
       "      <th>5</th>\n",
       "      <td>0.034903</td>\n",
       "      <td>28.651203</td>\n",
       "      <td>2.865647</td>\n",
       "      <td>6.496</td>\n",
       "      <td>114.535006</td>\n",
       "      <td>4.410592</td>\n",
       "      <td>79.296209</td>\n",
       "      <td>297.770</td>\n",
       "      <td>3.167031e+03</td>\n",
       "      <td>0.096219</td>\n",
       "    </tr>\n",
       "    <tr>\n",
       "      <th>6</th>\n",
       "      <td>0.023520</td>\n",
       "      <td>42.517863</td>\n",
       "      <td>2.908342</td>\n",
       "      <td>7.838</td>\n",
       "      <td>170.024413</td>\n",
       "      <td>5.424581</td>\n",
       "      <td>120.785826</td>\n",
       "      <td>531.230</td>\n",
       "      <td>7.059050e+03</td>\n",
       "      <td>0.080037</td>\n",
       "    </tr>\n",
       "    <tr>\n",
       "      <th>7</th>\n",
       "      <td>0.015849</td>\n",
       "      <td>63.095734</td>\n",
       "      <td>2.937713</td>\n",
       "      <td>8.511</td>\n",
       "      <td>252.351240</td>\n",
       "      <td>7.413434</td>\n",
       "      <td>182.444337</td>\n",
       "      <td>861.281</td>\n",
       "      <td>1.566994e+04</td>\n",
       "      <td>0.073258</td>\n",
       "    </tr>\n",
       "    <tr>\n",
       "      <th>8</th>\n",
       "      <td>0.010680</td>\n",
       "      <td>93.632921</td>\n",
       "      <td>2.957787</td>\n",
       "      <td>9.650</td>\n",
       "      <td>374.510324</td>\n",
       "      <td>9.702893</td>\n",
       "      <td>274.004943</td>\n",
       "      <td>1476.265</td>\n",
       "      <td>3.469199e+04</td>\n",
       "      <td>0.063426</td>\n",
       "    </tr>\n",
       "    <tr>\n",
       "      <th>9</th>\n",
       "      <td>0.007197</td>\n",
       "      <td>138.949549</td>\n",
       "      <td>2.971444</td>\n",
       "      <td>10.642</td>\n",
       "      <td>555.783804</td>\n",
       "      <td>13.056714</td>\n",
       "      <td>409.920334</td>\n",
       "      <td>2394.564</td>\n",
       "      <td>7.667013e+04</td>\n",
       "      <td>0.058027</td>\n",
       "    </tr>\n",
       "    <tr>\n",
       "      <th>10</th>\n",
       "      <td>0.004850</td>\n",
       "      <td>206.198601</td>\n",
       "      <td>2.980706</td>\n",
       "      <td>12.042</td>\n",
       "      <td>824.784704</td>\n",
       "      <td>17.123285</td>\n",
       "      <td>611.644171</td>\n",
       "      <td>3900.514</td>\n",
       "      <td>1.692447e+05</td>\n",
       "      <td>0.052864</td>\n",
       "    </tr>\n",
       "    <tr>\n",
       "      <th>11</th>\n",
       "      <td>0.003268</td>\n",
       "      <td>305.994969</td>\n",
       "      <td>2.986976</td>\n",
       "      <td>13.257</td>\n",
       "      <td>1223.973339</td>\n",
       "      <td>23.081766</td>\n",
       "      <td>911.017528</td>\n",
       "      <td>6375.384</td>\n",
       "      <td>3.733057e+05</td>\n",
       "      <td>0.047996</td>\n",
       "    </tr>\n",
       "    <tr>\n",
       "      <th>12</th>\n",
       "      <td>0.002202</td>\n",
       "      <td>454.090961</td>\n",
       "      <td>2.991213</td>\n",
       "      <td>14.368</td>\n",
       "      <td>1816.359440</td>\n",
       "      <td>31.604326</td>\n",
       "      <td>1355.294879</td>\n",
       "      <td>10217.057</td>\n",
       "      <td>8.229760e+05</td>\n",
       "      <td>0.044444</td>\n",
       "    </tr>\n",
       "    <tr>\n",
       "      <th>13</th>\n",
       "      <td>0.001484</td>\n",
       "      <td>673.862717</td>\n",
       "      <td>2.994074</td>\n",
       "      <td>15.442</td>\n",
       "      <td>2695.447899</td>\n",
       "      <td>43.638306</td>\n",
       "      <td>2014.602978</td>\n",
       "      <td>16364.909</td>\n",
       "      <td>1.813666e+06</td>\n",
       "      <td>0.041177</td>\n",
       "    </tr>\n",
       "    <tr>\n",
       "      <th>14</th>\n",
       "      <td>0.001000</td>\n",
       "      <td>1000.000000</td>\n",
       "      <td>2.996004</td>\n",
       "      <td>15.852</td>\n",
       "      <td>3999.998000</td>\n",
       "      <td>63.083523</td>\n",
       "      <td>2993.009995</td>\n",
       "      <td>27642.929</td>\n",
       "      <td>3.995998e+06</td>\n",
       "      <td>0.036176</td>\n",
       "    </tr>\n",
       "  </tbody>\n",
       "</table>\n",
       "</div>"
      ],
      "text/plain": [
       "           p          1/p  E(e(S)) lower bound  E(e(S))  E(e(S)) upper bound   \n",
       "0   0.251189     3.981072             2.211924    2.818            15.421910  \\\n",
       "1   0.169267     5.907838             2.429631    3.365            23.292818   \n",
       "2   0.114062     8.767124             2.595103    4.194            34.840371   \n",
       "3   0.076862    13.010252             2.716846    4.730            51.887284   \n",
       "4   0.051795    19.306977             2.804173    5.585            77.124320   \n",
       "5   0.034903    28.651203             2.865647    6.496           114.535006   \n",
       "6   0.023520    42.517863             2.908342    7.838           170.024413   \n",
       "7   0.015849    63.095734             2.937713    8.511           252.351240   \n",
       "8   0.010680    93.632921             2.957787    9.650           374.510324   \n",
       "9   0.007197   138.949549             2.971444   10.642           555.783804   \n",
       "10  0.004850   206.198601             2.980706   12.042           824.784704   \n",
       "11  0.003268   305.994969             2.986976   13.257          1223.973339   \n",
       "12  0.002202   454.090961             2.991213   14.368          1816.359440   \n",
       "13  0.001484   673.862717             2.994074   15.442          2695.447899   \n",
       "14  0.001000  1000.000000             2.996004   15.852          3999.998000   \n",
       "\n",
       "    (1/p) / E(e(S))  E(F(S)) lower bound    E(F(s))  E(F(S)) upper bound   \n",
       "0          1.412729             7.213866     13.647         4.597382e+01  \\\n",
       "1          1.755672            12.290315     27.586         1.143174e+02   \n",
       "2          2.090397            20.380081     54.693         2.706095e+02   \n",
       "3          2.750582            32.769833     92.879         6.231794e+02   \n",
       "4          3.456934            51.425026    168.715         1.411913e+03   \n",
       "5          4.410592            79.296209    297.770         3.167031e+03   \n",
       "6          5.424581           120.785826    531.230         7.059050e+03   \n",
       "7          7.413434           182.444337    861.281         1.566994e+04   \n",
       "8          9.702893           274.004943   1476.265         3.469199e+04   \n",
       "9         13.056714           409.920334   2394.564         7.667013e+04   \n",
       "10        17.123285           611.644171   3900.514         1.692447e+05   \n",
       "11        23.081766           911.017528   6375.384         3.733057e+05   \n",
       "12        31.604326          1355.294879  10217.057         8.229760e+05   \n",
       "13        43.638306          2014.602978  16364.909         1.813666e+06   \n",
       "14        63.083523          2993.009995  27642.929         3.995998e+06   \n",
       "\n",
       "    (1/p) / E(F(s))  \n",
       "0          0.291718  \n",
       "1          0.214161  \n",
       "2          0.160297  \n",
       "3          0.140077  \n",
       "4          0.114435  \n",
       "5          0.096219  \n",
       "6          0.080037  \n",
       "7          0.073258  \n",
       "8          0.063426  \n",
       "9          0.058027  \n",
       "10         0.052864  \n",
       "11         0.047996  \n",
       "12         0.044444  \n",
       "13         0.041177  \n",
       "14         0.036176  "
      ]
     },
     "execution_count": 16,
     "metadata": {},
     "output_type": "execute_result"
    }
   ],
   "source": [
    "import pandas as pd\n",
    "table = pd.DataFrame()\n",
    "table['p'] = x\n",
    "table['1/p'] = 1/x\n",
    "table['E(e(S)) lower bound'] = [lower_bound_e(p) for p in x]\n",
    "table['E(e(S))'] = data_embedding\n",
    "table['E(e(S)) upper bound'] = [2*upper_bound_e(p) for p in x]\n",
    "table['(1/p) / E(e(S))'] = (1/x)/data_embedding\n",
    "table['E(F(S)) lower bound'] = [lower_bound_g(p) for p in x]\n",
    "table['E(F(s))'] = data_frobenius\n",
    "table['E(F(S)) upper bound'] = [2*upper_bound_g(p) for p in x]\n",
    "table['(1/p) / E(F(s))'] = (1/x)/data_frobenius\n",
    "table"
   ]
  },
  {
   "cell_type": "code",
   "execution_count": 13,
   "metadata": {},
   "outputs": [
    {
     "name": "stdout",
     "output_type": "stream",
     "text": [
      "0\n"
     ]
    },
    {
     "name": "stderr",
     "output_type": "stream",
     "text": [
      "IOStream.flush timed out\n"
     ]
    },
    {
     "name": "stdout",
     "output_type": "stream",
     "text": [
      "1\n",
      "2\n",
      "3\n",
      "4\n",
      "5\n",
      "6\n",
      "7\n",
      "8\n",
      "9\n",
      "10\n",
      "11\n",
      "12\n",
      "13\n",
      "14\n"
     ]
    },
    {
     "ename": "NameError",
     "evalue": "name 'pd' is not defined",
     "output_type": "error",
     "traceback": [
      "\u001b[0;31m---------------------------------------------------------------------------\u001b[0m",
      "\u001b[0;31mNameError\u001b[0m                                 Traceback (most recent call last)",
      "\u001b[0;32m/tmp/ipykernel_17265/4119804677.py\u001b[0m in \u001b[0;36m<module>\u001b[0;34m\u001b[0m\n\u001b[1;32m     15\u001b[0m \u001b[0;34m\u001b[0m\u001b[0m\n\u001b[1;32m     16\u001b[0m \u001b[0;31m# Table\u001b[0m\u001b[0;34m\u001b[0m\u001b[0;34m\u001b[0m\u001b[0m\n\u001b[0;32m---> 17\u001b[0;31m \u001b[0mtable\u001b[0m \u001b[0;34m=\u001b[0m \u001b[0mpd\u001b[0m\u001b[0;34m.\u001b[0m\u001b[0mDataFrame\u001b[0m\u001b[0;34m(\u001b[0m\u001b[0;34m)\u001b[0m\u001b[0;34m\u001b[0m\u001b[0;34m\u001b[0m\u001b[0m\n\u001b[0m\u001b[1;32m     18\u001b[0m \u001b[0mtable\u001b[0m\u001b[0;34m[\u001b[0m\u001b[0;34m'p'\u001b[0m\u001b[0;34m]\u001b[0m \u001b[0;34m=\u001b[0m \u001b[0mx\u001b[0m\u001b[0;34m\u001b[0m\u001b[0;34m\u001b[0m\u001b[0m\n\u001b[1;32m     19\u001b[0m \u001b[0mtable\u001b[0m\u001b[0;34m[\u001b[0m\u001b[0;34m'1/p'\u001b[0m\u001b[0;34m]\u001b[0m \u001b[0;34m=\u001b[0m \u001b[0mInteger\u001b[0m\u001b[0;34m(\u001b[0m\u001b[0;36m1\u001b[0m\u001b[0;34m)\u001b[0m\u001b[0;34m/\u001b[0m\u001b[0mx\u001b[0m\u001b[0;34m\u001b[0m\u001b[0;34m\u001b[0m\u001b[0m\n",
      "\u001b[0;31mNameError\u001b[0m: name 'pd' is not defined"
     ]
    }
   ],
   "source": [
    "# Generate samples \n",
    "upper = 4\n",
    "lower = 1000\n",
    "n_samples = 15\n",
    "x = 1/np.linspace(upper, lower, n_samples)\n",
    "samples = []\n",
    "M = 100000\n",
    "n = 1000\n",
    "for i in range(n_samples):\n",
    "    print(i)\n",
    "    samples.append(generate_sample(M, x[i], n))\n",
    "\n",
    "data_frobenius = np.array([np.mean(frobenius_numbers(sample)) for sample in samples])\n",
    "data_embedding = np.array([np.mean(embedding_dims(sample)) for sample in samples])\n",
    "\n"
   ]
  },
  {
   "cell_type": "code",
   "execution_count": 22,
   "metadata": {},
   "outputs": [
    {
     "data": {
      "text/html": [
       "<div>\n",
       "<style scoped>\n",
       "    .dataframe tbody tr th:only-of-type {\n",
       "        vertical-align: middle;\n",
       "    }\n",
       "\n",
       "    .dataframe tbody tr th {\n",
       "        vertical-align: top;\n",
       "    }\n",
       "\n",
       "    .dataframe thead th {\n",
       "        text-align: right;\n",
       "    }\n",
       "</style>\n",
       "<table border=\"1\" class=\"dataframe\">\n",
       "  <thead>\n",
       "    <tr style=\"text-align: right;\">\n",
       "      <th></th>\n",
       "      <th>p</th>\n",
       "      <th>1/p</th>\n",
       "      <th>E(e(S)) lower bound</th>\n",
       "      <th>E(e(S))</th>\n",
       "      <th>E(e(S)) upper bound</th>\n",
       "      <th>(1/p) / E(e(S))</th>\n",
       "      <th>E(F(S)) lower bound</th>\n",
       "      <th>E(F(s))</th>\n",
       "      <th>E(F(S)) upper bound</th>\n",
       "      <th>(1/p) / E(F(s))</th>\n",
       "    </tr>\n",
       "  </thead>\n",
       "  <tbody>\n",
       "    <tr>\n",
       "      <th>0</th>\n",
       "      <td>0.250000</td>\n",
       "      <td>4.000000</td>\n",
       "      <td>2.214876</td>\n",
       "      <td>2.794</td>\n",
       "      <td>15.500000</td>\n",
       "      <td>1.431639</td>\n",
       "      <td>7.260504</td>\n",
       "      <td>13.962</td>\n",
       "      <td>4.650000e+01</td>\n",
       "      <td>0.286492</td>\n",
       "    </tr>\n",
       "    <tr>\n",
       "      <th>1</th>\n",
       "      <td>0.013308</td>\n",
       "      <td>75.142857</td>\n",
       "      <td>2.947552</td>\n",
       "      <td>9.048</td>\n",
       "      <td>300.544813</td>\n",
       "      <td>8.304913</td>\n",
       "      <td>218.560693</td>\n",
       "      <td>1088.824</td>\n",
       "      <td>2.228325e+04</td>\n",
       "      <td>0.069013</td>\n",
       "    </tr>\n",
       "    <tr>\n",
       "      <th>2</th>\n",
       "      <td>0.006836</td>\n",
       "      <td>146.285714</td>\n",
       "      <td>2.972865</td>\n",
       "      <td>10.671</td>\n",
       "      <td>585.129185</td>\n",
       "      <td>13.708717</td>\n",
       "      <td>431.925247</td>\n",
       "      <td>2483.261</td>\n",
       "      <td>8.501091e+04</td>\n",
       "      <td>0.058909</td>\n",
       "    </tr>\n",
       "    <tr>\n",
       "      <th>3</th>\n",
       "      <td>0.004599</td>\n",
       "      <td>217.428571</td>\n",
       "      <td>2.981698</td>\n",
       "      <td>12.277</td>\n",
       "      <td>869.705087</td>\n",
       "      <td>17.710236</td>\n",
       "      <td>645.331591</td>\n",
       "      <td>4174.938</td>\n",
       "      <td>1.882290e+05</td>\n",
       "      <td>0.052079</td>\n",
       "    </tr>\n",
       "    <tr>\n",
       "      <th>4</th>\n",
       "      <td>0.003465</td>\n",
       "      <td>288.571429</td>\n",
       "      <td>2.986192</td>\n",
       "      <td>12.938</td>\n",
       "      <td>1154.278784</td>\n",
       "      <td>22.304176</td>\n",
       "      <td>858.748873</td>\n",
       "      <td>5859.291</td>\n",
       "      <td>3.319376e+05</td>\n",
       "      <td>0.049250</td>\n",
       "    </tr>\n",
       "    <tr>\n",
       "      <th>5</th>\n",
       "      <td>0.002780</td>\n",
       "      <td>359.714286</td>\n",
       "      <td>2.988915</td>\n",
       "      <td>13.655</td>\n",
       "      <td>1438.851583</td>\n",
       "      <td>26.343045</td>\n",
       "      <td>1072.170615</td>\n",
       "      <td>7794.175</td>\n",
       "      <td>5.161366e+05</td>\n",
       "      <td>0.046152</td>\n",
       "    </tr>\n",
       "    <tr>\n",
       "      <th>6</th>\n",
       "      <td>0.002321</td>\n",
       "      <td>430.857143</td>\n",
       "      <td>2.990740</td>\n",
       "      <td>14.137</td>\n",
       "      <td>1723.423930</td>\n",
       "      <td>30.477268</td>\n",
       "      <td>1285.594609</td>\n",
       "      <td>9594.559</td>\n",
       "      <td>7.408261e+05</td>\n",
       "      <td>0.044906</td>\n",
       "    </tr>\n",
       "    <tr>\n",
       "      <th>7</th>\n",
       "      <td>0.001992</td>\n",
       "      <td>502.000000</td>\n",
       "      <td>2.992050</td>\n",
       "      <td>14.727</td>\n",
       "      <td>2007.996016</td>\n",
       "      <td>34.087051</td>\n",
       "      <td>1499.019899</td>\n",
       "      <td>11533.377</td>\n",
       "      <td>1.006006e+06</td>\n",
       "      <td>0.043526</td>\n",
       "    </tr>\n",
       "    <tr>\n",
       "      <th>8</th>\n",
       "      <td>0.001745</td>\n",
       "      <td>573.142857</td>\n",
       "      <td>2.993035</td>\n",
       "      <td>15.285</td>\n",
       "      <td>2292.567939</td>\n",
       "      <td>37.497079</td>\n",
       "      <td>1712.446002</td>\n",
       "      <td>13765.727</td>\n",
       "      <td>1.311676e+06</td>\n",
       "      <td>0.041635</td>\n",
       "    </tr>\n",
       "    <tr>\n",
       "      <th>9</th>\n",
       "      <td>0.001552</td>\n",
       "      <td>644.285714</td>\n",
       "      <td>2.993802</td>\n",
       "      <td>16.166</td>\n",
       "      <td>2577.139753</td>\n",
       "      <td>39.854368</td>\n",
       "      <td>1925.872651</td>\n",
       "      <td>16239.194</td>\n",
       "      <td>1.657837e+06</td>\n",
       "      <td>0.039675</td>\n",
       "    </tr>\n",
       "    <tr>\n",
       "      <th>10</th>\n",
       "      <td>0.001398</td>\n",
       "      <td>715.428571</td>\n",
       "      <td>2.994418</td>\n",
       "      <td>16.071</td>\n",
       "      <td>2861.711490</td>\n",
       "      <td>44.516743</td>\n",
       "      <td>2139.299681</td>\n",
       "      <td>17769.338</td>\n",
       "      <td>2.044488e+06</td>\n",
       "      <td>0.040262</td>\n",
       "    </tr>\n",
       "    <tr>\n",
       "      <th>11</th>\n",
       "      <td>0.001271</td>\n",
       "      <td>786.571429</td>\n",
       "      <td>2.994922</td>\n",
       "      <td>16.337</td>\n",
       "      <td>3146.283172</td>\n",
       "      <td>48.146626</td>\n",
       "      <td>2352.726990</td>\n",
       "      <td>19806.191</td>\n",
       "      <td>2.471630e+06</td>\n",
       "      <td>0.039713</td>\n",
       "    </tr>\n",
       "    <tr>\n",
       "      <th>12</th>\n",
       "      <td>0.001166</td>\n",
       "      <td>857.714286</td>\n",
       "      <td>2.995343</td>\n",
       "      <td>16.605</td>\n",
       "      <td>3430.854811</td>\n",
       "      <td>51.653977</td>\n",
       "      <td>2566.154509</td>\n",
       "      <td>22157.778</td>\n",
       "      <td>2.939262e+06</td>\n",
       "      <td>0.038709</td>\n",
       "    </tr>\n",
       "    <tr>\n",
       "      <th>13</th>\n",
       "      <td>0.001077</td>\n",
       "      <td>928.857143</td>\n",
       "      <td>2.995699</td>\n",
       "      <td>17.389</td>\n",
       "      <td>3715.426418</td>\n",
       "      <td>53.416363</td>\n",
       "      <td>2779.582188</td>\n",
       "      <td>25079.102</td>\n",
       "      <td>3.447385e+06</td>\n",
       "      <td>0.037037</td>\n",
       "    </tr>\n",
       "    <tr>\n",
       "      <th>14</th>\n",
       "      <td>0.001000</td>\n",
       "      <td>1000.000000</td>\n",
       "      <td>2.996004</td>\n",
       "      <td>17.216</td>\n",
       "      <td>3999.998000</td>\n",
       "      <td>58.085502</td>\n",
       "      <td>2993.009995</td>\n",
       "      <td>26637.455</td>\n",
       "      <td>3.995998e+06</td>\n",
       "      <td>0.037541</td>\n",
       "    </tr>\n",
       "  </tbody>\n",
       "</table>\n",
       "</div>"
      ],
      "text/plain": [
       "           p          1/p  E(e(S)) lower bound  E(e(S))  E(e(S)) upper bound   \n",
       "0   0.250000     4.000000             2.214876    2.794            15.500000  \\\n",
       "1   0.013308    75.142857             2.947552    9.048           300.544813   \n",
       "2   0.006836   146.285714             2.972865   10.671           585.129185   \n",
       "3   0.004599   217.428571             2.981698   12.277           869.705087   \n",
       "4   0.003465   288.571429             2.986192   12.938          1154.278784   \n",
       "5   0.002780   359.714286             2.988915   13.655          1438.851583   \n",
       "6   0.002321   430.857143             2.990740   14.137          1723.423930   \n",
       "7   0.001992   502.000000             2.992050   14.727          2007.996016   \n",
       "8   0.001745   573.142857             2.993035   15.285          2292.567939   \n",
       "9   0.001552   644.285714             2.993802   16.166          2577.139753   \n",
       "10  0.001398   715.428571             2.994418   16.071          2861.711490   \n",
       "11  0.001271   786.571429             2.994922   16.337          3146.283172   \n",
       "12  0.001166   857.714286             2.995343   16.605          3430.854811   \n",
       "13  0.001077   928.857143             2.995699   17.389          3715.426418   \n",
       "14  0.001000  1000.000000             2.996004   17.216          3999.998000   \n",
       "\n",
       "    (1/p) / E(e(S))  E(F(S)) lower bound    E(F(s))  E(F(S)) upper bound   \n",
       "0          1.431639             7.260504     13.962         4.650000e+01  \\\n",
       "1          8.304913           218.560693   1088.824         2.228325e+04   \n",
       "2         13.708717           431.925247   2483.261         8.501091e+04   \n",
       "3         17.710236           645.331591   4174.938         1.882290e+05   \n",
       "4         22.304176           858.748873   5859.291         3.319376e+05   \n",
       "5         26.343045          1072.170615   7794.175         5.161366e+05   \n",
       "6         30.477268          1285.594609   9594.559         7.408261e+05   \n",
       "7         34.087051          1499.019899  11533.377         1.006006e+06   \n",
       "8         37.497079          1712.446002  13765.727         1.311676e+06   \n",
       "9         39.854368          1925.872651  16239.194         1.657837e+06   \n",
       "10        44.516743          2139.299681  17769.338         2.044488e+06   \n",
       "11        48.146626          2352.726990  19806.191         2.471630e+06   \n",
       "12        51.653977          2566.154509  22157.778         2.939262e+06   \n",
       "13        53.416363          2779.582188  25079.102         3.447385e+06   \n",
       "14        58.085502          2993.009995  26637.455         3.995998e+06   \n",
       "\n",
       "    (1/p) / E(F(s))  \n",
       "0          0.286492  \n",
       "1          0.069013  \n",
       "2          0.058909  \n",
       "3          0.052079  \n",
       "4          0.049250  \n",
       "5          0.046152  \n",
       "6          0.044906  \n",
       "7          0.043526  \n",
       "8          0.041635  \n",
       "9          0.039675  \n",
       "10         0.040262  \n",
       "11         0.039713  \n",
       "12         0.038709  \n",
       "13         0.037037  \n",
       "14         0.037541  "
      ]
     },
     "execution_count": 22,
     "metadata": {},
     "output_type": "execute_result"
    }
   ],
   "source": [
    "# Save data_embedding and data_frobenius as pickle\n",
    "import pickle\n",
    "with open('data_embedding.pkl', 'wb') as f:\n",
    "    pickle.dump(data_embedding, f)\n",
    "\n",
    "with open('data_frobenius.pkl', 'wb') as f:\n",
    "    pickle.dump(data_frobenius, f)\n",
    "\n",
    "# Table\n",
    "import pandas as pd\n",
    "table = pd.DataFrame()\n",
    "table['p'] = x\n",
    "table['1/p'] = 1/x\n",
    "table['E(e(S)) lower bound'] = [lower_bound_e(p) for p in x]\n",
    "table['E(e(S))'] = data_embedding\n",
    "table['E(e(S)) upper bound'] = [2*upper_bound_e(p) for p in x]\n",
    "table['(1/p) / E(e(S))'] = (1/x)/data_embedding\n",
    "table['(1/p) / E(F(s))'] = (1/x)/data_frobenius\n",
    "table"
   ]
  },
  {
   "cell_type": "code",
   "execution_count": 75,
   "metadata": {},
   "outputs": [
    {
     "data": {
      "text/html": [
       "<div>\n",
       "<style scoped>\n",
       "    .dataframe tbody tr th:only-of-type {\n",
       "        vertical-align: middle;\n",
       "    }\n",
       "\n",
       "    .dataframe tbody tr th {\n",
       "        vertical-align: top;\n",
       "    }\n",
       "\n",
       "    .dataframe thead th {\n",
       "        text-align: right;\n",
       "    }\n",
       "</style>\n",
       "<table border=\"1\" class=\"dataframe\">\n",
       "  <thead>\n",
       "    <tr style=\"text-align: right;\">\n",
       "      <th></th>\n",
       "      <th>$1/p$</th>\n",
       "      <th>Lower Bound</th>\n",
       "      <th>$\\EE(F(\\mathcal{S}))</th>\n",
       "      <th>Upper bound</th>\n",
       "    </tr>\n",
       "  </thead>\n",
       "  <tbody>\n",
       "    <tr>\n",
       "      <th>0</th>\n",
       "      <td>4.00</td>\n",
       "      <td>7.26</td>\n",
       "      <td>13.96</td>\n",
       "      <td>46.50</td>\n",
       "    </tr>\n",
       "    <tr>\n",
       "      <th>1</th>\n",
       "      <td>75.14</td>\n",
       "      <td>218.56</td>\n",
       "      <td>1,088.82</td>\n",
       "      <td>22,283.25</td>\n",
       "    </tr>\n",
       "    <tr>\n",
       "      <th>2</th>\n",
       "      <td>146.29</td>\n",
       "      <td>431.93</td>\n",
       "      <td>2,483.26</td>\n",
       "      <td>85,010.91</td>\n",
       "    </tr>\n",
       "    <tr>\n",
       "      <th>3</th>\n",
       "      <td>217.43</td>\n",
       "      <td>645.33</td>\n",
       "      <td>4,174.94</td>\n",
       "      <td>188,229.03</td>\n",
       "    </tr>\n",
       "    <tr>\n",
       "      <th>4</th>\n",
       "      <td>288.57</td>\n",
       "      <td>858.75</td>\n",
       "      <td>5,859.29</td>\n",
       "      <td>331,937.60</td>\n",
       "    </tr>\n",
       "    <tr>\n",
       "      <th>5</th>\n",
       "      <td>359.71</td>\n",
       "      <td>1,072.17</td>\n",
       "      <td>7,794.18</td>\n",
       "      <td>516,136.62</td>\n",
       "    </tr>\n",
       "    <tr>\n",
       "      <th>6</th>\n",
       "      <td>430.86</td>\n",
       "      <td>1,285.59</td>\n",
       "      <td>9,594.56</td>\n",
       "      <td>740,826.09</td>\n",
       "    </tr>\n",
       "    <tr>\n",
       "      <th>7</th>\n",
       "      <td>502.00</td>\n",
       "      <td>1,499.02</td>\n",
       "      <td>11,533.38</td>\n",
       "      <td>1,006,006.00</td>\n",
       "    </tr>\n",
       "    <tr>\n",
       "      <th>8</th>\n",
       "      <td>573.14</td>\n",
       "      <td>1,712.45</td>\n",
       "      <td>13,765.73</td>\n",
       "      <td>1,311,676.37</td>\n",
       "    </tr>\n",
       "    <tr>\n",
       "      <th>9</th>\n",
       "      <td>644.29</td>\n",
       "      <td>1,925.87</td>\n",
       "      <td>16,239.19</td>\n",
       "      <td>1,657,837.19</td>\n",
       "    </tr>\n",
       "    <tr>\n",
       "      <th>10</th>\n",
       "      <td>715.43</td>\n",
       "      <td>2,139.30</td>\n",
       "      <td>17,769.34</td>\n",
       "      <td>2,044,488.45</td>\n",
       "    </tr>\n",
       "    <tr>\n",
       "      <th>11</th>\n",
       "      <td>786.57</td>\n",
       "      <td>2,352.73</td>\n",
       "      <td>19,806.19</td>\n",
       "      <td>2,471,630.17</td>\n",
       "    </tr>\n",
       "    <tr>\n",
       "      <th>12</th>\n",
       "      <td>857.71</td>\n",
       "      <td>2,566.15</td>\n",
       "      <td>22,157.78</td>\n",
       "      <td>2,939,262.33</td>\n",
       "    </tr>\n",
       "    <tr>\n",
       "      <th>13</th>\n",
       "      <td>928.86</td>\n",
       "      <td>2,779.58</td>\n",
       "      <td>25,079.10</td>\n",
       "      <td>3,447,384.94</td>\n",
       "    </tr>\n",
       "    <tr>\n",
       "      <th>14</th>\n",
       "      <td>1,000.00</td>\n",
       "      <td>2,993.01</td>\n",
       "      <td>26,637.46</td>\n",
       "      <td>3,995,998.00</td>\n",
       "    </tr>\n",
       "  </tbody>\n",
       "</table>\n",
       "</div>"
      ],
      "text/plain": [
       "      $1/p$  Lower Bound  $\\EE(F(\\mathcal{S}))  Upper bound\n",
       "0      4.00         7.26                 13.96        46.50\n",
       "1     75.14       218.56              1,088.82    22,283.25\n",
       "2    146.29       431.93              2,483.26    85,010.91\n",
       "3    217.43       645.33              4,174.94   188,229.03\n",
       "4    288.57       858.75              5,859.29   331,937.60\n",
       "5    359.71     1,072.17              7,794.18   516,136.62\n",
       "6    430.86     1,285.59              9,594.56   740,826.09\n",
       "7    502.00     1,499.02             11,533.38 1,006,006.00\n",
       "8    573.14     1,712.45             13,765.73 1,311,676.37\n",
       "9    644.29     1,925.87             16,239.19 1,657,837.19\n",
       "10   715.43     2,139.30             17,769.34 2,044,488.45\n",
       "11   786.57     2,352.73             19,806.19 2,471,630.17\n",
       "12   857.71     2,566.15             22,157.78 2,939,262.33\n",
       "13   928.86     2,779.58             25,079.10 3,447,384.94\n",
       "14 1,000.00     2,993.01             26,637.46 3,995,998.00"
      ]
     },
     "execution_count": 75,
     "metadata": {},
     "output_type": "execute_result"
    }
   ],
   "source": [
    "# Select columns from 1/p, E(e(S)), E(F(S))\n",
    "frobenius_table = pd.DataFrame()\n",
    "frobenius_table['$1/p$'] = 1/x\n",
    "frobenius_table['Lower Bound'] = [lower_bound_g(p) for p in x]\n",
    "frobenius_table['Experiments'] = data_frobenius\n",
    "frobenius_table['Upper bound'] = [2*upper_bound_g(p) for p in x]\n",
    "# format to float\n",
    "frobenius_table"
   ]
  },
  {
   "cell_type": "code",
   "execution_count": 77,
   "metadata": {},
   "outputs": [],
   "source": [
    "frobenius_table.to_latex(\"frobenius_table.tex\", index = False, float_format='{:,.2f}'.format, column_format='|c|c|c|c|')"
   ]
  },
  {
   "cell_type": "code",
   "execution_count": 78,
   "metadata": {},
   "outputs": [
    {
     "data": {
      "text/html": [
       "<div>\n",
       "<style scoped>\n",
       "    .dataframe tbody tr th:only-of-type {\n",
       "        vertical-align: middle;\n",
       "    }\n",
       "\n",
       "    .dataframe tbody tr th {\n",
       "        vertical-align: top;\n",
       "    }\n",
       "\n",
       "    .dataframe thead th {\n",
       "        text-align: right;\n",
       "    }\n",
       "</style>\n",
       "<table border=\"1\" class=\"dataframe\">\n",
       "  <thead>\n",
       "    <tr style=\"text-align: right;\">\n",
       "      <th></th>\n",
       "      <th>$1/p$</th>\n",
       "      <th>Lower Bound</th>\n",
       "      <th>Experiments</th>\n",
       "      <th>Upper bound</th>\n",
       "    </tr>\n",
       "  </thead>\n",
       "  <tbody>\n",
       "    <tr>\n",
       "      <th>0</th>\n",
       "      <td>4.00</td>\n",
       "      <td>2.21</td>\n",
       "      <td>2.79</td>\n",
       "      <td>7.75</td>\n",
       "    </tr>\n",
       "    <tr>\n",
       "      <th>1</th>\n",
       "      <td>75.14</td>\n",
       "      <td>2.95</td>\n",
       "      <td>9.05</td>\n",
       "      <td>150.27</td>\n",
       "    </tr>\n",
       "    <tr>\n",
       "      <th>2</th>\n",
       "      <td>146.29</td>\n",
       "      <td>2.97</td>\n",
       "      <td>10.67</td>\n",
       "      <td>292.56</td>\n",
       "    </tr>\n",
       "    <tr>\n",
       "      <th>3</th>\n",
       "      <td>217.43</td>\n",
       "      <td>2.98</td>\n",
       "      <td>12.28</td>\n",
       "      <td>434.85</td>\n",
       "    </tr>\n",
       "    <tr>\n",
       "      <th>4</th>\n",
       "      <td>288.57</td>\n",
       "      <td>2.99</td>\n",
       "      <td>12.94</td>\n",
       "      <td>577.14</td>\n",
       "    </tr>\n",
       "    <tr>\n",
       "      <th>5</th>\n",
       "      <td>359.71</td>\n",
       "      <td>2.99</td>\n",
       "      <td>13.65</td>\n",
       "      <td>719.43</td>\n",
       "    </tr>\n",
       "    <tr>\n",
       "      <th>6</th>\n",
       "      <td>430.86</td>\n",
       "      <td>2.99</td>\n",
       "      <td>14.14</td>\n",
       "      <td>861.71</td>\n",
       "    </tr>\n",
       "    <tr>\n",
       "      <th>7</th>\n",
       "      <td>502.00</td>\n",
       "      <td>2.99</td>\n",
       "      <td>14.73</td>\n",
       "      <td>1,004.00</td>\n",
       "    </tr>\n",
       "    <tr>\n",
       "      <th>8</th>\n",
       "      <td>573.14</td>\n",
       "      <td>2.99</td>\n",
       "      <td>15.29</td>\n",
       "      <td>1,146.28</td>\n",
       "    </tr>\n",
       "    <tr>\n",
       "      <th>9</th>\n",
       "      <td>644.29</td>\n",
       "      <td>2.99</td>\n",
       "      <td>16.17</td>\n",
       "      <td>1,288.57</td>\n",
       "    </tr>\n",
       "    <tr>\n",
       "      <th>10</th>\n",
       "      <td>715.43</td>\n",
       "      <td>2.99</td>\n",
       "      <td>16.07</td>\n",
       "      <td>1,430.86</td>\n",
       "    </tr>\n",
       "    <tr>\n",
       "      <th>11</th>\n",
       "      <td>786.57</td>\n",
       "      <td>2.99</td>\n",
       "      <td>16.34</td>\n",
       "      <td>1,573.14</td>\n",
       "    </tr>\n",
       "    <tr>\n",
       "      <th>12</th>\n",
       "      <td>857.71</td>\n",
       "      <td>3.00</td>\n",
       "      <td>16.61</td>\n",
       "      <td>1,715.43</td>\n",
       "    </tr>\n",
       "    <tr>\n",
       "      <th>13</th>\n",
       "      <td>928.86</td>\n",
       "      <td>3.00</td>\n",
       "      <td>17.39</td>\n",
       "      <td>1,857.71</td>\n",
       "    </tr>\n",
       "    <tr>\n",
       "      <th>14</th>\n",
       "      <td>1,000.00</td>\n",
       "      <td>3.00</td>\n",
       "      <td>17.22</td>\n",
       "      <td>2,000.00</td>\n",
       "    </tr>\n",
       "  </tbody>\n",
       "</table>\n",
       "</div>"
      ],
      "text/plain": [
       "      $1/p$  Lower Bound  Experiments  Upper bound\n",
       "0      4.00         2.21         2.79         7.75\n",
       "1     75.14         2.95         9.05       150.27\n",
       "2    146.29         2.97        10.67       292.56\n",
       "3    217.43         2.98        12.28       434.85\n",
       "4    288.57         2.99        12.94       577.14\n",
       "5    359.71         2.99        13.65       719.43\n",
       "6    430.86         2.99        14.14       861.71\n",
       "7    502.00         2.99        14.73     1,004.00\n",
       "8    573.14         2.99        15.29     1,146.28\n",
       "9    644.29         2.99        16.17     1,288.57\n",
       "10   715.43         2.99        16.07     1,430.86\n",
       "11   786.57         2.99        16.34     1,573.14\n",
       "12   857.71         3.00        16.61     1,715.43\n",
       "13   928.86         3.00        17.39     1,857.71\n",
       "14 1,000.00         3.00        17.22     2,000.00"
      ]
     },
     "execution_count": 78,
     "metadata": {},
     "output_type": "execute_result"
    }
   ],
   "source": [
    "# do the same for embedding dimension\n",
    "embedding_table = pd.DataFrame()\n",
    "embedding_table['$1/p$'] = 1/x\n",
    "embedding_table['Lower Bound'] = [lower_bound_e(p) for p in x]\n",
    "embedding_table['Experiments'] = data_embedding\n",
    "embedding_table['Upper bound'] = [upper_bound_e(p) for p in x]\n",
    "embedding_table"
   ]
  },
  {
   "cell_type": "code",
   "execution_count": null,
   "metadata": {},
   "outputs": [],
   "source": [
    "embedding_table.to_latex(\"embedding_table.tex\", index = False, float_format='{:,.2f}'.format, column_format='|c|c|c|c|')"
   ]
  },
  {
   "cell_type": "code",
   "execution_count": 69,
   "metadata": {},
   "outputs": [
    {
     "data": {
      "text/plain": [
       "[<matplotlib.lines.Line2D object at 0x7fc6e9fc4850>]"
      ]
     },
     "execution_count": 69,
     "metadata": {},
     "output_type": "execute_result"
    },
    {
     "data": {
      "image/png": "[encoded data removed]",
      "text/plain": [
       "<Figure size 432x288 with 1 Axes>"
      ]
     },
     "metadata": {
      "needs_background": "light"
     },
     "output_type": "display_data"
    }
   ],
   "source": [
    "plt.plot(1/x, data_frobenius)\n",
    "plt.plot(1/x, 4*(1/x)*(np.log(1/x)))"
   ]
  },
  {
   "cell_type": "code",
   "execution_count": 68,
   "metadata": {},
   "outputs": [
    {
     "data": {
      "text/plain": [
       "[<matplotlib.lines.Line2D object at 0x7fc6f05b0160>]"
      ]
     },
     "execution_count": 68,
     "metadata": {},
     "output_type": "execute_result"
    },
    {
     "data": {
      "image/png": "[encoded data removed]",
      "text/plain": [
       "<Figure size 432x288 with 1 Axes>"
      ]
     },
     "metadata": {
      "needs_background": "light"
     },
     "output_type": "display_data"
    }
   ],
   "source": [
    "plt.plot(1/x, data_embedding)\n",
    "plt.plot(1/x, 3*np.log(1/x))"
   ]
  },
  {
   "cell_type": "code",
   "execution_count": null,
   "metadata": {},
   "outputs": [
    {
     "name": "stdout",
     "output_type": "stream",
     "text": [
      "20274.0555032142\n"
     ]
    }
   ],
   "source": [
    "n = 30000\n",
    "sum = 0\n",
    "p = 0.01\n",
    "for i in range(n):\n",
    "    sum += ((1 - p)**(sqrt(i)))*(1 + sqrt(i)*p)\n",
    "print(sum.n())"
   ]
  },
  {
   "cell_type": "code",
   "execution_count": null,
   "metadata": {},
   "outputs": [
    {
     "name": "stdout",
     "output_type": "stream",
     "text": [
      "265.879602864694\n"
     ]
    }
   ],
   "source": [
    "print(sum.n())"
   ]
  },
  {
   "cell_type": "code",
   "execution_count": null,
   "metadata": {},
   "outputs": [],
   "source": [
    "# Back semigroups with fixed frobenius number\n",
    "def random_back_semigroup_ffn(frobenius_number, p):\n",
    "    generators = list(range(frobenius_number + 1, 2 * frobenius_number + 2))\n",
    "    semigroup = NumericalSemigroup(generators)\n",
    "    for i in range(frobenius_number - 1, 0, -1):\n",
    "        if random.random() < p:\n",
    "            if NumericalSemigroup(generators + [i]).FrobeniusNumber() == frobenius_number:\n",
    "                generators.append(i)\n",
    "                semigroup = NumericalSemigroup(generators)\n",
    "                generators = semigroup.gens\n",
    "    return semigroup\n",
    "                                                              "
   ]
  },
  {
   "cell_type": "code",
   "execution_count": null,
   "metadata": {},
   "outputs": [
    {
     "data": {
      "text/plain": [
       "Numerical Semigroup generated by [11, 12, 13, 15, 18, 19, 21]"
      ]
     },
     "execution_count": 9,
     "metadata": {},
     "output_type": "execute_result"
    }
   ],
   "source": [
    "test = random_back_semigroup_ffn(20, 0.5)\n",
    "test"
   ]
  },
  {
   "cell_type": "code",
   "execution_count": null,
   "metadata": {},
   "outputs": [
    {
     "data": {
      "text/plain": [
       "20"
      ]
     },
     "execution_count": 10,
     "metadata": {},
     "output_type": "execute_result"
    }
   ],
   "source": [
    "test.FrobeniusNumber()"
   ]
  },
  {
   "cell_type": "code",
   "execution_count": null,
   "metadata": {},
   "outputs": [
    {
     "ename": "NameError",
     "evalue": "name 'embedding_dims' is not defined",
     "output_type": "error",
     "traceback": [
      "\u001b[0;31m---------------------------------------------------------------------------\u001b[0m",
      "\u001b[0;31mNameError\u001b[0m                                 Traceback (most recent call last)",
      "\u001b[0;32m/tmp/ipykernel_7398/3095665772.py\u001b[0m in \u001b[0;36m<module>\u001b[0;34m\u001b[0m\n\u001b[1;32m      2\u001b[0m \u001b[0;32mfor\u001b[0m \u001b[0mi\u001b[0m \u001b[0;32min\u001b[0m \u001b[0mrange\u001b[0m\u001b[0;34m(\u001b[0m\u001b[0mInteger\u001b[0m\u001b[0;34m(\u001b[0m\u001b[0;36m1000\u001b[0m\u001b[0;34m)\u001b[0m\u001b[0;34m)\u001b[0m\u001b[0;34m:\u001b[0m\u001b[0;34m\u001b[0m\u001b[0;34m\u001b[0m\u001b[0m\n\u001b[1;32m      3\u001b[0m     \u001b[0mrandom_back_list\u001b[0m\u001b[0;34m.\u001b[0m\u001b[0mappend\u001b[0m\u001b[0;34m(\u001b[0m\u001b[0mrandom_back_semigroup_ffn\u001b[0m\u001b[0;34m(\u001b[0m\u001b[0mInteger\u001b[0m\u001b[0;34m(\u001b[0m\u001b[0;36m20\u001b[0m\u001b[0;34m)\u001b[0m\u001b[0;34m,\u001b[0m \u001b[0mRealNumber\u001b[0m\u001b[0;34m(\u001b[0m\u001b[0;34m'0.5'\u001b[0m\u001b[0;34m)\u001b[0m\u001b[0;34m)\u001b[0m\u001b[0;34m)\u001b[0m\u001b[0;34m\u001b[0m\u001b[0;34m\u001b[0m\u001b[0m\n\u001b[0;32m----> 4\u001b[0;31m \u001b[0mplt\u001b[0m\u001b[0;34m.\u001b[0m\u001b[0mhist\u001b[0m\u001b[0;34m(\u001b[0m\u001b[0membedding_dims\u001b[0m\u001b[0;34m(\u001b[0m\u001b[0mrandom_back_list\u001b[0m\u001b[0;34m)\u001b[0m\u001b[0;34m,\u001b[0m \u001b[0mbins\u001b[0m \u001b[0;34m=\u001b[0m \u001b[0mInteger\u001b[0m\u001b[0;34m(\u001b[0m\u001b[0;36m20\u001b[0m\u001b[0;34m)\u001b[0m\u001b[0;34m)\u001b[0m\u001b[0;34m\u001b[0m\u001b[0;34m\u001b[0m\u001b[0m\n\u001b[0m",
      "\u001b[0;31mNameError\u001b[0m: name 'embedding_dims' is not defined"
     ]
    }
   ],
   "source": [
    "random_back_list = []\n",
    "for i in range(1000):\n",
    "    random_back_list.append(random_back_semigroup_ffn(20, 0.5))\n",
    "plt.hist(embedding_dims(random_back_list), np.arange(0.5, 20.5, 1))"
   ]
  },
  {
   "cell_type": "code",
   "execution_count": null,
   "metadata": {},
   "outputs": [
    {
     "data": {
      "text/plain": [
       "([<matplotlib.axis.XTick object at 0x7fb8de976b90>,\n",
       "  <matplotlib.axis.XTick object at 0x7fb8de977ac0>,\n",
       "  <matplotlib.axis.XTick object at 0x7fb8dea28be0>,\n",
       "  <matplotlib.axis.XTick object at 0x7fb8d5d58340>,\n",
       "  <matplotlib.axis.XTick object at 0x7fb8d5d58a90>,\n",
       "  <matplotlib.axis.XTick object at 0x7fb8d5d591e0>,\n",
       "  <matplotlib.axis.XTick object at 0x7fb8d5d59930>,\n",
       "  <matplotlib.axis.XTick object at 0x7fb8d5d59f30>,\n",
       "  <matplotlib.axis.XTick object at 0x7fb8d5d58850>,\n",
       "  <matplotlib.axis.XTick object at 0x7fb8d5d5a3e0>,\n",
       "  <matplotlib.axis.XTick object at 0x7fb8d5d5ab30>,\n",
       "  <matplotlib.axis.XTick object at 0x7fb8d5d5b280>,\n",
       "  <matplotlib.axis.XTick object at 0x7fb8d5d5b9d0>,\n",
       "  <matplotlib.axis.XTick object at 0x7fb8d5d70160>,\n",
       "  <matplotlib.axis.XTick object at 0x7fb8d5d5b730>,\n",
       "  <matplotlib.axis.XTick object at 0x7fb8d5d5a3b0>,\n",
       "  <matplotlib.axis.XTick object at 0x7fb8d5d701c0>,\n",
       "  <matplotlib.axis.XTick object at 0x7fb8d5d70ca0>,\n",
       "  <matplotlib.axis.XTick object at 0x7fb8d5d71420>,\n",
       "  <matplotlib.axis.XTick object at 0x7fb8d5d71b70>],\n",
       " [Text(0, 0, ''),\n",
       "  Text(0, 0, ''),\n",
       "  Text(0, 0, ''),\n",
       "  Text(0, 0, ''),\n",
       "  Text(0, 0, ''),\n",
       "  Text(0, 0, ''),\n",
       "  Text(0, 0, ''),\n",
       "  Text(0, 0, ''),\n",
       "  Text(0, 0, ''),\n",
       "  Text(0, 0, ''),\n",
       "  Text(0, 0, ''),\n",
       "  Text(0, 0, ''),\n",
       "  Text(0, 0, ''),\n",
       "  Text(0, 0, ''),\n",
       "  Text(0, 0, ''),\n",
       "  Text(0, 0, ''),\n",
       "  Text(0, 0, ''),\n",
       "  Text(0, 0, ''),\n",
       "  Text(0, 0, ''),\n",
       "  Text(0, 0, '')])"
      ]
     },
     "execution_count": 16,
     "metadata": {},
     "output_type": "execute_result"
    },
    {
     "data": {
      "image/png": "[encoded data removed]",
      "text/plain": [
       "<Figure size 432x288 with 1 Axes>"
      ]
     },
     "metadata": {
      "needs_background": "light"
     },
     "output_type": "display_data"
    }
   ],
   "source": [
    "plt.hist(embedding_dims(random_back_list), np.arange(0.5, 20.5, 1))\n",
    "# Set x axis ticks as integers\n",
    "plt.xticks(np.arange(0, 20, 1.0))"
   ]
  },
  {
   "cell_type": "code",
   "execution_count": null,
   "metadata": {},
   "outputs": [
    {
     "data": {
      "image/png": "[encoded data removed]",
      "text/plain": [
       "Graphics object consisting of 14 graphics primitives"
      ]
     },
     "execution_count": 18,
     "metadata": {},
     "output_type": "execute_result"
    }
   ],
   "source": [
    "test = NumericalSemigroup([6,9,20])\n",
    "PlotKunzPoset(test)"
   ]
  },
  {
   "cell_type": "code",
   "execution_count": null,
   "metadata": {},
   "outputs": [
    {
     "data": {
      "text/plain": [
       "43"
      ]
     },
     "execution_count": 19,
     "metadata": {},
     "output_type": "execute_result"
    }
   ],
   "source": [
    "test.FrobeniusNumber(\n",
    ")"
   ]
  },
  {
   "cell_type": "code",
   "execution_count": null,
   "metadata": {},
   "outputs": [
    {
     "data": {
      "text/plain": [
       "([<matplotlib.axis.XTick object at 0x7fb8d5b54670>,\n",
       "  <matplotlib.axis.XTick object at 0x7fb8d5b54580>,\n",
       "  <matplotlib.axis.XTick object at 0x7fb8d5b54820>,\n",
       "  <matplotlib.axis.XTick object at 0x7fb8d5c2c370>,\n",
       "  <matplotlib.axis.XTick object at 0x7fb8d5c2d720>,\n",
       "  <matplotlib.axis.XTick object at 0x7fb8d5c2e050>,\n",
       "  <matplotlib.axis.XTick object at 0x7fb8d5c2db10>,\n",
       "  <matplotlib.axis.XTick object at 0x7fb8d5c2ed70>,\n",
       "  <matplotlib.axis.XTick object at 0x7fb8d5c2d4b0>,\n",
       "  <matplotlib.axis.XTick object at 0x7fb8d5c2e5c0>,\n",
       "  <matplotlib.axis.XTick object at 0x7fb8d5a0c490>,\n",
       "  <matplotlib.axis.XTick object at 0x7fb8d5c2d540>,\n",
       "  <matplotlib.axis.XTick object at 0x7fb8d5c2da20>,\n",
       "  <matplotlib.axis.XTick object at 0x7fb8d5a0eef0>,\n",
       "  <matplotlib.axis.XTick object at 0x7fb8d5a0ca00>,\n",
       "  <matplotlib.axis.XTick object at 0x7fb8d5a0c1f0>,\n",
       "  <matplotlib.axis.XTick object at 0x7fb8d5a0e080>,\n",
       "  <matplotlib.axis.XTick object at 0x7fb8d5a0f790>,\n",
       "  <matplotlib.axis.XTick object at 0x7fb8d5c2eef0>,\n",
       "  <matplotlib.axis.XTick object at 0x7fb8d5a0d270>],\n",
       " [Text(0, 0, ''),\n",
       "  Text(0, 0, ''),\n",
       "  Text(0, 0, ''),\n",
       "  Text(0, 0, ''),\n",
       "  Text(0, 0, ''),\n",
       "  Text(0, 0, ''),\n",
       "  Text(0, 0, ''),\n",
       "  Text(0, 0, ''),\n",
       "  Text(0, 0, ''),\n",
       "  Text(0, 0, ''),\n",
       "  Text(0, 0, ''),\n",
       "  Text(0, 0, ''),\n",
       "  Text(0, 0, ''),\n",
       "  Text(0, 0, ''),\n",
       "  Text(0, 0, ''),\n",
       "  Text(0, 0, ''),\n",
       "  Text(0, 0, ''),\n",
       "  Text(0, 0, ''),\n",
       "  Text(0, 0, ''),\n",
       "  Text(0, 0, '')])"
      ]
     },
     "execution_count": 23,
     "metadata": {},
     "output_type": "execute_result"
    },
    {
     "data": {
      "image/png": "[encoded data removed]",
      "text/plain": [
       "<Figure size 432x288 with 1 Axes>"
      ]
     },
     "metadata": {
      "needs_background": "light"
     },
     "output_type": "display_data"
    }
   ],
   "source": [
    "# multiplicities\n",
    "plt.hist([min(semigroup.gens) for semigroup in random_back_list], np.arange(0.5, 20.5, 1))\n",
    "# Set x axis ticks as integers\n",
    "plt.xticks(np.arange(0, 20, 1.0))"
   ]
  },
  {
   "cell_type": "code",
   "execution_count": null,
   "metadata": {},
   "outputs": [
    {
     "ename": "KeyboardInterrupt",
     "evalue": "Ctrl-c pressed while running Gap",
     "output_type": "error",
     "traceback": [
      "\u001b[0;31m---------------------------------------------------------------------------\u001b[0m",
      "\u001b[0;31mAttributeError\u001b[0m                            Traceback (most recent call last)",
      "\u001b[0;32m/usr/lib/python3/dist-packages/sage/interfaces/interface.py\u001b[0m in \u001b[0;36m_repr_\u001b[0;34m(self)\u001b[0m\n\u001b[1;32m   1208\u001b[0m         \u001b[0;32mtry\u001b[0m\u001b[0;34m:\u001b[0m\u001b[0;34m\u001b[0m\u001b[0;34m\u001b[0m\u001b[0m\n\u001b[0;32m-> 1209\u001b[0;31m             \u001b[0;32mif\u001b[0m \u001b[0mself\u001b[0m\u001b[0;34m.\u001b[0m\u001b[0m_get_using_file\u001b[0m\u001b[0;34m:\u001b[0m\u001b[0;34m\u001b[0m\u001b[0;34m\u001b[0m\u001b[0m\n\u001b[0m\u001b[1;32m   1210\u001b[0m                 \u001b[0;32mreturn\u001b[0m \u001b[0mP\u001b[0m\u001b[0;34m.\u001b[0m\u001b[0mget_using_file\u001b[0m\u001b[0;34m(\u001b[0m\u001b[0mself\u001b[0m\u001b[0;34m.\u001b[0m\u001b[0m_name\u001b[0m\u001b[0;34m)\u001b[0m\u001b[0;34m.\u001b[0m\u001b[0mrstrip\u001b[0m\u001b[0;34m(\u001b[0m\u001b[0;34m)\u001b[0m\u001b[0;34m\u001b[0m\u001b[0;34m\u001b[0m\u001b[0m\n",
      "\u001b[0;32m/usr/lib/python3/dist-packages/sage/interfaces/interface.py\u001b[0m in \u001b[0;36m__getattr__\u001b[0;34m(self, attrname)\u001b[0m\n\u001b[1;32m   1219\u001b[0m         \u001b[0;32mif\u001b[0m \u001b[0mattrname\u001b[0m\u001b[0;34m[\u001b[0m\u001b[0;34m:\u001b[0m\u001b[0;36m1\u001b[0m\u001b[0;34m]\u001b[0m \u001b[0;34m==\u001b[0m \u001b[0;34m\"_\"\u001b[0m\u001b[0;34m:\u001b[0m\u001b[0;34m\u001b[0m\u001b[0;34m\u001b[0m\u001b[0m\n\u001b[0;32m-> 1220\u001b[0;31m             \u001b[0;32mraise\u001b[0m \u001b[0mAttributeError\u001b[0m\u001b[0;34m\u001b[0m\u001b[0;34m\u001b[0m\u001b[0m\n\u001b[0m\u001b[1;32m   1221\u001b[0m         \u001b[0;32mreturn\u001b[0m \u001b[0mP\u001b[0m\u001b[0;34m.\u001b[0m\u001b[0m_function_element_class\u001b[0m\u001b[0;34m(\u001b[0m\u001b[0;34m)\u001b[0m\u001b[0;34m(\u001b[0m\u001b[0mself\u001b[0m\u001b[0;34m,\u001b[0m \u001b[0mattrname\u001b[0m\u001b[0;34m)\u001b[0m\u001b[0;34m\u001b[0m\u001b[0;34m\u001b[0m\u001b[0m\n",
      "\u001b[0;31mAttributeError\u001b[0m: ",
      "\nDuring handling of the above exception, another exception occurred:\n",
      "\u001b[0;31mKeyboardInterrupt\u001b[0m                         Traceback (most recent call last)",
      "\u001b[0;32m/usr/lib/python3/dist-packages/sage/interfaces/gap.py\u001b[0m in \u001b[0;36m_eval_line\u001b[0;34m(self, line, allow_use_file, wait_for_prompt, restart_if_needed)\u001b[0m\n\u001b[1;32m    657\u001b[0m \u001b[0;34m\u001b[0m\u001b[0m\n\u001b[0;32m--> 658\u001b[0;31m             (normal, error) = self._execute_line(line, wait_for_prompt=wait_for_prompt,\n\u001b[0m\u001b[1;32m    659\u001b[0m                                                  expect_eof=expect_eof)\n",
      "\u001b[0;32m/usr/lib/python3/dist-packages/sage/interfaces/gap.py\u001b[0m in \u001b[0;36m_execute_line\u001b[0;34m(self, line, wait_for_prompt, expect_eof)\u001b[0m\n\u001b[1;32m    523\u001b[0m             \u001b[0;32mwhile\u001b[0m \u001b[0;32mTrue\u001b[0m\u001b[0;34m:\u001b[0m\u001b[0;34m\u001b[0m\u001b[0;34m\u001b[0m\u001b[0m\n\u001b[0;32m--> 524\u001b[0;31m                 \u001b[0mx\u001b[0m \u001b[0;34m=\u001b[0m \u001b[0mE\u001b[0m\u001b[0;34m.\u001b[0m\u001b[0mexpect_list\u001b[0m\u001b[0;34m(\u001b[0m\u001b[0mself\u001b[0m\u001b[0;34m.\u001b[0m\u001b[0m_compiled_full_pattern\u001b[0m\u001b[0;34m)\u001b[0m\u001b[0;34m\u001b[0m\u001b[0;34m\u001b[0m\u001b[0m\n\u001b[0m\u001b[1;32m    525\u001b[0m                 \u001b[0mcurrent_outputs\u001b[0m\u001b[0;34m.\u001b[0m\u001b[0mappend\u001b[0m\u001b[0;34m(\u001b[0m\u001b[0mE\u001b[0m\u001b[0;34m.\u001b[0m\u001b[0mbefore\u001b[0m\u001b[0;34m)\u001b[0m\u001b[0;34m\u001b[0m\u001b[0;34m\u001b[0m\u001b[0m\n",
      "\u001b[0;32m/usr/lib/python3/dist-packages/pexpect/spawnbase.py\u001b[0m in \u001b[0;36mexpect_list\u001b[0;34m(self, pattern_list, timeout, searchwindowsize, async_, **kw)\u001b[0m\n\u001b[1;32m    366\u001b[0m \u001b[0;34m\u001b[0m\u001b[0m\n\u001b[0;32m--> 367\u001b[0;31m         \u001b[0mexp\u001b[0m \u001b[0;34m=\u001b[0m \u001b[0mExpecter\u001b[0m\u001b[0;34m(\u001b[0m\u001b[0mself\u001b[0m\u001b[0;34m,\u001b[0m \u001b[0msearcher_re\u001b[0m\u001b[0;34m(\u001b[0m\u001b[0mpattern_list\u001b[0m\u001b[0;34m)\u001b[0m\u001b[0;34m,\u001b[0m \u001b[0msearchwindowsize\u001b[0m\u001b[0;34m)\u001b[0m\u001b[0;34m\u001b[0m\u001b[0;34m\u001b[0m\u001b[0m\n\u001b[0m\u001b[1;32m    368\u001b[0m         \u001b[0;32mif\u001b[0m \u001b[0masync_\u001b[0m\u001b[0;34m:\u001b[0m\u001b[0;34m\u001b[0m\u001b[0;34m\u001b[0m\u001b[0m\n",
      "\u001b[0;32m/usr/lib/python3/dist-packages/pexpect/expect.py\u001b[0m in \u001b[0;36m__init__\u001b[0;34m(self, patterns)\u001b[0m\n\u001b[1;32m    312\u001b[0m         \u001b[0;32mfor\u001b[0m \u001b[0mn\u001b[0m\u001b[0;34m,\u001b[0m \u001b[0ms\u001b[0m \u001b[0;32min\u001b[0m \u001b[0menumerate\u001b[0m\u001b[0;34m(\u001b[0m\u001b[0mpatterns\u001b[0m\u001b[0;34m)\u001b[0m\u001b[0;34m:\u001b[0m\u001b[0;34m\u001b[0m\u001b[0;34m\u001b[0m\u001b[0m\n\u001b[0;32m--> 313\u001b[0;31m             \u001b[0;32mif\u001b[0m \u001b[0ms\u001b[0m \u001b[0;32mis\u001b[0m \u001b[0mEOF\u001b[0m\u001b[0;34m:\u001b[0m\u001b[0;34m\u001b[0m\u001b[0;34m\u001b[0m\u001b[0m\n\u001b[0m\u001b[1;32m    314\u001b[0m                 \u001b[0mself\u001b[0m\u001b[0;34m.\u001b[0m\u001b[0meof_index\u001b[0m \u001b[0;34m=\u001b[0m \u001b[0mn\u001b[0m\u001b[0;34m\u001b[0m\u001b[0;34m\u001b[0m\u001b[0m\n",
      "\u001b[0;32msrc/cysignals/signals.pyx\u001b[0m in \u001b[0;36mcysignals.signals.python_check_interrupt\u001b[0;34m()\u001b[0m\n",
      "\u001b[0;31mKeyboardInterrupt\u001b[0m: ",
      "\nDuring handling of the above exception, another exception occurred:\n",
      "\u001b[0;31mKeyboardInterrupt\u001b[0m                         Traceback (most recent call last)",
      "\u001b[0;32m/tmp/ipykernel_136882/3460015018.py\u001b[0m in \u001b[0;36m<module>\u001b[0;34m\u001b[0m\n\u001b[1;32m      2\u001b[0m \u001b[0mrandom_back_list\u001b[0m \u001b[0;34m=\u001b[0m \u001b[0;34m[\u001b[0m\u001b[0;34m]\u001b[0m\u001b[0;34m\u001b[0m\u001b[0;34m\u001b[0m\u001b[0m\n\u001b[1;32m      3\u001b[0m \u001b[0;32mfor\u001b[0m \u001b[0mi\u001b[0m \u001b[0;32min\u001b[0m \u001b[0mrange\u001b[0m\u001b[0;34m(\u001b[0m\u001b[0mInteger\u001b[0m\u001b[0;34m(\u001b[0m\u001b[0;36m1000\u001b[0m\u001b[0;34m)\u001b[0m\u001b[0;34m)\u001b[0m\u001b[0;34m:\u001b[0m\u001b[0;34m\u001b[0m\u001b[0;34m\u001b[0m\u001b[0m\n\u001b[0;32m----> 4\u001b[0;31m     \u001b[0mrandom_back_list\u001b[0m\u001b[0;34m.\u001b[0m\u001b[0mappend\u001b[0m\u001b[0;34m(\u001b[0m\u001b[0mrandom_back_semigroup_ffn\u001b[0m\u001b[0;34m(\u001b[0m\u001b[0mInteger\u001b[0m\u001b[0;34m(\u001b[0m\u001b[0;36m100\u001b[0m\u001b[0;34m)\u001b[0m\u001b[0;34m,\u001b[0m \u001b[0mRealNumber\u001b[0m\u001b[0;34m(\u001b[0m\u001b[0;34m'0.5'\u001b[0m\u001b[0;34m)\u001b[0m\u001b[0;34m)\u001b[0m\u001b[0;34m)\u001b[0m\u001b[0;34m\u001b[0m\u001b[0;34m\u001b[0m\u001b[0m\n\u001b[0m",
      "\u001b[0;32m/tmp/ipykernel_136882/1786019338.py\u001b[0m in \u001b[0;36mrandom_back_semigroup_ffn\u001b[0;34m(frobenius_number, p)\u001b[0m\n\u001b[1;32m      5\u001b[0m     \u001b[0;32mfor\u001b[0m \u001b[0mi\u001b[0m \u001b[0;32min\u001b[0m \u001b[0mrange\u001b[0m\u001b[0;34m(\u001b[0m\u001b[0mfrobenius_number\u001b[0m \u001b[0;34m-\u001b[0m \u001b[0mInteger\u001b[0m\u001b[0;34m(\u001b[0m\u001b[0;36m1\u001b[0m\u001b[0;34m)\u001b[0m\u001b[0;34m,\u001b[0m \u001b[0mInteger\u001b[0m\u001b[0;34m(\u001b[0m\u001b[0;36m0\u001b[0m\u001b[0;34m)\u001b[0m\u001b[0;34m,\u001b[0m \u001b[0;34m-\u001b[0m\u001b[0mInteger\u001b[0m\u001b[0;34m(\u001b[0m\u001b[0;36m1\u001b[0m\u001b[0;34m)\u001b[0m\u001b[0;34m)\u001b[0m\u001b[0;34m:\u001b[0m\u001b[0;34m\u001b[0m\u001b[0;34m\u001b[0m\u001b[0m\n\u001b[1;32m      6\u001b[0m         \u001b[0;32mif\u001b[0m \u001b[0mrandom\u001b[0m\u001b[0;34m.\u001b[0m\u001b[0mrandom\u001b[0m\u001b[0;34m(\u001b[0m\u001b[0;34m)\u001b[0m \u001b[0;34m<\u001b[0m \u001b[0mp\u001b[0m\u001b[0;34m:\u001b[0m\u001b[0;34m\u001b[0m\u001b[0;34m\u001b[0m\u001b[0m\n\u001b[0;32m----> 7\u001b[0;31m             \u001b[0;32mif\u001b[0m \u001b[0mNumericalSemigroup\u001b[0m\u001b[0;34m(\u001b[0m\u001b[0mgenerators\u001b[0m \u001b[0;34m+\u001b[0m \u001b[0;34m[\u001b[0m\u001b[0mi\u001b[0m\u001b[0;34m]\u001b[0m\u001b[0;34m)\u001b[0m\u001b[0;34m.\u001b[0m\u001b[0mFrobeniusNumber\u001b[0m\u001b[0;34m(\u001b[0m\u001b[0;34m)\u001b[0m \u001b[0;34m==\u001b[0m \u001b[0mfrobenius_number\u001b[0m\u001b[0;34m:\u001b[0m\u001b[0;34m\u001b[0m\u001b[0;34m\u001b[0m\u001b[0m\n\u001b[0m\u001b[1;32m      8\u001b[0m                 \u001b[0mgenerators\u001b[0m\u001b[0;34m.\u001b[0m\u001b[0mappend\u001b[0m\u001b[0;34m(\u001b[0m\u001b[0mi\u001b[0m\u001b[0;34m)\u001b[0m\u001b[0;34m\u001b[0m\u001b[0;34m\u001b[0m\u001b[0m\n\u001b[1;32m      9\u001b[0m                 \u001b[0msemigroup\u001b[0m \u001b[0;34m=\u001b[0m \u001b[0mNumericalSemigroup\u001b[0m\u001b[0;34m(\u001b[0m\u001b[0mgenerators\u001b[0m\u001b[0;34m)\u001b[0m\u001b[0;34m\u001b[0m\u001b[0;34m\u001b[0m\u001b[0m\n",
      "\u001b[0;32m<string>\u001b[0m in \u001b[0;36m__init__\u001b[0;34m(self, gens)\u001b[0m\n",
      "\u001b[0;32m<string>\u001b[0m in \u001b[0;36m__InitWithGapSemigroup\u001b[0;34m(self, semigroup)\u001b[0m\n",
      "\u001b[0;32m<string>\u001b[0m in \u001b[0;36m<listcomp>\u001b[0;34m(.0)\u001b[0m\n",
      "\u001b[0;32m/usr/lib/python3/dist-packages/sage/interfaces/interface.py\u001b[0m in \u001b[0;36m__int__\u001b[0;34m(self)\u001b[0m\n\u001b[1;32m   1292\u001b[0m             \u001b[0;34m<\u001b[0m\u001b[0;34m...\u001b[0m \u001b[0;34m'int'\u001b[0m\u001b[0;34m>\u001b[0m\u001b[0;34m\u001b[0m\u001b[0;34m\u001b[0m\u001b[0m\n\u001b[1;32m   1293\u001b[0m         \"\"\"\n\u001b[0;32m-> 1294\u001b[0;31m         \u001b[0;32mreturn\u001b[0m \u001b[0mint\u001b[0m\u001b[0;34m(\u001b[0m\u001b[0mrepr\u001b[0m\u001b[0;34m(\u001b[0m\u001b[0mself\u001b[0m\u001b[0;34m)\u001b[0m\u001b[0;34m)\u001b[0m\u001b[0;34m\u001b[0m\u001b[0;34m\u001b[0m\u001b[0m\n\u001b[0m\u001b[1;32m   1295\u001b[0m \u001b[0;34m\u001b[0m\u001b[0m\n\u001b[1;32m   1296\u001b[0m     \u001b[0;32mdef\u001b[0m \u001b[0mbool\u001b[0m\u001b[0;34m(\u001b[0m\u001b[0mself\u001b[0m\u001b[0;34m)\u001b[0m\u001b[0;34m:\u001b[0m\u001b[0;34m\u001b[0m\u001b[0;34m\u001b[0m\u001b[0m\n",
      "\u001b[0;32m/usr/lib/python3/dist-packages/sage/interfaces/interface.py\u001b[0m in \u001b[0;36m__repr__\u001b[0;34m(self)\u001b[0m\n\u001b[1;32m   1154\u001b[0m             \u001b[0ms\u001b[0m \u001b[0;34m=\u001b[0m \u001b[0mcr\u001b[0m\u001b[0;34m\u001b[0m\u001b[0;34m\u001b[0m\u001b[0m\n\u001b[1;32m   1155\u001b[0m         \u001b[0;32melse\u001b[0m\u001b[0;34m:\u001b[0m\u001b[0;34m\u001b[0m\u001b[0;34m\u001b[0m\u001b[0m\n\u001b[0;32m-> 1156\u001b[0;31m             \u001b[0ms\u001b[0m \u001b[0;34m=\u001b[0m \u001b[0mself\u001b[0m\u001b[0;34m.\u001b[0m\u001b[0m_repr_\u001b[0m\u001b[0;34m(\u001b[0m\u001b[0;34m)\u001b[0m\u001b[0;34m\u001b[0m\u001b[0;34m\u001b[0m\u001b[0m\n\u001b[0m\u001b[1;32m   1157\u001b[0m         \u001b[0;32mif\u001b[0m \u001b[0mself\u001b[0m\u001b[0;34m.\u001b[0m\u001b[0m_name\u001b[0m \u001b[0;32min\u001b[0m \u001b[0ms\u001b[0m\u001b[0;34m:\u001b[0m\u001b[0;34m\u001b[0m\u001b[0;34m\u001b[0m\u001b[0m\n\u001b[1;32m   1158\u001b[0m             \u001b[0;32mtry\u001b[0m\u001b[0;34m:\u001b[0m\u001b[0;34m\u001b[0m\u001b[0;34m\u001b[0m\u001b[0m\n",
      "\u001b[0;32m/usr/lib/python3/dist-packages/sage/interfaces/interface.py\u001b[0m in \u001b[0;36m_repr_\u001b[0;34m(self)\u001b[0m\n\u001b[1;32m   1210\u001b[0m                 \u001b[0;32mreturn\u001b[0m \u001b[0mP\u001b[0m\u001b[0;34m.\u001b[0m\u001b[0mget_using_file\u001b[0m\u001b[0;34m(\u001b[0m\u001b[0mself\u001b[0m\u001b[0;34m.\u001b[0m\u001b[0m_name\u001b[0m\u001b[0;34m)\u001b[0m\u001b[0;34m.\u001b[0m\u001b[0mrstrip\u001b[0m\u001b[0;34m(\u001b[0m\u001b[0;34m)\u001b[0m\u001b[0;34m\u001b[0m\u001b[0;34m\u001b[0m\u001b[0m\n\u001b[1;32m   1211\u001b[0m         \u001b[0;32mexcept\u001b[0m \u001b[0mAttributeError\u001b[0m\u001b[0;34m:\u001b[0m\u001b[0;34m\u001b[0m\u001b[0;34m\u001b[0m\u001b[0m\n\u001b[0;32m-> 1212\u001b[0;31m             \u001b[0;32mreturn\u001b[0m \u001b[0mself\u001b[0m\u001b[0;34m.\u001b[0m\u001b[0mparent\u001b[0m\u001b[0;34m(\u001b[0m\u001b[0;34m)\u001b[0m\u001b[0;34m.\u001b[0m\u001b[0mget\u001b[0m\u001b[0;34m(\u001b[0m\u001b[0mself\u001b[0m\u001b[0;34m.\u001b[0m\u001b[0m_name\u001b[0m\u001b[0;34m)\u001b[0m\u001b[0;34m.\u001b[0m\u001b[0mrstrip\u001b[0m\u001b[0;34m(\u001b[0m\u001b[0;34m)\u001b[0m\u001b[0;34m\u001b[0m\u001b[0;34m\u001b[0m\u001b[0m\n\u001b[0m\u001b[1;32m   1213\u001b[0m \u001b[0;34m\u001b[0m\u001b[0m\n\u001b[1;32m   1214\u001b[0m     \u001b[0;32mdef\u001b[0m \u001b[0m__getattr__\u001b[0m\u001b[0;34m(\u001b[0m\u001b[0mself\u001b[0m\u001b[0;34m,\u001b[0m \u001b[0mattrname\u001b[0m\u001b[0;34m)\u001b[0m\u001b[0;34m:\u001b[0m\u001b[0;34m\u001b[0m\u001b[0;34m\u001b[0m\u001b[0m\n",
      "\u001b[0;32m/usr/lib/python3/dist-packages/sage/interfaces/gap.py\u001b[0m in \u001b[0;36mget\u001b[0;34m(self, var, use_file)\u001b[0m\n\u001b[1;32m   1349\u001b[0m             \u001b[0;32mreturn\u001b[0m \u001b[0mr\u001b[0m\u001b[0;34m\u001b[0m\u001b[0;34m\u001b[0m\u001b[0m\n\u001b[1;32m   1350\u001b[0m         \u001b[0;32melse\u001b[0m\u001b[0;34m:\u001b[0m\u001b[0;34m\u001b[0m\u001b[0;34m\u001b[0m\u001b[0m\n\u001b[0;32m-> 1351\u001b[0;31m             \u001b[0;32mreturn\u001b[0m \u001b[0mself\u001b[0m\u001b[0;34m.\u001b[0m\u001b[0meval\u001b[0m\u001b[0;34m(\u001b[0m\u001b[0;34m'Print(%s);'\u001b[0m\u001b[0;34m%\u001b[0m\u001b[0mvar\u001b[0m\u001b[0;34m,\u001b[0m \u001b[0mnewlines\u001b[0m\u001b[0;34m=\u001b[0m\u001b[0;32mFalse\u001b[0m\u001b[0;34m)\u001b[0m\u001b[0;34m\u001b[0m\u001b[0;34m\u001b[0m\u001b[0m\n\u001b[0m\u001b[1;32m   1352\u001b[0m \u001b[0;34m\u001b[0m\u001b[0m\n\u001b[1;32m   1353\u001b[0m     \u001b[0;32mdef\u001b[0m \u001b[0m_pre_interact\u001b[0m\u001b[0;34m(\u001b[0m\u001b[0mself\u001b[0m\u001b[0;34m)\u001b[0m\u001b[0;34m:\u001b[0m\u001b[0;34m\u001b[0m\u001b[0;34m\u001b[0m\u001b[0m\n",
      "\u001b[0;32m/usr/lib/python3/dist-packages/sage/interfaces/gap.py\u001b[0m in \u001b[0;36meval\u001b[0;34m(self, x, newlines, strip, split_lines, **kwds)\u001b[0m\n\u001b[1;32m    496\u001b[0m             \u001b[0;32mif\u001b[0m \u001b[0;32mnot\u001b[0m \u001b[0minput_line\u001b[0m\u001b[0;34m.\u001b[0m\u001b[0mendswith\u001b[0m\u001b[0;34m(\u001b[0m\u001b[0;34m';'\u001b[0m\u001b[0;34m)\u001b[0m\u001b[0;34m:\u001b[0m\u001b[0;34m\u001b[0m\u001b[0;34m\u001b[0m\u001b[0m\n\u001b[1;32m    497\u001b[0m                 \u001b[0minput_line\u001b[0m \u001b[0;34m+=\u001b[0m \u001b[0;34m';'\u001b[0m\u001b[0;34m\u001b[0m\u001b[0;34m\u001b[0m\u001b[0m\n\u001b[0;32m--> 498\u001b[0;31m         \u001b[0mresult\u001b[0m \u001b[0;34m=\u001b[0m \u001b[0mExpect\u001b[0m\u001b[0;34m.\u001b[0m\u001b[0meval\u001b[0m\u001b[0;34m(\u001b[0m\u001b[0mself\u001b[0m\u001b[0;34m,\u001b[0m \u001b[0minput_line\u001b[0m\u001b[0;34m,\u001b[0m \u001b[0;34m**\u001b[0m\u001b[0mkwds\u001b[0m\u001b[0;34m)\u001b[0m\u001b[0;34m\u001b[0m\u001b[0;34m\u001b[0m\u001b[0m\n\u001b[0m\u001b[1;32m    499\u001b[0m         \u001b[0;32mif\u001b[0m \u001b[0;32mnot\u001b[0m \u001b[0mnewlines\u001b[0m\u001b[0;34m:\u001b[0m\u001b[0;34m\u001b[0m\u001b[0;34m\u001b[0m\u001b[0m\n\u001b[1;32m    500\u001b[0m             \u001b[0mresult\u001b[0m \u001b[0;34m=\u001b[0m \u001b[0mresult\u001b[0m\u001b[0;34m.\u001b[0m\u001b[0mreplace\u001b[0m\u001b[0;34m(\u001b[0m\u001b[0;34m\"\\\\\\n\"\u001b[0m\u001b[0;34m,\u001b[0m\u001b[0;34m\"\"\u001b[0m\u001b[0;34m)\u001b[0m\u001b[0;34m\u001b[0m\u001b[0;34m\u001b[0m\u001b[0m\n",
      "\u001b[0;32m/usr/lib/python3/dist-packages/sage/interfaces/expect.py\u001b[0m in \u001b[0;36meval\u001b[0;34m(self, code, strip, synchronize, locals, allow_use_file, split_lines, **kwds)\u001b[0m\n\u001b[1;32m   1380\u001b[0m                     \u001b[0;32mreturn\u001b[0m \u001b[0mself\u001b[0m\u001b[0;34m.\u001b[0m\u001b[0m_eval_line_using_file\u001b[0m\u001b[0;34m(\u001b[0m\u001b[0mcode\u001b[0m\u001b[0;34m)\u001b[0m\u001b[0;34m\u001b[0m\u001b[0;34m\u001b[0m\u001b[0m\n\u001b[1;32m   1381\u001b[0m                 \u001b[0;32melif\u001b[0m \u001b[0msplit_lines\u001b[0m\u001b[0;34m:\u001b[0m\u001b[0;34m\u001b[0m\u001b[0;34m\u001b[0m\u001b[0m\n\u001b[0;32m-> 1382\u001b[0;31m                     return '\\n'.join([self._eval_line(L, allow_use_file=allow_use_file, **kwds)\n\u001b[0m\u001b[1;32m   1383\u001b[0m                                         for L in code.split('\\n') if L != ''])\n\u001b[1;32m   1384\u001b[0m                 \u001b[0;32melse\u001b[0m\u001b[0;34m:\u001b[0m\u001b[0;34m\u001b[0m\u001b[0;34m\u001b[0m\u001b[0m\n",
      "\u001b[0;32m/usr/lib/python3/dist-packages/sage/interfaces/expect.py\u001b[0m in \u001b[0;36m<listcomp>\u001b[0;34m(.0)\u001b[0m\n\u001b[1;32m   1380\u001b[0m                     \u001b[0;32mreturn\u001b[0m \u001b[0mself\u001b[0m\u001b[0;34m.\u001b[0m\u001b[0m_eval_line_using_file\u001b[0m\u001b[0;34m(\u001b[0m\u001b[0mcode\u001b[0m\u001b[0;34m)\u001b[0m\u001b[0;34m\u001b[0m\u001b[0;34m\u001b[0m\u001b[0m\n\u001b[1;32m   1381\u001b[0m                 \u001b[0;32melif\u001b[0m \u001b[0msplit_lines\u001b[0m\u001b[0;34m:\u001b[0m\u001b[0;34m\u001b[0m\u001b[0;34m\u001b[0m\u001b[0m\n\u001b[0;32m-> 1382\u001b[0;31m                     return '\\n'.join([self._eval_line(L, allow_use_file=allow_use_file, **kwds)\n\u001b[0m\u001b[1;32m   1383\u001b[0m                                         for L in code.split('\\n') if L != ''])\n\u001b[1;32m   1384\u001b[0m                 \u001b[0;32melse\u001b[0m\u001b[0;34m:\u001b[0m\u001b[0;34m\u001b[0m\u001b[0;34m\u001b[0m\u001b[0m\n",
      "\u001b[0;32m/usr/lib/python3/dist-packages/sage/interfaces/gap.py\u001b[0m in \u001b[0;36m_eval_line\u001b[0;34m(self, line, allow_use_file, wait_for_prompt, restart_if_needed)\u001b[0m\n\u001b[1;32m    708\u001b[0m \u001b[0;34m\u001b[0m\u001b[0m\n\u001b[1;32m    709\u001b[0m         \u001b[0;32mexcept\u001b[0m \u001b[0mKeyboardInterrupt\u001b[0m\u001b[0;34m:\u001b[0m\u001b[0;34m\u001b[0m\u001b[0;34m\u001b[0m\u001b[0m\n\u001b[0;32m--> 710\u001b[0;31m             \u001b[0mself\u001b[0m\u001b[0;34m.\u001b[0m\u001b[0m_keyboard_interrupt\u001b[0m\u001b[0;34m(\u001b[0m\u001b[0;34m)\u001b[0m\u001b[0;34m\u001b[0m\u001b[0;34m\u001b[0m\u001b[0m\n\u001b[0m\u001b[1;32m    711\u001b[0m             \u001b[0;32mraise\u001b[0m \u001b[0mKeyboardInterrupt\u001b[0m\u001b[0;34m(\u001b[0m\u001b[0;34m\"Ctrl-c pressed while running %s\"\u001b[0m\u001b[0;34m%\u001b[0m\u001b[0mself\u001b[0m\u001b[0;34m)\u001b[0m\u001b[0;34m\u001b[0m\u001b[0;34m\u001b[0m\u001b[0m\n\u001b[1;32m    712\u001b[0m \u001b[0;34m\u001b[0m\u001b[0m\n",
      "\u001b[0;32m/usr/lib/python3/dist-packages/sage/interfaces/gap.py\u001b[0m in \u001b[0;36m_keyboard_interrupt\u001b[0;34m(self)\u001b[0m\n\u001b[1;32m    586\u001b[0m         \"\"\"\n\u001b[1;32m    587\u001b[0m         \u001b[0mself\u001b[0m\u001b[0;34m.\u001b[0m\u001b[0mquit\u001b[0m\u001b[0;34m(\u001b[0m\u001b[0;34m)\u001b[0m\u001b[0;34m\u001b[0m\u001b[0;34m\u001b[0m\u001b[0m\n\u001b[0;32m--> 588\u001b[0;31m         \u001b[0;32mraise\u001b[0m \u001b[0mKeyboardInterrupt\u001b[0m\u001b[0;34m(\u001b[0m\u001b[0;34m\"Ctrl-c pressed while running %s\"\u001b[0m\u001b[0;34m%\u001b[0m\u001b[0mself\u001b[0m\u001b[0;34m)\u001b[0m\u001b[0;34m\u001b[0m\u001b[0;34m\u001b[0m\u001b[0m\n\u001b[0m\u001b[1;32m    589\u001b[0m \u001b[0;34m\u001b[0m\u001b[0m\n\u001b[1;32m    590\u001b[0m     \u001b[0;32mdef\u001b[0m \u001b[0m_eval_line\u001b[0m\u001b[0;34m(\u001b[0m\u001b[0mself\u001b[0m\u001b[0;34m,\u001b[0m \u001b[0mline\u001b[0m\u001b[0;34m,\u001b[0m \u001b[0mallow_use_file\u001b[0m\u001b[0;34m=\u001b[0m\u001b[0;32mTrue\u001b[0m\u001b[0;34m,\u001b[0m \u001b[0mwait_for_prompt\u001b[0m\u001b[0;34m=\u001b[0m\u001b[0;32mTrue\u001b[0m\u001b[0;34m,\u001b[0m \u001b[0mrestart_if_needed\u001b[0m\u001b[0;34m=\u001b[0m\u001b[0;32mTrue\u001b[0m\u001b[0;34m)\u001b[0m\u001b[0;34m:\u001b[0m\u001b[0;34m\u001b[0m\u001b[0;34m\u001b[0m\u001b[0m\n",
      "\u001b[0;31mKeyboardInterrupt\u001b[0m: Ctrl-c pressed while running Gap"
     ]
    },
    {
     "name": "stderr",
     "output_type": "stream",
     "text": [
      "IOStream.flush timed out\n",
      "IOStream.flush timed out\n"
     ]
    }
   ],
   "source": [
    "# n  = 1000\n",
    "random_back_list = []\n",
    "for i in range(1000):\n",
    "    random_back_list.append(random_back_semigroup_ffn(100, 0.5))"
   ]
  },
  {
   "cell_type": "code",
   "execution_count": null,
   "metadata": {},
   "outputs": [
    {
     "data": {
      "image/png": "[encoded data removed]",
      "text/plain": [
       "<Figure size 720x360 with 1 Axes>"
      ]
     },
     "metadata": {
      "needs_background": "light"
     },
     "output_type": "display_data"
    }
   ],
   "source": [
    "plt.hist(embedding_dims(random_back_list), np.arange(0.5, 25.5, 1))\n",
    "plt.xticks(np.arange(0, 25, 1.0))\n",
    "plt.rcParams[\"figure.figsize\"] = (10,5)"
   ]
  },
  {
   "cell_type": "code",
   "execution_count": null,
   "metadata": {},
   "outputs": [
    {
     "data": {
      "image/png": "[encoded data removed]",
      "text/plain": [
       "<Figure size 1440x720 with 1 Axes>"
      ]
     },
     "metadata": {
      "needs_background": "light"
     },
     "output_type": "display_data"
    }
   ],
   "source": [
    "plt.hist([min(semigroup.gens) for semigroup in random_back_list], np.arange(0.5, 48.5, 1))\n",
    "plt.xticks(np.arange(0, 48, 1))\n",
    "# Make the plot bigger\n",
    "plt.rcParams[\"figure.figsize\"] = (10,5)"
   ]
  },
  {
   "cell_type": "code",
   "execution_count": null,
   "metadata": {},
   "outputs": [
    {
     "name": "stdout",
     "output_type": "stream",
     "text": [
      "1000.0\n"
     ]
    }
   ],
   "source": [
    "import math\n",
    "import numpy as np\n",
    "import random\n",
    "\n",
    "n = 1000\n",
    "p = math.sqrt(n) / n\n",
    "\n",
    "list_of_generators = []\n",
    "\n",
    "for i in range(n):\n",
    "    if random.random() < p:\n",
    "        list_of_generators.append(i)\n",
    "\n",
    "\n",
    "# Check if all the sums of 3 elements of the list generate all the numbers between 0 and 99\n",
    "generated = np.zeros(n)\n",
    "\n",
    "for a in list_of_generators:\n",
    "    for b in list_of_generators:\n",
    "        for c in list_of_generators:\n",
    "            generated[(a + b + c) % n] = 1\n",
    "            \n",
    "print(sum(generated))"
   ]
  },
  {
   "cell_type": "code",
   "execution_count": null,
   "metadata": {},
   "outputs": [
    {
     "name": "stdout",
     "output_type": "stream",
     "text": [
      "10000.0\n"
     ]
    }
   ],
   "source": [
    "import math\n",
    "import numpy as np\n",
    "import random\n",
    "\n",
    "n = 10000\n",
    "p = math.sqrt(n) / n\n",
    "\n",
    "list_of_generators = []\n",
    "\n",
    "for i in range(n):\n",
    "    if random.random() < p:\n",
    "        list_of_generators.append(i)\n",
    "\n",
    "\n",
    "# Check if all the sums of 3 elements of the list generate all the numbers between 0 and 99\n",
    "generated = np.zeros(n)\n",
    "\n",
    "for a in list_of_generators:\n",
    "    for b in list_of_generators:\n",
    "        for c in list_of_generators:\n",
    "            generated[(a + b + c) % n] = 1\n",
    "            \n",
    "print(sum(generated))"
   ]
  }
 ],
 "metadata": {
  "kernelspec": {
   "display_name": "SageMath 9.5",
   "language": "sage",
   "name": "sagemath"
  },
  "language_info": {
   "codemirror_mode": {
    "name": "ipython",
    "version": 3
   },
   "file_extension": ".py",
   "mimetype": "text/x-python",
   "name": "python",
   "nbconvert_exporter": "python",
   "pygments_lexer": "ipython3",
   "version": "3.10.12"
  },
  "orig_nbformat": 4
 },
 "nbformat": 4,
 "nbformat_minor": 2
}
